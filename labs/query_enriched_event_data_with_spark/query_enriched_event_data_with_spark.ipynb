{
 "cells": [
  {
   "cell_type": "markdown",
   "metadata": {},
   "source": [
    "# Working with Enriched Events data using Spark SQL\n",
    "\n",
    "In this Lab we'll learn how to work with [Enriched Event Data](https://docs.developers.optimizely.com/web/docs/enriched-events-export) using [PySpark](http://spark.apache.org/docs/latest/api/python/index.html) and [Spark SQL](http://spark.apache.org/sql/).\n",
    "\n",
    "This lab contains a set of simple, useful queries for working with this dataset.  These queries can help you answer questions like\n",
    "- How many visitors were tested in my experiment?\n",
    "- How many \"unique conversions\" of an event were attributed to this variation?\n",
    "- What is the total revenue attributed to this variation?\n",
    "\n",
    "This Lab covers some of the basics of working with event-level experiment data. There are many more useful questions may want to answer with experiment data.  Future tutorials will go deeper on the topic.\n",
    "\n",
    "This guide borrows some initialization code from the [Spark SQL getting started guide](https://spark.apache.org/docs/latest/sql-getting-started.html)."
   ]
  },
  {
   "cell_type": "markdown",
   "metadata": {},
   "source": [
    "## Creating a Spark Session"
   ]
  },
  {
   "cell_type": "code",
   "execution_count": 1,
   "metadata": {},
   "outputs": [],
   "source": [
    "from pyspark.sql import SparkSession\n",
    "\n",
    "spark = SparkSession \\\n",
    "    .builder \\\n",
    "    .appName(\"Python Spark SQL\") \\\n",
    "    .config(\"spark.sql.repl.eagerEval.enabled\", True) \\\n",
    "    .getOrCreate()"
   ]
  },
  {
   "cell_type": "markdown",
   "metadata": {},
   "source": [
    "## Loading enriched event data\n",
    "\n",
    "We'll start by loading decision and conversion data from `/data`."
   ]
  },
  {
   "cell_type": "code",
   "execution_count": 2,
   "metadata": {},
   "outputs": [],
   "source": [
    "spark.read.parquet(\"data/decisions\").createOrReplaceTempView(\"decisions\")\n",
    "spark.read.parquet(\"data/events\").createOrReplaceTempView(\"events\")"
   ]
  },
  {
   "cell_type": "markdown",
   "metadata": {},
   "source": [
    "## Querying our data\n",
    "\n",
    "Now that we've loaded our data, we can query it using the `sql()` function.  Here's an example on our `decisions` view:"
   ]
  },
  {
   "cell_type": "code",
   "execution_count": 3,
   "metadata": {},
   "outputs": [
    {
     "data": {
      "text/html": [
       "<table border='1'>\n",
       "<tr><th>uuid</th><th>timestamp</th><th>process_timestamp</th><th>visitor_id</th><th>session_id</th><th>account_id</th><th>campaign_id</th><th>experiment_id</th><th>variation_id</th><th>attributes</th><th>user_ip</th><th>user_agent</th><th>referer</th><th>is_holdback</th><th>revision</th><th>client_engine</th><th>client_version</th></tr>\n",
       "<tr><td>F4F1EF48-6BC2-415...</td><td>2020-05-25 15:27:...</td><td>2020-05-25 15:29:...</td><td>visitor_159044565...</td><td>-1235693267</td><td>596780373</td><td>18149940006</td><td>18156943409</td><td>18174970251</td><td>[[100,, browserId...</td><td>75.111.77.0</td><td>Mozilla/5.0 (Maci...</td><td>https://app.optim...</td><td>false</td><td>null</td><td>ricky/fakedata.pwned</td><td>1.0.0</td></tr>\n",
       "<tr><td>F76EC706-CEEB-4DD...</td><td>2020-05-25 15:27:...</td><td>2020-05-25 15:28:...</td><td>visitor_159044565...</td><td>1572977898</td><td>596780373</td><td>18149940006</td><td>18156943409</td><td>18112613000</td><td>[[100,, browserId...</td><td>75.111.77.0</td><td>Mozilla/5.0 (Maci...</td><td>https://app.optim...</td><td>false</td><td>null</td><td>ricky/fakedata.pwned</td><td>1.0.0</td></tr>\n",
       "<tr><td>B126B61B-E4CB-481...</td><td>2020-05-25 15:27:...</td><td>2020-05-25 15:29:...</td><td>visitor_159044565...</td><td>-1253110529</td><td>596780373</td><td>18149940006</td><td>18156943409</td><td>18112613000</td><td>[[100,, browserId...</td><td>75.111.77.0</td><td>Mozilla/5.0 (Maci...</td><td>https://app.optim...</td><td>false</td><td>null</td><td>ricky/fakedata.pwned</td><td>1.0.0</td></tr>\n",
       "<tr><td>74182819-6E3E-4CA...</td><td>2020-05-25 15:27:...</td><td>2020-05-25 15:28:...</td><td>visitor_159044565...</td><td>1349491186</td><td>596780373</td><td>18149940006</td><td>18156943409</td><td>18174970251</td><td>[[100,, browserId...</td><td>75.111.77.0</td><td>Mozilla/5.0 (Maci...</td><td>https://app.optim...</td><td>false</td><td>null</td><td>ricky/fakedata.pwned</td><td>1.0.0</td></tr>\n",
       "<tr><td>843CA8A3-DBAB-497...</td><td>2020-05-25 15:27:...</td><td>2020-05-25 15:29:...</td><td>visitor_159044565...</td><td>1203115117</td><td>596780373</td><td>18149940006</td><td>18156943409</td><td>18174970251</td><td>[[100,, browserId...</td><td>75.111.77.0</td><td>Mozilla/5.0 (Maci...</td><td>https://app.optim...</td><td>false</td><td>null</td><td>ricky/fakedata.pwned</td><td>1.0.0</td></tr>\n",
       "</table>\n"
      ],
      "text/plain": [
       "+--------------------+--------------------+--------------------+--------------------+-----------+----------+-----------+-------------+------------+--------------------+-----------+--------------------+--------------------+-----------+--------+--------------------+--------------+\n",
       "|                uuid|           timestamp|   process_timestamp|          visitor_id| session_id|account_id|campaign_id|experiment_id|variation_id|          attributes|    user_ip|          user_agent|             referer|is_holdback|revision|       client_engine|client_version|\n",
       "+--------------------+--------------------+--------------------+--------------------+-----------+----------+-----------+-------------+------------+--------------------+-----------+--------------------+--------------------+-----------+--------+--------------------+--------------+\n",
       "|F4F1EF48-6BC2-415...|2020-05-25 15:27:...|2020-05-25 15:29:...|visitor_159044565...|-1235693267| 596780373|18149940006|  18156943409| 18174970251|[[100,, browserId...|75.111.77.0|Mozilla/5.0 (Maci...|https://app.optim...|      false|    null|ricky/fakedata.pwned|         1.0.0|\n",
       "|F76EC706-CEEB-4DD...|2020-05-25 15:27:...|2020-05-25 15:28:...|visitor_159044565...| 1572977898| 596780373|18149940006|  18156943409| 18112613000|[[100,, browserId...|75.111.77.0|Mozilla/5.0 (Maci...|https://app.optim...|      false|    null|ricky/fakedata.pwned|         1.0.0|\n",
       "|B126B61B-E4CB-481...|2020-05-25 15:27:...|2020-05-25 15:29:...|visitor_159044565...|-1253110529| 596780373|18149940006|  18156943409| 18112613000|[[100,, browserId...|75.111.77.0|Mozilla/5.0 (Maci...|https://app.optim...|      false|    null|ricky/fakedata.pwned|         1.0.0|\n",
       "|74182819-6E3E-4CA...|2020-05-25 15:27:...|2020-05-25 15:28:...|visitor_159044565...| 1349491186| 596780373|18149940006|  18156943409| 18174970251|[[100,, browserId...|75.111.77.0|Mozilla/5.0 (Maci...|https://app.optim...|      false|    null|ricky/fakedata.pwned|         1.0.0|\n",
       "|843CA8A3-DBAB-497...|2020-05-25 15:27:...|2020-05-25 15:29:...|visitor_159044565...| 1203115117| 596780373|18149940006|  18156943409| 18174970251|[[100,, browserId...|75.111.77.0|Mozilla/5.0 (Maci...|https://app.optim...|      false|    null|ricky/fakedata.pwned|         1.0.0|\n",
       "+--------------------+--------------------+--------------------+--------------------+-----------+----------+-----------+-------------+------------+--------------------+-----------+--------------------+--------------------+-----------+--------+--------------------+--------------+"
      ]
     },
     "execution_count": 3,
     "metadata": {},
     "output_type": "execute_result"
    }
   ],
   "source": [
    "spark.sql(\"\"\"\n",
    "    SELECT\n",
    "        *\n",
    "    FROM decisions\n",
    "    LIMIT 5\n",
    "\"\"\")"
   ]
  },
  {
   "cell_type": "markdown",
   "metadata": {},
   "source": [
    "Here's an example on our `events` view:"
   ]
  },
  {
   "cell_type": "code",
   "execution_count": 4,
   "metadata": {},
   "outputs": [
    {
     "data": {
      "text/html": [
       "<table border='1'>\n",
       "<tr><th>uuid</th><th>timestamp</th><th>process_timestamp</th><th>visitor_id</th><th>session_id</th><th>account_id</th><th>experiments</th><th>entity_id</th><th>attributes</th><th>user_ip</th><th>user_agent</th><th>referer</th><th>event_type</th><th>event_name</th><th>revenue</th><th>value</th><th>quantity</th><th>tags</th><th>revision</th><th>client_engine</th><th>client_version</th></tr>\n",
       "<tr><td>235ABEC8-C9A1-448...</td><td>2020-05-24 17:34:...</td><td>2020-05-24 17:41:...</td><td>visitor_159036686...</td><td>-1274245065</td><td>596780373</td><td>[[18128690585, 18...</td><td>15776040040</td><td>[[100,, browserId...</td><td>174.222.139.0</td><td>Mozilla/5.0 (Maci...</td><td>https://app.optim...</td><td>null</td><td>add_to_cart</td><td>1000</td><td>1000.00001</td><td>null</td><td>[]</td><td>null</td><td>ricky/fakedata.pwned</td><td>1.0.0</td></tr>\n",
       "<tr><td>62EDB4C0-C72F-490...</td><td>2020-05-24 17:34:...</td><td>2020-05-24 17:37:...</td><td>visitor_159036686...</td><td>-1274245065</td><td>596780373</td><td>[[18128690585, 18...</td><td>15776040040</td><td>[[100,, browserId...</td><td>174.222.139.0</td><td>Mozilla/5.0 (Maci...</td><td>https://app.optim...</td><td>null</td><td>add_to_cart</td><td>0</td><td>0.0</td><td>null</td><td>[]</td><td>null</td><td>ricky/fakedata.pwned</td><td>1.0.0</td></tr>\n",
       "<tr><td>6CC5EAE5-8C51-4D3...</td><td>2020-05-24 17:34:...</td><td>2020-05-24 17:42:...</td><td>visitor_159036686...</td><td>-1274245065</td><td>596780373</td><td>[[18128690585, 18...</td><td>15776040040</td><td>[[100,, browserId...</td><td>174.222.139.0</td><td>Mozilla/5.0 (Maci...</td><td>https://app.optim...</td><td>null</td><td>add_to_cart</td><td>1000</td><td>1000.00001</td><td>null</td><td>[]</td><td>null</td><td>ricky/fakedata.pwned</td><td>1.0.0</td></tr>\n",
       "<tr><td>16512193-2F2A-4AA...</td><td>2020-05-24 17:34:...</td><td>2020-05-24 17:38:...</td><td>visitor_159036686...</td><td>-1274245065</td><td>596780373</td><td>[[18128690585, 18...</td><td>15776040040</td><td>[[100,, browserId...</td><td>174.222.139.0</td><td>Mozilla/5.0 (Maci...</td><td>https://app.optim...</td><td>null</td><td>add_to_cart</td><td>0</td><td>0.0</td><td>null</td><td>[]</td><td>null</td><td>ricky/fakedata.pwned</td><td>1.0.0</td></tr>\n",
       "<tr><td>C526A693-C963-46C...</td><td>2020-05-24 17:34:...</td><td>2020-05-24 17:39:...</td><td>visitor_159036687...</td><td>2119343889</td><td>596780373</td><td>[[18128690585, 18...</td><td>15776040040</td><td>[[100,, browserId...</td><td>174.222.139.0</td><td>Mozilla/5.0 (Maci...</td><td>https://app.optim...</td><td>null</td><td>add_to_cart</td><td>0</td><td>0.0</td><td>null</td><td>[]</td><td>null</td><td>ricky/fakedata.pwned</td><td>1.0.0</td></tr>\n",
       "</table>\n"
      ],
      "text/plain": [
       "+--------------------+--------------------+--------------------+--------------------+-----------+----------+--------------------+-----------+--------------------+-------------+--------------------+--------------------+----------+-----------+-------+----------+--------+----+--------+--------------------+--------------+\n",
       "|                uuid|           timestamp|   process_timestamp|          visitor_id| session_id|account_id|         experiments|  entity_id|          attributes|      user_ip|          user_agent|             referer|event_type| event_name|revenue|     value|quantity|tags|revision|       client_engine|client_version|\n",
       "+--------------------+--------------------+--------------------+--------------------+-----------+----------+--------------------+-----------+--------------------+-------------+--------------------+--------------------+----------+-----------+-------+----------+--------+----+--------+--------------------+--------------+\n",
       "|235ABEC8-C9A1-448...|2020-05-24 17:34:...|2020-05-24 17:41:...|visitor_159036686...|-1274245065| 596780373|[[18128690585, 18...|15776040040|[[100,, browserId...|174.222.139.0|Mozilla/5.0 (Maci...|https://app.optim...|      null|add_to_cart|   1000|1000.00001|    null|  []|    null|ricky/fakedata.pwned|         1.0.0|\n",
       "|62EDB4C0-C72F-490...|2020-05-24 17:34:...|2020-05-24 17:37:...|visitor_159036686...|-1274245065| 596780373|[[18128690585, 18...|15776040040|[[100,, browserId...|174.222.139.0|Mozilla/5.0 (Maci...|https://app.optim...|      null|add_to_cart|      0|       0.0|    null|  []|    null|ricky/fakedata.pwned|         1.0.0|\n",
       "|6CC5EAE5-8C51-4D3...|2020-05-24 17:34:...|2020-05-24 17:42:...|visitor_159036686...|-1274245065| 596780373|[[18128690585, 18...|15776040040|[[100,, browserId...|174.222.139.0|Mozilla/5.0 (Maci...|https://app.optim...|      null|add_to_cart|   1000|1000.00001|    null|  []|    null|ricky/fakedata.pwned|         1.0.0|\n",
       "|16512193-2F2A-4AA...|2020-05-24 17:34:...|2020-05-24 17:38:...|visitor_159036686...|-1274245065| 596780373|[[18128690585, 18...|15776040040|[[100,, browserId...|174.222.139.0|Mozilla/5.0 (Maci...|https://app.optim...|      null|add_to_cart|      0|       0.0|    null|  []|    null|ricky/fakedata.pwned|         1.0.0|\n",
       "|C526A693-C963-46C...|2020-05-24 17:34:...|2020-05-24 17:39:...|visitor_159036687...| 2119343889| 596780373|[[18128690585, 18...|15776040040|[[100,, browserId...|174.222.139.0|Mozilla/5.0 (Maci...|https://app.optim...|      null|add_to_cart|      0|       0.0|    null|  []|    null|ricky/fakedata.pwned|         1.0.0|\n",
       "+--------------------+--------------------+--------------------+--------------------+-----------+----------+--------------------+-----------+--------------------+-------------+--------------------+--------------------+----------+-----------+-------+----------+--------+----+--------+--------------------+--------------+"
      ]
     },
     "execution_count": 4,
     "metadata": {},
     "output_type": "execute_result"
    }
   ],
   "source": [
    "spark.sql(\"\"\"\n",
    "    SELECT\n",
    "        *\n",
    "    FROM events\n",
    "    LIMIT 5\n",
    "\"\"\")"
   ]
  },
  {
   "cell_type": "markdown",
   "metadata": {},
   "source": [
    "## Useful queries\n",
    "\n",
    "Next we'll cover some simple, useful queries for working with Optimizely's Enriched Event data. \n",
    "\n",
    "These queries are parameterized with the following values:"
   ]
  },
  {
   "cell_type": "code",
   "execution_count": 5,
   "metadata": {},
   "outputs": [],
   "source": [
    "start = \"2020-05-24 00:00:00\"\n",
    "end = \"2020-05-26 23:59:59\""
   ]
  },
  {
   "cell_type": "markdown",
   "metadata": {},
   "source": [
    "### Counting the unique visitors in an Optimizely Web experiment \n",
    "\n",
    "[Optimizely Web]: https://www.optimizely.com/platform/experimentation/\n",
    "[Optimizely Full Stack]: https://docs.developers.optimizely.com/full-stack/docs\n",
    "\n",
    "[Optimizely Web] and [Optimizely Full Stack] experiment results pages count unique visitors in slightly different ways.  \n",
    "\n",
    "Given a particular analysis time window (between `start` and `end`) [Optimizely Web] attributes all visitors who were exposed to a variation at any time between when the experiment started and `end` and sent _any_ event (decision or conversion) to Optimizely between `start` and `end`.\n",
    "\n",
    "The following query captures that attribution logic:"
   ]
  },
  {
   "cell_type": "code",
   "execution_count": 6,
   "metadata": {},
   "outputs": [
    {
     "data": {
      "text/html": [
       "<table border='1'>\n",
       "<tr><th>experiment_id</th><th>variation_id</th><th>Unique visitors (Optimizely Web)</th></tr>\n",
       "<tr><td>18142600572</td><td>18130191769</td><td>972</td></tr>\n",
       "<tr><td>18142600572</td><td>18159011346</td><td>963</td></tr>\n",
       "<tr><td>18156943409</td><td>18112613000</td><td>4487</td></tr>\n",
       "<tr><td>18156943409</td><td>18174970251</td><td>4514</td></tr>\n",
       "</table>\n"
      ],
      "text/plain": [
       "+-------------+------------+--------------------------------+\n",
       "|experiment_id|variation_id|Unique visitors (Optimizely Web)|\n",
       "+-------------+------------+--------------------------------+\n",
       "|  18142600572| 18130191769|                             972|\n",
       "|  18142600572| 18159011346|                             963|\n",
       "|  18156943409| 18112613000|                            4487|\n",
       "|  18156943409| 18174970251|                            4514|\n",
       "+-------------+------------+--------------------------------+"
      ]
     },
     "execution_count": 6,
     "metadata": {},
     "output_type": "execute_result"
    }
   ],
   "source": [
    "# Count the unique visitors from all events (Optimizely Web)\n",
    "\n",
    "spark.sql(f\"\"\"\n",
    "    SELECT \n",
    "        experiment_id,\n",
    "        variation_id,\n",
    "        COUNT (distinct visitor_id) as `Unique visitors (Optimizely Web)`\n",
    "    FROM (\n",
    "        SELECT\n",
    "            exp.experiment_id as experiment_id,\n",
    "            exp.variation_id as variation_id,\n",
    "            visitor_id\n",
    "        FROM events\n",
    "        LATERAL VIEW explode(experiments) t AS exp\n",
    "        WHERE timestamp between '{start}' AND '{end}'\n",
    "        UNION\n",
    "        SELECT\n",
    "            experiment_id,\n",
    "            variation_id,\n",
    "            visitor_id\n",
    "        FROM decisions\n",
    "        WHERE\n",
    "            timestamp between '{start}' AND '{end}'\n",
    "            AND is_holdback = false\n",
    "        )\n",
    "    GROUP BY\n",
    "        experiment_id,\n",
    "        variation_id\n",
    "    ORDER BY\n",
    "        experiment_id ASC,\n",
    "        variation_id ASC\n",
    "\"\"\")"
   ]
  },
  {
   "cell_type": "markdown",
   "metadata": {},
   "source": [
    "**A note on `timestamp` vs `process_timestamp`:** If you're working on re-computing the numbers you see on your [experiment results page](https://help.optimizely.com/Analyze_Results/The_Experiment_Results_page_for_Optimizely_X), it's important to understand the difference between the `timestamp` and `process_timestamp` fields in your Enriched Events data.\n",
    "\n",
    "- `timestamp` contains the time set by the _client_, e.g. the Optimizely Full Stack SDK\n",
    "- `process_timestamp` contains the approximate time that the event payload was received by Optimizely\n",
    "\n",
    "The difference is important because Enriched Event data is partitioned by `process_timestamp`, but Optimizely results are computed using `timestamp`.  This allows clients to send events retroactively, but also means that depending on your implementation you may need to load a wider range of data in order to ensure that you've captured all of the events with a `timestamp` in your desired analysis range."
   ]
  },
  {
   "cell_type": "markdown",
   "metadata": {},
   "source": [
    "### Counting the unique visitors in an Optimizely Full Stack experiment \n",
    "\n",
    "[Optimizely Web]: https://www.optimizely.com/platform/experimentation/\n",
    "[Optimizely Full Stack]: https://docs.developers.optimizely.com/full-stack/docs\n",
    "\n",
    "The [Full Stack][Optimizely Full Stack] attribution model is a little simpler:\n",
    "\n",
    "Given a particular analysis time window (between `start` and `end`) [Full Stack][Optimizely Full Stack] attributes all visitors who were exposed to a variation at any time between `start` and `end`.  We measure this by counting the unique `visitor_id`s in the decisions dataset for that experiment:"
   ]
  },
  {
   "cell_type": "code",
   "execution_count": 7,
   "metadata": {},
   "outputs": [
    {
     "data": {
      "text/html": [
       "<table border='1'>\n",
       "<tr><th>experiment_id</th><th>variation_id</th><th>Unique visitors (Full Stack)</th></tr>\n",
       "<tr><td>18156943409</td><td>18174970251</td><td>4514</td></tr>\n",
       "<tr><td>18156943409</td><td>18112613000</td><td>4487</td></tr>\n",
       "</table>\n"
      ],
      "text/plain": [
       "+-------------+------------+----------------------------+\n",
       "|experiment_id|variation_id|Unique visitors (Full Stack)|\n",
       "+-------------+------------+----------------------------+\n",
       "|  18156943409| 18174970251|                        4514|\n",
       "|  18156943409| 18112613000|                        4487|\n",
       "+-------------+------------+----------------------------+"
      ]
     },
     "execution_count": 7,
     "metadata": {},
     "output_type": "execute_result"
    }
   ],
   "source": [
    "# Count the unique visitors from decisions (Optimizely Full Stack)\n",
    "\n",
    "spark.sql(f\"\"\"\n",
    "    SELECT\n",
    "        experiment_id,\n",
    "        variation_id,\n",
    "        COUNT(distinct visitor_id) as `Unique visitors (Full Stack)`\n",
    "    FROM decisions\n",
    "    WHERE\n",
    "        timestamp between '{start}' AND '{end}'\n",
    "        AND is_holdback = false\n",
    "    GROUP BY\n",
    "        experiment_id,\n",
    "        variation_id\n",
    "\"\"\")"
   ]
  },
  {
   "cell_type": "markdown",
   "metadata": {},
   "source": [
    "### Counting conversions in an Optimizely Web experiment\n",
    "\n",
    "[Optimizely Web]: https://www.optimizely.com/platform/experimentation/\n",
    "[Optimizely Full Stack]: https://docs.developers.optimizely.com/full-stack/docs\n",
    "\n",
    "When it comes to counting conversions, [Optimizely Full Stack] and [Optimizely Web] do things a little differently.\n",
    "\n",
    "Given a particular analysis time window (between `start` and `end`) [Optimizely Web] will attribute an event to a particular variation if the visitor who triggered that event was exposed to the variation at any time prior to that event, _even if it was before the beginning of the analysis time window._\n",
    "\n",
    "Optimizely event data is enriched with a an attribution column, `experiments`, that lists all of the experiments and variations to which an event has been attributed. Since Optimizely Web does not require that a corresponding decision take place during the analysis window, we can use a simple query to count the number of attributed conversions during our analysis window."
   ]
  },
  {
   "cell_type": "code",
   "execution_count": 8,
   "metadata": {},
   "outputs": [
    {
     "data": {
      "text/html": [
       "<table border='1'>\n",
       "<tr><th>experiment_id</th><th>variation_id</th><th>event_name</th><th>Conversion count (Optimizely Web)</th></tr>\n",
       "<tr><td>18142600572</td><td>18130191769</td><td>add_to_cart</td><td>2958</td></tr>\n",
       "<tr><td>18142600572</td><td>18159011346</td><td>add_to_cart</td><td>2919</td></tr>\n",
       "<tr><td>18156943409</td><td>18112613000</td><td>add_to_cart</td><td>2577</td></tr>\n",
       "<tr><td>18156943409</td><td>18174970251</td><td>add_to_cart</td><td>2655</td></tr>\n",
       "</table>\n"
      ],
      "text/plain": [
       "+-------------+------------+-----------+---------------------------------+\n",
       "|experiment_id|variation_id| event_name|Conversion count (Optimizely Web)|\n",
       "+-------------+------------+-----------+---------------------------------+\n",
       "|  18142600572| 18130191769|add_to_cart|                             2958|\n",
       "|  18142600572| 18159011346|add_to_cart|                             2919|\n",
       "|  18156943409| 18112613000|add_to_cart|                             2577|\n",
       "|  18156943409| 18174970251|add_to_cart|                             2655|\n",
       "+-------------+------------+-----------+---------------------------------+"
      ]
     },
     "execution_count": 8,
     "metadata": {},
     "output_type": "execute_result"
    }
   ],
   "source": [
    "# Count the unique conversions of a particular event attributed to an experiment\n",
    "\n",
    "spark.sql(f\"\"\"\n",
    "    SELECT \n",
    "        exp.experiment_id as experiment_id,\n",
    "        exp.variation_id as variation_id,\n",
    "        event_name,\n",
    "        COUNT(1) as `Conversion count (Optimizely Web)`\n",
    "    FROM events\n",
    "    LATERAL VIEW explode(experiments) t AS exp\n",
    "    WHERE \n",
    "        timestamp between '{start}' AND '{end}'\n",
    "    GROUP BY\n",
    "        experiment_id, variation_id, event_name\n",
    "    ORDER BY\n",
    "        experiment_id ASC,\n",
    "        variation_id ASC,\n",
    "        event_name ASC\n",
    "\"\"\")"
   ]
  },
  {
   "cell_type": "markdown",
   "metadata": {},
   "source": [
    "### Counting conversions in an Optimizely Full Stack experiment\n",
    "\n",
    "[Optimizely Web]: https://www.optimizely.com/platform/experimentation/\n",
    "[Optimizely Full Stack]: https://docs.developers.optimizely.com/full-stack/docs\n",
    "\n",
    "Given a particular analysis time window (between `start` and `end`) [Optimizely Full Stack] will attribute an event to a particular variation if the visitor who triggered that event was exposed to the variation prior to that event and _during the analysis window._\n",
    "\n",
    "Since Optimizely Full Stack requires that a corresponding decision take place during the analysis window, the query required to attribute events to experiments and variation is more complex."
   ]
  },
  {
   "cell_type": "code",
   "execution_count": 9,
   "metadata": {},
   "outputs": [
    {
     "data": {
      "text/html": [
       "<table border='1'>\n",
       "<tr><th>experiment_id</th><th>variation_id</th><th>event_name</th><th>count(1)</th></tr>\n",
       "<tr><td>18156943409</td><td>18174970251</td><td>add_to_cart</td><td>2655</td></tr>\n",
       "<tr><td>18156943409</td><td>18112613000</td><td>add_to_cart</td><td>2577</td></tr>\n",
       "</table>\n"
      ],
      "text/plain": [
       "+-------------+------------+-----------+--------+\n",
       "|experiment_id|variation_id| event_name|count(1)|\n",
       "+-------------+------------+-----------+--------+\n",
       "|  18156943409| 18174970251|add_to_cart|    2655|\n",
       "|  18156943409| 18112613000|add_to_cart|    2577|\n",
       "+-------------+------------+-----------+--------+"
      ]
     },
     "execution_count": 9,
     "metadata": {},
     "output_type": "execute_result"
    }
   ],
   "source": [
    "spark.sql(f\"\"\"\n",
    "    SELECT \n",
    "        experiment_id,\n",
    "        variation_id,\n",
    "        event_name,\n",
    "        COUNT (1)\n",
    "    FROM (\n",
    "         SELECT \n",
    "             d.experiment_id,\n",
    "             d.variation_id,\n",
    "             e.event_name,\n",
    "             e.visitor_id\n",
    "         FROM events e\n",
    "         INNER JOIN \n",
    "         (\n",
    "            SELECT \n",
    "                experiment_id,\n",
    "                variation_id,\n",
    "                visitor_id,\n",
    "                MIN(timestamp) as decision_timestamp\n",
    "            FROM decisions\n",
    "            WHERE \n",
    "                timestamp between '{start}' AND '{end}'\n",
    "                AND is_holdback = false\n",
    "            GROUP BY\n",
    "                experiment_id,\n",
    "                variation_id,\n",
    "                visitor_id\n",
    "         ) d \n",
    "         ON e.visitor_id = d.visitor_id\n",
    "         WHERE\n",
    "             e.timestamp  between '{start}' AND '{end}'\n",
    "             AND e.timestamp >= d.decision_timestamp\n",
    "    )\n",
    "    GROUP BY\n",
    "         experiment_id,\n",
    "         variation_id,\n",
    "         event_name\n",
    "\"\"\")"
   ]
  },
  {
   "cell_type": "code",
   "execution_count": null,
   "metadata": {},
   "outputs": [],
   "source": []
  }
 ],
 "metadata": {
  "kernelspec": {
   "display_name": "Python 3",
   "language": "python",
   "name": "python3"
  },
  "language_info": {
   "codemirror_mode": {
    "name": "ipython",
    "version": 3
   },
   "file_extension": ".py",
   "mimetype": "text/x-python",
   "name": "python",
   "nbconvert_exporter": "python",
   "pygments_lexer": "ipython3",
   "version": "3.8.3"
  }
 },
 "nbformat": 4,
 "nbformat_minor": 4
}
