{
 "cells": [
  {
   "cell_type": "markdown",
   "metadata": {},
   "source": [
    "# Computing metrics with event-level experiment data\n",
    "\n",
    "This Lab contains a series of notebooks that transform event-level data collected during an Optimizely experiment into several useful experiment datasets:\n",
    "\n",
    "- **Experiment units**: the individual units (usually website visitors or app users) that are exposed to a control or treatment in the course of an online experiment. \n",
    "- **Experiment events**: the conversion events, such as a button click or a purchase, that was influenced by an experiment. We compute this view by isolating the conversion events triggered during a finite window of time (called the attribution window) after a visitor has been exposed to an experiment treatment.\n",
    "- **Metric observations**: a mapping of experiment units to metric-specific numerical outcomes observed during an experiment\n",
    "\n",
    "In this notebook, we'll walk through an end-to-end workflow for computing a series of metrics with data collected by both Optimizely and a third party during an Optimizely Full Stack experiment."
   ]
  },
  {
   "cell_type": "markdown",
   "metadata": {},
   "source": [
    "## The experiment\n",
    "\n",
    "We'll use simulated data from the following \"experiment\" in this notebook: \n",
    "\n",
    "Attic & Button, a popular imaginary retailer of camera equipment and general electronics, has seen increased shipping times for some of its orders due to logistical difficulties imposed by the COVID-19 pandemic. As a result, customer support call volumes have increased.  In order to inform potential customers and cut down on customer support costs, the company's leadership has decided to add an informative banner to the [atticandbutton.com](http://atticandbutton.com) homepage.\n",
    "\n",
    "In order to measure the impact this banner has on customer support volumes and decide which banner message is most effective, the team at Attic & Button have decided to run an experiment with the following variations:\n",
    "\n",
    "<table>\n",
    "    <tr>\n",
    "        <td>\n",
    "            <img src=\"img/control.png\" alt=\"Control\" style=\"width:100%; padding-left:0px\">\n",
    "        </td>\n",
    "        <td>\n",
    "            <img src=\"img/message_1.png\" alt=\"Message #1\" style=\"width:100%; padding-right:0px\">\n",
    "        </td>\n",
    "        <td>\n",
    "            <img src=\"img/message_2.png\" alt=\"Message #2\" style=\"width:100%; padding-right:0px\">\n",
    "        </td>\n",
    "    </tr>\n",
    "    <tr>\n",
    "        <td style=\"background-color:white; text-align:center\">\n",
    "            \"control\"\n",
    "        </td>\n",
    "        <td style=\"background-color:white; text-align:center\">\n",
    "            \"message_1\"\n",
    "        </td>\n",
    "        <td style=\"background-color:white; text-align:center\">\n",
    "            \"message_2\"\n",
    "        </td>\n",
    "    </tr>\n",
    "</table>"
   ]
  },
  {
   "cell_type": "markdown",
   "metadata": {},
   "source": [
    "## The challenge\n",
    "\n",
    "Attic & Button's call centers are managed by a third party.  This third party shares call data with Attic & Button periodically in a [CSV](https://en.wikipedia.org/wiki/Comma-separated_values) file, making it difficult to track customer support metrics on Optimizely's [Experiment Results Page](https://app.optimizely.com/l/QQbfVyRFQYGq-J57P-3XoQ?previousView=VARIATIONS&variation=email_button&utm_campaign=copy).\n",
    "\n",
    "In this notebook, we'll use Optimizely Enriched Event Data and our third-party call data to compute a variety of metrics for our experiment, including \"Support calls per visitor\" and \"Total call duration per visitor\". "
   ]
  },
  {
   "cell_type": "markdown",
   "metadata": {},
   "source": [
    "## What we're going to do\n",
    "\n",
    "1. Download Optimizely decision and conversion data for our experiment\n",
    "2. Compute \"experiment units\" and \"experiment events\" datasets\n",
    "3. Load customer support call log data compute an \"experiment calls\" dataset \n",
    "4. Compute a set of metrics with our experiment datasets\n",
    "5. Compute sequential p-values and confidence intervals using Optimizely Stats Engine Service\n",
    "6. Render a simple experiment results report"
   ]
  },
  {
   "cell_type": "markdown",
   "metadata": {},
   "source": [
    "## Global parameters\n",
    "\n",
    "The following global parameters are used to control the execution in this notebook.  These parameters may be overridden by setting environment variables prior to launching the notebook, e.g.:\n",
    "\n",
    "```\n",
    "export OPTIMIZELY_DATA_DIR=~/my_analysis_dir\n",
    "```"
   ]
  },
  {
   "cell_type": "code",
   "execution_count": null,
   "metadata": {},
   "outputs": [],
   "source": [
    "import os\n",
    "from getpass import getpass\n",
    "from IPython.display import clear_output\n",
    "\n",
    "# This notebook requires an Optimizely API token.  \n",
    "OPTIMIZELY_API_TOKEN = os.environ.get(\"OPTIMIZELY_API_TOKEN\", \"2:bqZXaNE24MFUlhyGFrKKY9DMA-G02xoou7fR0nQlQ3bT89uvjtF8\")\n",
    "\n",
    "# Uncomment the following block to enable manual API token entry\n",
    "# if OPTIMIZELY_API_TOKEN is None:\n",
    "#    OPTIMIZELY_API_TOKEN = getpass(\"Enter your Optimizely personal API access token:\")\n",
    "\n",
    "# Default path for reading and writing analysis data\n",
    "OPTIMIZELY_DATA_DIR = os.environ.get(\"OPTIMIZELY_DATA_DIR\", \"./covid_test_data\")\n",
    "\n",
    "# Set environment variables\n",
    "# These variables are used by other notebooks and shell scripts invoked\n",
    "# in this notebook\n",
    "%env OPTIMIZELY_DATA_DIR={OPTIMIZELY_DATA_DIR}\n",
    "%env OPTIMIZELY_API_TOKEN={OPTIMIZELY_API_TOKEN}\n",
    "\n",
    "clear_output()"
   ]
  },
  {
   "cell_type": "markdown",
   "metadata": {},
   "source": [
    "## Download Optimizely Enriched Event data\n",
    "\n",
    "This notebook relies (in part) on data downloaded from Optimizely's [Enriched Event Export Service](https://docs.developers.optimizely.com/optimizely-data/docs/enriched-events-export).\n",
    "\n",
    "The default input data for this notebook can be found in the in `covid_test_data` directory.  \n",
    "\n",
    "If you have the [oevents](https://github.com/optimizely/oevents) command line tool installed and accessible in your`PATH` environment variable, you may uncomment the following commands to re-download this data. Note that this will require `OPTIMIZELY_API_TOKEN` to be set to the default value specified above."
   ]
  },
  {
   "cell_type": "markdown",
   "metadata": {},
   "source": [
    "We'll start by download [decision](https://docs.developers.optimizely.com/optimizely-data/docs/enriched-events-data-specification#decisions-2) data collected during our experiment.  Each **decision** captures the moment a visitor was added to our experiment."
   ]
  },
  {
   "cell_type": "code",
   "execution_count": 2,
   "metadata": {},
   "outputs": [
    {
     "name": "stdout",
     "output_type": "stream",
     "text": [
      "download: s3://optimizely-events-data/v1/account_id=596780373/type=decisions/date=2020-09-14/experiment=18786493712/part-00000-accac923-16d5-4105-b8e8-c0f702201dd1.c000.snappy.parquet to covid_test_data/type=decisions/date=2020-09-14/experiment=18786493712/part-00000-accac923-16d5-4105-b8e8-c0f702201dd1.c000.snappy.parquet\n"
     ]
    }
   ],
   "source": [
    "!oevents load --type decisions --experiment 18786493712 --date 2020-09-14"
   ]
  },
  {
   "cell_type": "markdown",
   "metadata": {},
   "source": [
    "Next we'll download [conversion](https://docs.developers.optimizely.com/optimizely-data/docs/enriched-events-data-specification#conversions-2) data collected during our experiment.  Each **conversion event** captures the moment a visitor took some action on our website, e.g. viewing our homepage, adding an item to their shopping cart, or making a purchase."
   ]
  },
  {
   "cell_type": "code",
   "execution_count": 3,
   "metadata": {},
   "outputs": [
    {
     "name": "stdout",
     "output_type": "stream",
     "text": [
      "download: s3://optimizely-events-data/v1/account_id=596780373/type=events/date=2020-09-14/_SUCCESS to covid_test_data/type=events/date=2020-09-14/_SUCCESS\n",
      "download: s3://optimizely-events-data/v1/account_id=596780373/type=events/date=2020-09-14/event=add_to_cart/part-00000-6bfb2530-7428-4aa2-b8b1-8cfc971adcbe.c000.snappy.parquet to covid_test_data/type=events/date=2020-09-14/event=add_to_cart/part-00000-6bfb2530-7428-4aa2-b8b1-8cfc971adcbe.c000.snappy.parquet\n",
      "download: s3://optimizely-events-data/v1/account_id=596780373/type=events/date=2020-09-14/event=purchase/part-00000-6bfb2530-7428-4aa2-b8b1-8cfc971adcbe.c000.snappy.parquet to covid_test_data/type=events/date=2020-09-14/event=purchase/part-00000-6bfb2530-7428-4aa2-b8b1-8cfc971adcbe.c000.snappy.parquet\n",
      "download: s3://optimizely-events-data/v1/account_id=596780373/type=events/date=2020-09-14/event=detail_page_view/part-00000-6bfb2530-7428-4aa2-b8b1-8cfc971adcbe.c000.snappy.parquet to covid_test_data/type=events/date=2020-09-14/event=detail_page_view/part-00000-6bfb2530-7428-4aa2-b8b1-8cfc971adcbe.c000.snappy.parquet\n",
      "download: s3://optimizely-events-data/v1/account_id=596780373/type=events/date=2020-09-14/event=homepage_view/part-00000-6bfb2530-7428-4aa2-b8b1-8cfc971adcbe.c000.snappy.parquet to covid_test_data/type=events/date=2020-09-14/event=homepage_view/part-00000-6bfb2530-7428-4aa2-b8b1-8cfc971adcbe.c000.snappy.parquet\n"
     ]
    }
   ],
   "source": [
    "!oevents load --type events --date 2020-09-14"
   ]
  },
  {
   "cell_type": "markdown",
   "metadata": {},
   "source": [
    "## Load Decision and Conversion Data into Spark Dataframes\n",
    "\n",
    "We'll use [PySpark](https://spark.apache.org/docs/latest/api/python/index.html) to transform data in this notebook. We'll start by creating a new local Spark session."
   ]
  },
  {
   "cell_type": "code",
   "execution_count": 4,
   "metadata": {},
   "outputs": [],
   "source": [
    "from pyspark.sql import SparkSession\n",
    "\n",
    "num_cores = 1\n",
    "driver_ip = \"127.0.0.1\"\n",
    "driver_memory_gb = 1\n",
    "executor_memory_gb = 2\n",
    "\n",
    "# Create a local Spark session\n",
    "spark = SparkSession \\\n",
    "    .builder \\\n",
    "    .appName(\"Python Spark SQL\") \\\n",
    "    .config(f\"local[{num_cores}]\") \\\n",
    "    .config(\"spark.sql.repl.eagerEval.enabled\", True) \\\n",
    "    .config(\"spark.sql.repl.eagerEval.truncate\", 120) \\\n",
    "    .config(\"spark.driver.bindAddress\", driver_ip) \\\n",
    "    .config(\"spark.driver.host\", driver_ip) \\\n",
    "    .config(\"spark.driver.memory\", f\"{driver_memory_gb}g\") \\\n",
    "    .config(\"spark.executor.memory\", f\"{executor_memory_gb}g\") \\\n",
    "    .getOrCreate()"
   ]
  },
  {
   "cell_type": "markdown",
   "metadata": {},
   "source": [
    "Next we'll load our decision data into a Spark dataframe:"
   ]
  },
  {
   "cell_type": "code",
   "execution_count": 5,
   "metadata": {},
   "outputs": [],
   "source": [
    "import os\n",
    "from lib import util\n",
    "\n",
    "decisions_dir = os.path.join(OPTIMIZELY_DATA_DIR, \"type=decisions\")\n",
    "\n",
    "# load enriched decision data from disk into a new Spark dataframe\n",
    "decisions = util.read_parquet_data_from_disk(\n",
    "    spark_session=spark,\n",
    "    data_path=decisions_dir,\n",
    "    view_name=\"decisions\"\n",
    ")"
   ]
  },
  {
   "cell_type": "markdown",
   "metadata": {},
   "source": [
    "Now we can write SQL-style queries against our `enriched_decisions` view.  Let's use a simple query to examine our data:"
   ]
  },
  {
   "cell_type": "code",
   "execution_count": 6,
   "metadata": {},
   "outputs": [
    {
     "data": {
      "text/html": [
       "<table border='1'>\n",
       "<tr><th>uuid</th><th>timestamp</th><th>process_timestamp</th><th>visitor_id</th><th>session_id</th><th>account_id</th><th>campaign_id</th><th>experiment_id</th><th>variation_id</th><th>attributes</th><th>user_ip</th><th>user_agent</th><th>referer</th><th>is_holdback</th><th>revision</th><th>client_engine</th><th>client_version</th><th>date</th><th>experiment</th></tr>\n",
       "<tr><td>0244b48f-cd2c-45fe-86b5-accb0864aa9f</td><td>2020-09-14 11:38:10.022</td><td>2020-09-14 11:39:09.401</td><td>user_9763</td><td>-1361007105</td><td>596780373</td><td>18811053836</td><td>18786493712</td><td>18802093142</td><td>[[$opt_bot_filtering, $opt_bot_filtering, custom, false], [$opt_enrich_decisions, $opt_enrich_decisions, custom, true...</td><td>162.227.140.251</td><td>python-requests/2.24.0</td><td>null</td><td>false</td><td>99</td><td>python-sdk</td><td>3.5.2</td><td>2020-09-14</td><td>18786493712</td></tr>\n",
       "<tr><td>07c73a10-0575-4990-b8d3-c5750f5b6fa1</td><td>2020-09-14 11:35:00.323</td><td>2020-09-14 11:35:07.792</td><td>user_7889</td><td>-12601611</td><td>596780373</td><td>18811053836</td><td>18786493712</td><td>18818611832</td><td>[[$opt_bot_filtering, $opt_bot_filtering, custom, false], [$opt_enrich_decisions, $opt_enrich_decisions, custom, true...</td><td>162.227.140.251</td><td>python-requests/2.24.0</td><td>null</td><td>false</td><td>99</td><td>python-sdk</td><td>3.5.2</td><td>2020-09-14</td><td>18786493712</td></tr>\n",
       "<tr><td>07c9d321-c336-49f4-86d0-ff6fed1d5b49</td><td>2020-09-14 11:29:21.83</td><td>2020-09-14 11:29:28.71</td><td>user_4546</td><td>1353967797</td><td>596780373</td><td>18811053836</td><td>18786493712</td><td>18802093142</td><td>[[$opt_bot_filtering, $opt_bot_filtering, custom, false], [$opt_enrich_decisions, $opt_enrich_decisions, custom, true...</td><td>162.227.140.251</td><td>python-requests/2.24.0</td><td>null</td><td>false</td><td>99</td><td>python-sdk</td><td>3.5.2</td><td>2020-09-14</td><td>18786493712</td></tr>\n",
       "</table>\n"
      ],
      "text/plain": [
       "+------------------------------------+-----------------------+-----------------------+----------+-----------+----------+-----------+-------------+------------+------------------------------------------------------------------------------------------------------------------------+---------------+----------------------+-------+-----------+--------+-------------+--------------+----------+-----------+\n",
       "|                                uuid|              timestamp|      process_timestamp|visitor_id| session_id|account_id|campaign_id|experiment_id|variation_id|                                                                                                              attributes|        user_ip|            user_agent|referer|is_holdback|revision|client_engine|client_version|      date| experiment|\n",
       "+------------------------------------+-----------------------+-----------------------+----------+-----------+----------+-----------+-------------+------------+------------------------------------------------------------------------------------------------------------------------+---------------+----------------------+-------+-----------+--------+-------------+--------------+----------+-----------+\n",
       "|0244b48f-cd2c-45fe-86b5-accb0864aa9f|2020-09-14 11:38:10.022|2020-09-14 11:39:09.401| user_9763|-1361007105| 596780373|18811053836|  18786493712| 18802093142|[[$opt_bot_filtering, $opt_bot_filtering, custom, false], [$opt_enrich_decisions, $opt_enrich_decisions, custom, true...|162.227.140.251|python-requests/2.24.0|   null|      false|      99|   python-sdk|         3.5.2|2020-09-14|18786493712|\n",
       "|07c73a10-0575-4990-b8d3-c5750f5b6fa1|2020-09-14 11:35:00.323|2020-09-14 11:35:07.792| user_7889|  -12601611| 596780373|18811053836|  18786493712| 18818611832|[[$opt_bot_filtering, $opt_bot_filtering, custom, false], [$opt_enrich_decisions, $opt_enrich_decisions, custom, true...|162.227.140.251|python-requests/2.24.0|   null|      false|      99|   python-sdk|         3.5.2|2020-09-14|18786493712|\n",
       "|07c9d321-c336-49f4-86d0-ff6fed1d5b49| 2020-09-14 11:29:21.83| 2020-09-14 11:29:28.71| user_4546| 1353967797| 596780373|18811053836|  18786493712| 18802093142|[[$opt_bot_filtering, $opt_bot_filtering, custom, false], [$opt_enrich_decisions, $opt_enrich_decisions, custom, true...|162.227.140.251|python-requests/2.24.0|   null|      false|      99|   python-sdk|         3.5.2|2020-09-14|18786493712|\n",
       "+------------------------------------+-----------------------+-----------------------+----------+-----------+----------+-----------+-------------+------------+------------------------------------------------------------------------------------------------------------------------+---------------+----------------------+-------+-----------+--------+-------------+--------------+----------+-----------+"
      ]
     },
     "execution_count": 6,
     "metadata": {},
     "output_type": "execute_result"
    }
   ],
   "source": [
    "spark.sql(\"\"\"\n",
    "    SELECT\n",
    "        *\n",
    "    FROM\n",
    "        decisions\n",
    "    LIMIT 3\n",
    "\"\"\")"
   ]
  },
  {
   "cell_type": "markdown",
   "metadata": {},
   "source": [
    "Next we'll load conversion data:"
   ]
  },
  {
   "cell_type": "code",
   "execution_count": 7,
   "metadata": {},
   "outputs": [],
   "source": [
    "# oevents downloads conversion data into the type=events subdirectory\n",
    "conversions_dir = os.path.join(OPTIMIZELY_DATA_DIR, \"type=events\")\n",
    "\n",
    "# load conversion data from disk into a new Spark dataframe\n",
    "converions = util.read_parquet_data_from_disk(\n",
    "    spark_session=spark,\n",
    "    data_path=conversions_dir,\n",
    "    view_name=\"events\"\n",
    ")"
   ]
  },
  {
   "cell_type": "markdown",
   "metadata": {},
   "source": [
    "Let's take a look at our data:"
   ]
  },
  {
   "cell_type": "code",
   "execution_count": 8,
   "metadata": {},
   "outputs": [
    {
     "data": {
      "text/html": [
       "<table border='1'>\n",
       "<tr><th>uuid</th><th>timestamp</th><th>process_timestamp</th><th>visitor_id</th><th>session_id</th><th>account_id</th><th>experiments</th><th>entity_id</th><th>attributes</th><th>user_ip</th><th>user_agent</th><th>referer</th><th>event_type</th><th>event_name</th><th>revenue</th><th>value</th><th>quantity</th><th>tags</th><th>revision</th><th>client_engine</th><th>client_version</th><th>date</th><th>event</th></tr>\n",
       "<tr><td>01d16e55-c276-4147-b2ba-586ec55d18ee</td><td>2020-09-14 10:45:01.756</td><td>2020-09-14 10:45:20.535</td><td>user_7468</td><td>-294926545</td><td>596780373</td><td>[[18803622799, 18805683213, 18774763028, false]]</td><td>18803874034</td><td>[[$opt_bot_filtering, $opt_bot_filtering, custom, false], [$opt_enrich_decisions, $opt_enrich_decisions, custom, true...</td><td>162.227.140.251</td><td>python-requests/2.24.0</td><td>null</td><td>null</td><td>detail_page_view</td><td>0</td><td>null</td><td>0</td><td>[product -&gt; android, sku -&gt; 456, category -&gt; electronics]</td><td>91</td><td>python-sdk</td><td>3.5.2</td><td>2020-09-14</td><td>detail_page_view</td></tr>\n",
       "<tr><td>0579989e-cf42-4f09-9994-35720ab4084e</td><td>2020-09-14 11:37:19.081</td><td>2020-09-14 11:38:18.692</td><td>user_9260</td><td>-1708947236</td><td>596780373</td><td>[[18803622799, 18805683213, 18821642160, false], [18811053836, 18786493712, 18802093142, false]]</td><td>15776040040</td><td>[[$opt_bot_filtering, $opt_bot_filtering, custom, false], [$opt_enrich_decisions, $opt_enrich_decisions, custom, true...</td><td>162.227.140.251</td><td>python-requests/2.24.0</td><td>null</td><td>null</td><td>add_to_cart</td><td>0</td><td>null</td><td>0</td><td>[product -&gt; android, price -&gt; 799.99, sku -&gt; 456, category -&gt; electronics]</td><td>99</td><td>python-sdk</td><td>3.5.2</td><td>2020-09-14</td><td>add_to_cart</td></tr>\n",
       "<tr><td>05c15bf4-f3a1-47e1-85ee-46c64b92caf8</td><td>2020-09-14 10:37:45.575</td><td>2020-09-14 10:38:12.498</td><td>user_3168</td><td>1630703036</td><td>596780373</td><td>[[18803622799, 18805683213, 18774763028, false]]</td><td>18822540003</td><td>[[$opt_bot_filtering, $opt_bot_filtering, custom, false], [$opt_enrich_decisions, $opt_enrich_decisions, custom, true...</td><td>162.227.140.251</td><td>python-requests/2.24.0</td><td>null</td><td>null</td><td>homepage_view</td><td>0</td><td>null</td><td>0</td><td>[]</td><td>91</td><td>python-sdk</td><td>3.5.2</td><td>2020-09-14</td><td>homepage_view</td></tr>\n",
       "</table>\n"
      ],
      "text/plain": [
       "+------------------------------------+-----------------------+-----------------------+----------+-----------+----------+------------------------------------------------------------------------------------------------+-----------+------------------------------------------------------------------------------------------------------------------------+---------------+----------------------+-------+----------+----------------+-------+-----+--------+--------------------------------------------------------------------------+--------+-------------+--------------+----------+----------------+\n",
       "|                                uuid|              timestamp|      process_timestamp|visitor_id| session_id|account_id|                                                                                     experiments|  entity_id|                                                                                                              attributes|        user_ip|            user_agent|referer|event_type|      event_name|revenue|value|quantity|                                                                      tags|revision|client_engine|client_version|      date|           event|\n",
       "+------------------------------------+-----------------------+-----------------------+----------+-----------+----------+------------------------------------------------------------------------------------------------+-----------+------------------------------------------------------------------------------------------------------------------------+---------------+----------------------+-------+----------+----------------+-------+-----+--------+--------------------------------------------------------------------------+--------+-------------+--------------+----------+----------------+\n",
       "|01d16e55-c276-4147-b2ba-586ec55d18ee|2020-09-14 10:45:01.756|2020-09-14 10:45:20.535| user_7468| -294926545| 596780373|                                                [[18803622799, 18805683213, 18774763028, false]]|18803874034|[[$opt_bot_filtering, $opt_bot_filtering, custom, false], [$opt_enrich_decisions, $opt_enrich_decisions, custom, true...|162.227.140.251|python-requests/2.24.0|   null|      null|detail_page_view|      0| null|       0|                 [product -> android, sku -> 456, category -> electronics]|      91|   python-sdk|         3.5.2|2020-09-14|detail_page_view|\n",
       "|0579989e-cf42-4f09-9994-35720ab4084e|2020-09-14 11:37:19.081|2020-09-14 11:38:18.692| user_9260|-1708947236| 596780373|[[18803622799, 18805683213, 18821642160, false], [18811053836, 18786493712, 18802093142, false]]|15776040040|[[$opt_bot_filtering, $opt_bot_filtering, custom, false], [$opt_enrich_decisions, $opt_enrich_decisions, custom, true...|162.227.140.251|python-requests/2.24.0|   null|      null|     add_to_cart|      0| null|       0|[product -> android, price -> 799.99, sku -> 456, category -> electronics]|      99|   python-sdk|         3.5.2|2020-09-14|     add_to_cart|\n",
       "|05c15bf4-f3a1-47e1-85ee-46c64b92caf8|2020-09-14 10:37:45.575|2020-09-14 10:38:12.498| user_3168| 1630703036| 596780373|                                                [[18803622799, 18805683213, 18774763028, false]]|18822540003|[[$opt_bot_filtering, $opt_bot_filtering, custom, false], [$opt_enrich_decisions, $opt_enrich_decisions, custom, true...|162.227.140.251|python-requests/2.24.0|   null|      null|   homepage_view|      0| null|       0|                                                                        []|      91|   python-sdk|         3.5.2|2020-09-14|   homepage_view|\n",
       "+------------------------------------+-----------------------+-----------------------+----------+-----------+----------+------------------------------------------------------------------------------------------------+-----------+------------------------------------------------------------------------------------------------------------------------+---------------+----------------------+-------+----------+----------------+-------+-----+--------+--------------------------------------------------------------------------+--------+-------------+--------------+----------+----------------+"
      ]
     },
     "execution_count": 8,
     "metadata": {},
     "output_type": "execute_result"
    }
   ],
   "source": [
    "spark.sql(\"\"\"\n",
    "    SELECT\n",
    "        *\n",
    "    FROM\n",
    "        events\n",
    "    LIMIT 3\n",
    "\"\"\")"
   ]
  },
  {
   "cell_type": "markdown",
   "metadata": {},
   "source": [
    "## Compute some useful intermediate experiment datasets\n",
    "\n",
    "In this section, we'll compute three useful intermediate experiment datasets:\n",
    "\n",
    "1. Enriched decisions - Optimizely [decision](https://docs.developers.optimizely.com/optimizely-data/docs/enriched-events-data-specification#decisions-2) data enriched with human-readable experiment and variation names.\n",
    "2. Experiment Units - the individual units (usually website visitors or app users) that are exposed to a control or treatment in the course of a digital experiment.\n",
    "3. Experiment Events - conversion events, such as a button click or a purchase, that were influenced by a digital experiment.\n",
    "\n",
    "The following diagram illustrates how these datasets are used to compute _metric observations_ for our experiment:\n",
    "\n",
    "![Transformations](img/transformations.png)"
   ]
  },
  {
   "cell_type": "markdown",
   "metadata": {},
   "source": [
    "### Enriched decisions\n",
    "\n",
    "First we'll use Optimizely's [Experiment API](https://library.optimizely.com/docs/api/app/v2/index.html#operation/get_experiment) to enrich our decision data with experiment and variation names.  This step makes it easier to build human-readable experiment reports with this data, as we will see below.\n",
    "\n",
    "The code for enriching decision data can be found in the `enriching_decision_data.ipynb` notebook in this lab directory."
   ]
  },
  {
   "cell_type": "code",
   "execution_count": 9,
   "metadata": {},
   "outputs": [
    {
     "name": "stdout",
     "output_type": "stream",
     "text": [
      "Successfully authenticated to Optimizely.\n",
      "Found these experiment IDs in the loaded decision data:\n",
      "    18786493712\n"
     ]
    }
   ],
   "source": [
    "%run ./enriching_decision_data.ipynb"
   ]
  },
  {
   "cell_type": "markdown",
   "metadata": {},
   "source": [
    "### Experiment Units\n",
    "\n",
    "**Experiment units** are the individual units that are exposed to a control or treatment in the course of an online experiment.  In most online experiments, subjects are website visitors or app users. However, depending on your experiment design, treatments may also be applied to individual user sessions, service requests, search queries, etc. \n",
    "\n",
    "<table>\n",
    "    <tr>\n",
    "        <td>\n",
    "            <img src=\"img/transformations_1.png\" alt=\"Experiment Units\" style=\"width:100%; padding-left:0px\">\n",
    "        </td>\n",
    "        <td>\n",
    "            <img src=\"img/tables_1.png\" alt=\"Experiment Units\" style=\"width:100%; padding-left:0px\">\n",
    "        </td>\n",
    "    </tr>\n",
    "</table>"
   ]
  },
  {
   "cell_type": "code",
   "execution_count": 10,
   "metadata": {},
   "outputs": [],
   "source": [
    "experiment_units = spark.sql(f\"\"\"\n",
    "    SELECT\n",
    "        *\n",
    "    FROM (\n",
    "        SELECT\n",
    "            *,\n",
    "            RANK() OVER (PARTITION BY experiment_id, visitor_id ORDER BY timestamp ASC) AS rnk\n",
    "        FROM\n",
    "            enriched_decisions\n",
    "    )\n",
    "    WHERE\n",
    "        rnk = 1\n",
    "    ORDER BY timestamp ASC\n",
    "\"\"\").drop(\"rnk\")\n",
    "experiment_units.createOrReplaceTempView(\"experiment_units\")"
   ]
  },
  {
   "cell_type": "markdown",
   "metadata": {},
   "source": [
    "Let's examine our experiment unit dataset:"
   ]
  },
  {
   "cell_type": "code",
   "execution_count": 11,
   "metadata": {},
   "outputs": [
    {
     "data": {
      "text/html": [
       "<table border='1'>\n",
       "<tr><th>visitor_id</th><th>experiment_name</th><th>variation_name</th><th>timestamp</th></tr>\n",
       "<tr><td>user_0</td><td>covid_messaging_experiment</td><td>control</td><td>2020-09-14 11:21:40.177</td></tr>\n",
       "<tr><td>user_1</td><td>covid_messaging_experiment</td><td>control</td><td>2020-09-14 11:21:40.279</td></tr>\n",
       "<tr><td>user_2</td><td>covid_messaging_experiment</td><td>control</td><td>2020-09-14 11:21:40.381</td></tr>\n",
       "</table>\n"
      ],
      "text/plain": [
       "+----------+--------------------------+--------------+-----------------------+\n",
       "|visitor_id|           experiment_name|variation_name|              timestamp|\n",
       "+----------+--------------------------+--------------+-----------------------+\n",
       "|    user_0|covid_messaging_experiment|       control|2020-09-14 11:21:40.177|\n",
       "|    user_1|covid_messaging_experiment|       control|2020-09-14 11:21:40.279|\n",
       "|    user_2|covid_messaging_experiment|       control|2020-09-14 11:21:40.381|\n",
       "+----------+--------------------------+--------------+-----------------------+"
      ]
     },
     "execution_count": 11,
     "metadata": {},
     "output_type": "execute_result"
    }
   ],
   "source": [
    "spark.sql(\"\"\"\n",
    "    SELECT\n",
    "        visitor_id,\n",
    "        experiment_name,\n",
    "        variation_name,\n",
    "        timestamp\n",
    "    FROM\n",
    "        experiment_units\n",
    "    LIMIT 3\n",
    "\"\"\")"
   ]
  },
  {
   "cell_type": "markdown",
   "metadata": {},
   "source": [
    "Let's count the number of visitors in each experiment variation:"
   ]
  },
  {
   "cell_type": "code",
   "execution_count": 12,
   "metadata": {},
   "outputs": [
    {
     "data": {
      "text/html": [
       "<table border='1'>\n",
       "<tr><th>experiment_name</th><th>variation_name</th><th>unit_count</th></tr>\n",
       "<tr><td>covid_messaging_experiment</td><td>control</td><td>3304</td></tr>\n",
       "<tr><td>covid_messaging_experiment</td><td>message_1</td><td>3367</td></tr>\n",
       "<tr><td>covid_messaging_experiment</td><td>message_2</td><td>3329</td></tr>\n",
       "</table>\n"
      ],
      "text/plain": [
       "+--------------------------+--------------+----------+\n",
       "|           experiment_name|variation_name|unit_count|\n",
       "+--------------------------+--------------+----------+\n",
       "|covid_messaging_experiment|       control|      3304|\n",
       "|covid_messaging_experiment|     message_1|      3367|\n",
       "|covid_messaging_experiment|     message_2|      3329|\n",
       "+--------------------------+--------------+----------+"
      ]
     },
     "execution_count": 12,
     "metadata": {},
     "output_type": "execute_result"
    }
   ],
   "source": [
    "spark.sql(\"\"\"\n",
    "    SELECT \n",
    "        experiment_name,\n",
    "        variation_name,\n",
    "        count(*) as unit_count\n",
    "    FROM \n",
    "        experiment_units\n",
    "    GROUP BY \n",
    "        experiment_name,\n",
    "        variation_name\n",
    "    ORDER BY\n",
    "        experiment_name ASC,\n",
    "        variation_name ASC\n",
    "\"\"\")"
   ]
  },
  {
   "cell_type": "markdown",
   "metadata": {},
   "source": [
    "### Experiment Events\n",
    "\n",
    "An **experiment event** is an event, such as a button click or a purchase, that was influenced by an experiment.  We compute this view by isolating the conversion events triggered during a finite window of time (called the _attribution window_) after a visitor has been exposed to an experiment treatment.\n",
    "\n",
    "<table>\n",
    "    <tr>\n",
    "        <td>\n",
    "            <img src=\"img/transformations_2.png\" alt=\"Experiment Units\" style=\"width:100%; padding-left:0px\">\n",
    "        </td>\n",
    "        <td>\n",
    "            <img src=\"img/tables_2.png\" alt=\"Experiment Units\" style=\"width:100%; padding-left:0px\">\n",
    "        </td>\n",
    "    </tr>\n",
    "</table>"
   ]
  },
  {
   "cell_type": "code",
   "execution_count": 13,
   "metadata": {},
   "outputs": [],
   "source": [
    "# Create the experiment_events view\n",
    "experiment_events = spark.sql(f\"\"\"\n",
    "    SELECT\n",
    "        u.experiment_id,\n",
    "        u.experiment_name,\n",
    "        u.variation_id,\n",
    "        u.variation_name,\n",
    "        e.*\n",
    "    FROM\n",
    "        experiment_units u INNER JOIN events e ON u.visitor_id = e.visitor_id\n",
    "    WHERE\n",
    "        e.timestamp BETWEEN u.timestamp AND (u.timestamp + INTERVAL 48 HOURS)\n",
    "\"\"\")\n",
    "experiment_events.createOrReplaceTempView(\"experiment_events\")"
   ]
  },
  {
   "cell_type": "markdown",
   "metadata": {},
   "source": [
    "Let's examine our Experiment Events dataset:"
   ]
  },
  {
   "cell_type": "code",
   "execution_count": 14,
   "metadata": {},
   "outputs": [
    {
     "data": {
      "text/html": [
       "<table border='1'>\n",
       "<tr><th>timestamp</th><th>visitor_id</th><th>experiment_name</th><th>variation_name</th><th>event_name</th><th>tags</th><th>revenue</th></tr>\n",
       "<tr><td>2020-09-14 11:23:50.677</td><td>user_1283</td><td>covid_messaging_experiment</td><td>control</td><td>homepage_view</td><td>[]</td><td>0</td></tr>\n",
       "<tr><td>2020-09-14 11:23:50.883</td><td>user_1285</td><td>covid_messaging_experiment</td><td>message_1</td><td>homepage_view</td><td>[]</td><td>0</td></tr>\n",
       "<tr><td>2020-09-14 11:24:03.368</td><td>user_1408</td><td>covid_messaging_experiment</td><td>message_2</td><td>homepage_view</td><td>[]</td><td>0</td></tr>\n",
       "<tr><td>2020-09-14 11:24:21.053</td><td>user_1582</td><td>covid_messaging_experiment</td><td>message_1</td><td>homepage_view</td><td>[]</td><td>0</td></tr>\n",
       "<tr><td>2020-09-14 11:24:21.053</td><td>user_1582</td><td>covid_messaging_experiment</td><td>message_1</td><td>detail_page_view</td><td>[product -&gt; iphone, sku -&gt; 123, category -&gt; electronics]</td><td>0</td></tr>\n",
       "<tr><td>2020-09-14 11:24:21.053</td><td>user_1582</td><td>covid_messaging_experiment</td><td>message_1</td><td>detail_page_view</td><td>[product -&gt; android, sku -&gt; 456, category -&gt; electronics]</td><td>0</td></tr>\n",
       "<tr><td>2020-09-14 11:24:21.053</td><td>user_1582</td><td>covid_messaging_experiment</td><td>message_1</td><td>detail_page_view</td><td>[product -&gt; phone case, sku -&gt; 789, category -&gt; accessories]</td><td>0</td></tr>\n",
       "<tr><td>2020-09-14 11:21:41.911</td><td>user_17</td><td>covid_messaging_experiment</td><td>message_1</td><td>homepage_view</td><td>[]</td><td>0</td></tr>\n",
       "<tr><td>2020-09-14 11:24:37.315</td><td>user_1742</td><td>covid_messaging_experiment</td><td>message_2</td><td>homepage_view</td><td>[]</td><td>0</td></tr>\n",
       "<tr><td>2020-09-14 11:24:56.09</td><td>user_1927</td><td>covid_messaging_experiment</td><td>message_1</td><td>detail_page_view</td><td>[product -&gt; android, sku -&gt; 456, category -&gt; electronics]</td><td>0</td></tr>\n",
       "</table>\n"
      ],
      "text/plain": [
       "+-----------------------+----------+--------------------------+--------------+----------------+------------------------------------------------------------+-------+\n",
       "|              timestamp|visitor_id|           experiment_name|variation_name|      event_name|                                                        tags|revenue|\n",
       "+-----------------------+----------+--------------------------+--------------+----------------+------------------------------------------------------------+-------+\n",
       "|2020-09-14 11:23:50.677| user_1283|covid_messaging_experiment|       control|   homepage_view|                                                          []|      0|\n",
       "|2020-09-14 11:23:50.883| user_1285|covid_messaging_experiment|     message_1|   homepage_view|                                                          []|      0|\n",
       "|2020-09-14 11:24:03.368| user_1408|covid_messaging_experiment|     message_2|   homepage_view|                                                          []|      0|\n",
       "|2020-09-14 11:24:21.053| user_1582|covid_messaging_experiment|     message_1|   homepage_view|                                                          []|      0|\n",
       "|2020-09-14 11:24:21.053| user_1582|covid_messaging_experiment|     message_1|detail_page_view|    [product -> iphone, sku -> 123, category -> electronics]|      0|\n",
       "|2020-09-14 11:24:21.053| user_1582|covid_messaging_experiment|     message_1|detail_page_view|   [product -> android, sku -> 456, category -> electronics]|      0|\n",
       "|2020-09-14 11:24:21.053| user_1582|covid_messaging_experiment|     message_1|detail_page_view|[product -> phone case, sku -> 789, category -> accessories]|      0|\n",
       "|2020-09-14 11:21:41.911|   user_17|covid_messaging_experiment|     message_1|   homepage_view|                                                          []|      0|\n",
       "|2020-09-14 11:24:37.315| user_1742|covid_messaging_experiment|     message_2|   homepage_view|                                                          []|      0|\n",
       "| 2020-09-14 11:24:56.09| user_1927|covid_messaging_experiment|     message_1|detail_page_view|   [product -> android, sku -> 456, category -> electronics]|      0|\n",
       "+-----------------------+----------+--------------------------+--------------+----------------+------------------------------------------------------------+-------+"
      ]
     },
     "execution_count": 14,
     "metadata": {},
     "output_type": "execute_result"
    }
   ],
   "source": [
    "spark.sql(\"\"\"\n",
    "    SELECT\n",
    "        timestamp,\n",
    "        visitor_id,\n",
    "        experiment_name,\n",
    "        variation_name,\n",
    "        event_name,\n",
    "        tags,\n",
    "        revenue\n",
    "    FROM\n",
    "        experiment_events\n",
    "    LIMIT 10\n",
    "\"\"\")"
   ]
  },
  {
   "cell_type": "markdown",
   "metadata": {},
   "source": [
    "As above, let's count the number of events that were influenced by each variation:"
   ]
  },
  {
   "cell_type": "code",
   "execution_count": 15,
   "metadata": {},
   "outputs": [
    {
     "data": {
      "text/html": [
       "<table border='1'>\n",
       "<tr><th>experiment_name</th><th>variation_name</th><th>event_name</th><th>event_count</th></tr>\n",
       "<tr><td>covid_messaging_experiment</td><td>control</td><td>add_to_cart</td><td>326</td></tr>\n",
       "<tr><td>covid_messaging_experiment</td><td>control</td><td>detail_page_view</td><td>1799</td></tr>\n",
       "<tr><td>covid_messaging_experiment</td><td>control</td><td>homepage_view</td><td>3304</td></tr>\n",
       "<tr><td>covid_messaging_experiment</td><td>control</td><td>purchase</td><td>326</td></tr>\n",
       "<tr><td>covid_messaging_experiment</td><td>message_1</td><td>add_to_cart</td><td>338</td></tr>\n",
       "<tr><td>covid_messaging_experiment</td><td>message_1</td><td>detail_page_view</td><td>2414</td></tr>\n",
       "<tr><td>covid_messaging_experiment</td><td>message_1</td><td>homepage_view</td><td>3367</td></tr>\n",
       "<tr><td>covid_messaging_experiment</td><td>message_1</td><td>purchase</td><td>338</td></tr>\n",
       "<tr><td>covid_messaging_experiment</td><td>message_2</td><td>add_to_cart</td><td>446</td></tr>\n",
       "<tr><td>covid_messaging_experiment</td><td>message_2</td><td>detail_page_view</td><td>2900</td></tr>\n",
       "<tr><td>covid_messaging_experiment</td><td>message_2</td><td>homepage_view</td><td>3329</td></tr>\n",
       "<tr><td>covid_messaging_experiment</td><td>message_2</td><td>purchase</td><td>446</td></tr>\n",
       "</table>\n"
      ],
      "text/plain": [
       "+--------------------------+--------------+----------------+-----------+\n",
       "|           experiment_name|variation_name|      event_name|event_count|\n",
       "+--------------------------+--------------+----------------+-----------+\n",
       "|covid_messaging_experiment|       control|     add_to_cart|        326|\n",
       "|covid_messaging_experiment|       control|detail_page_view|       1799|\n",
       "|covid_messaging_experiment|       control|   homepage_view|       3304|\n",
       "|covid_messaging_experiment|       control|        purchase|        326|\n",
       "|covid_messaging_experiment|     message_1|     add_to_cart|        338|\n",
       "|covid_messaging_experiment|     message_1|detail_page_view|       2414|\n",
       "|covid_messaging_experiment|     message_1|   homepage_view|       3367|\n",
       "|covid_messaging_experiment|     message_1|        purchase|        338|\n",
       "|covid_messaging_experiment|     message_2|     add_to_cart|        446|\n",
       "|covid_messaging_experiment|     message_2|detail_page_view|       2900|\n",
       "|covid_messaging_experiment|     message_2|   homepage_view|       3329|\n",
       "|covid_messaging_experiment|     message_2|        purchase|        446|\n",
       "+--------------------------+--------------+----------------+-----------+"
      ]
     },
     "execution_count": 15,
     "metadata": {},
     "output_type": "execute_result"
    }
   ],
   "source": [
    "spark.sql(f\"\"\"\n",
    "    SELECT\n",
    "        experiment_name,\n",
    "        variation_name,\n",
    "        event_name,\n",
    "        count(*) as event_count\n",
    "    FROM\n",
    "        experiment_events\n",
    "    GROUP BY\n",
    "        experiment_name,\n",
    "        variation_name,\n",
    "        event_name\n",
    "    ORDER BY\n",
    "        experiment_name ASC,\n",
    "        variation_name ASC,\n",
    "        event_name ASC\n",
    "\"\"\")"
   ]
  },
  {
   "cell_type": "markdown",
   "metadata": {},
   "source": [
    "## Compute metric observations\n",
    "\n",
    "**Metric observations** map each **experiment unit** to a specific numerical outcome observed during an experiment.  For example, in order to measure purchase conversion rate associated with each variation in an experiment, we can map each visitor to a 0 or 1, depending on whether or not they'd made at least one purchase during the attribution window in our experiment.\n",
    "\n",
    "Unlike **experiment units** and **experiment events**, which can be computed using simple transformations,  **metric observations** are metric-dependent and can be arbitrarily complex, depending on the outcome you're trying to measure.\n",
    "\n",
    "<table>\n",
    "    <tr>\n",
    "        <td>\n",
    "            <img src=\"img/transformations_3.png\" alt=\"Experiment Units\" style=\"width:100%; padding-left:0px\">\n",
    "        </td>\n",
    "        <td>\n",
    "            <img src=\"img/tables_3.png\" alt=\"Experiment Units\" style=\"width:100%; padding-left:0px\">\n",
    "        </td>\n",
    "    </tr>\n",
    "</table>"
   ]
  },
  {
   "cell_type": "code",
   "execution_count": 16,
   "metadata": {},
   "outputs": [],
   "source": [
    "from pyspark.sql.functions import lit, coalesce\n",
    "\n",
    "def compute_metric_observations(\n",
    "    metric_name, \n",
    "    raw_observations_df, \n",
    "    experiment_units_df,\n",
    "    join_on=\"visitor_id\",\n",
    "    append_to=None,\n",
    "    default_value=0\n",
    "):\n",
    "    \"\"\"Compute a \"metric observations\" dataset for a given metric and (optionally) append it to an existing set of\n",
    "    metric observations. Create (ore replace) a temporary view \"observations\" with the result.\n",
    "    \n",
    "    Parameters: \n",
    "        metric_name              - A string that uniquely identifies the metric for which observations are being computed,\n",
    "                                   for example: \"Purchase conversion rate\"\n",
    "                                   \n",
    "        raw_observations_df      - A spark dataframe containing a set of raw observations for this metric. This dataframe \n",
    "                                   should contain two columns:\n",
    "                                      visitor_id - a unique identifier for each unit\n",
    "                                      observation - numerical outcome observered for this metric\n",
    "                                   These metric observations will be joined with the provided experiment units dataframe\n",
    "                                   so that the resulting dataset contains an observation for every unit. \n",
    "                                   \n",
    "        experiment_units_df      - A spark dataframe containing the experiment units for which this metric should be\n",
    "                                   computed.\n",
    "                                   \n",
    "        append_to (optional)     - A spark dataframe to which the resulting metric observation dataframe should be appended.\n",
    "                                   If this is provided, the newly-combined dataframe will be returned.\n",
    "                                    \n",
    "        default_value (optional) - The default value to use for experiment units that do not appear in the raw observations\n",
    "                                   dataframe.  If this is not provided, 0 is used.\n",
    "    \"\"\"\n",
    "\n",
    "    merged_df = experiment_units_df \\\n",
    "                    .join(raw_observations_df, on=[join_on], how='left') \\\n",
    "                    .withColumn(\"_observation\", coalesce('observation', lit(default_value))) \\\n",
    "                    .drop(\"observation\") \\\n",
    "                    .withColumnRenamed(\"_observation\", \"observation\") \\\n",
    "                    .withColumn(\"metric_name\", lit(metric_name))\n",
    "\n",
    "    if append_to is None:\n",
    "        observations = merged_df\n",
    "    else:\n",
    "        observations = append_to.union(merged_df)\n",
    "    \n",
    "    observations.createOrReplaceTempView(\"observations\")\n",
    "    return observations"
   ]
  },
  {
   "cell_type": "markdown",
   "metadata": {},
   "source": [
    "Now we'll define a set of observations by executing simple queries on our experiment events.  Each query computes a single _observation_ for each subject."
   ]
  },
  {
   "cell_type": "markdown",
   "metadata": {},
   "source": [
    "### Metric: Purchase conversion rate\n",
    "\n",
    "In this query we measure for each visitor whether they made _at least one_ purchase. The resulting observation should be `1` if the visitor triggered the event in question during the _attribution window_ and `0` otherwise.  \n",
    "\n",
    "Since _any_ visitor who triggered an appropriate experiment event should be counted, we can simply select a `1`. "
   ]
  },
  {
   "cell_type": "code",
   "execution_count": 17,
   "metadata": {},
   "outputs": [
    {
     "data": {
      "text/html": [
       "<div>\n",
       "<style scoped>\n",
       "    .dataframe tbody tr th:only-of-type {\n",
       "        vertical-align: middle;\n",
       "    }\n",
       "\n",
       "    .dataframe tbody tr th {\n",
       "        vertical-align: top;\n",
       "    }\n",
       "\n",
       "    .dataframe thead th {\n",
       "        text-align: right;\n",
       "    }\n",
       "</style>\n",
       "<table border=\"1\" class=\"dataframe\">\n",
       "  <thead>\n",
       "    <tr style=\"text-align: right;\">\n",
       "      <th></th>\n",
       "      <th>visitor_id</th>\n",
       "      <th>observation</th>\n",
       "    </tr>\n",
       "  </thead>\n",
       "  <tbody>\n",
       "    <tr>\n",
       "      <th>0</th>\n",
       "      <td>user_5967</td>\n",
       "      <td>1</td>\n",
       "    </tr>\n",
       "    <tr>\n",
       "      <th>1</th>\n",
       "      <td>user_1434</td>\n",
       "      <td>1</td>\n",
       "    </tr>\n",
       "    <tr>\n",
       "      <th>2</th>\n",
       "      <td>user_3058</td>\n",
       "      <td>1</td>\n",
       "    </tr>\n",
       "    <tr>\n",
       "      <th>3</th>\n",
       "      <td>user_926</td>\n",
       "      <td>1</td>\n",
       "    </tr>\n",
       "    <tr>\n",
       "      <th>4</th>\n",
       "      <td>user_9069</td>\n",
       "      <td>1</td>\n",
       "    </tr>\n",
       "  </tbody>\n",
       "</table>\n",
       "</div>"
      ],
      "text/plain": [
       "  visitor_id  observation\n",
       "0  user_5967            1\n",
       "1  user_1434            1\n",
       "2  user_3058            1\n",
       "3   user_926            1\n",
       "4  user_9069            1"
      ]
     },
     "execution_count": 17,
     "metadata": {},
     "output_type": "execute_result"
    }
   ],
   "source": [
    "## Unique conversions on the \"add to cart\" event.\n",
    "raw_purchase_conversion_rate_obs = spark.sql(f\"\"\"\n",
    "    SELECT\n",
    "        visitor_id,\n",
    "        1 as observation\n",
    "    FROM\n",
    "        experiment_events\n",
    "    WHERE\n",
    "        event_name = 'purchase'\n",
    "    GROUP BY\n",
    "        visitor_id\n",
    "\"\"\")\n",
    "raw_purchase_conversion_rate_obs.toPandas().head(5)"
   ]
  },
  {
   "cell_type": "markdown",
   "metadata": {},
   "source": [
    "We'll use our `add_observations` function to perform a left outer join between `experiment_units` and our newly-computed `add_to_cart` conversions."
   ]
  },
  {
   "cell_type": "code",
   "execution_count": 18,
   "metadata": {},
   "outputs": [],
   "source": [
    "observations = compute_metric_observations(\n",
    "    \"Purchase conversion rate\",\n",
    "    raw_purchase_conversion_rate_obs,\n",
    "    experiment_units,\n",
    ")"
   ]
  },
  {
   "cell_type": "markdown",
   "metadata": {},
   "source": [
    "Let's take a look at our observations view:"
   ]
  },
  {
   "cell_type": "code",
   "execution_count": 19,
   "metadata": {},
   "outputs": [
    {
     "data": {
      "text/html": [
       "<table border='1'>\n",
       "<tr><th>metric_name</th><th>timestamp</th><th>visitor_id</th><th>experiment_name</th><th>variation_name</th><th>observation</th></tr>\n",
       "<tr><td>Purchase conversion rate</td><td>2020-09-14 11:21:40.177</td><td>user_0</td><td>covid_messaging_experiment</td><td>control</td><td>0</td></tr>\n",
       "<tr><td>Purchase conversion rate</td><td>2020-09-14 11:21:40.279</td><td>user_1</td><td>covid_messaging_experiment</td><td>control</td><td>0</td></tr>\n",
       "<tr><td>Purchase conversion rate</td><td>2020-09-14 11:21:40.381</td><td>user_2</td><td>covid_messaging_experiment</td><td>control</td><td>0</td></tr>\n",
       "<tr><td>Purchase conversion rate</td><td>2020-09-14 11:21:40.482</td><td>user_3</td><td>covid_messaging_experiment</td><td>message_1</td><td>0</td></tr>\n",
       "<tr><td>Purchase conversion rate</td><td>2020-09-14 11:21:40.586</td><td>user_4</td><td>covid_messaging_experiment</td><td>message_1</td><td>0</td></tr>\n",
       "<tr><td>Purchase conversion rate</td><td>2020-09-14 11:21:40.69</td><td>user_5</td><td>covid_messaging_experiment</td><td>message_2</td><td>0</td></tr>\n",
       "<tr><td>Purchase conversion rate</td><td>2020-09-14 11:21:40.792</td><td>user_6</td><td>covid_messaging_experiment</td><td>message_2</td><td>0</td></tr>\n",
       "<tr><td>Purchase conversion rate</td><td>2020-09-14 11:21:40.894</td><td>user_7</td><td>covid_messaging_experiment</td><td>message_2</td><td>0</td></tr>\n",
       "<tr><td>Purchase conversion rate</td><td>2020-09-14 11:21:40.996</td><td>user_8</td><td>covid_messaging_experiment</td><td>message_1</td><td>0</td></tr>\n",
       "<tr><td>Purchase conversion rate</td><td>2020-09-14 11:21:41.097</td><td>user_9</td><td>covid_messaging_experiment</td><td>control</td><td>0</td></tr>\n",
       "<tr><td>Purchase conversion rate</td><td>2020-09-14 11:21:41.199</td><td>user_10</td><td>covid_messaging_experiment</td><td>control</td><td>0</td></tr>\n",
       "<tr><td>Purchase conversion rate</td><td>2020-09-14 11:21:41.3</td><td>user_11</td><td>covid_messaging_experiment</td><td>message_1</td><td>0</td></tr>\n",
       "<tr><td>Purchase conversion rate</td><td>2020-09-14 11:21:41.401</td><td>user_12</td><td>covid_messaging_experiment</td><td>control</td><td>0</td></tr>\n",
       "<tr><td>Purchase conversion rate</td><td>2020-09-14 11:21:41.503</td><td>user_13</td><td>covid_messaging_experiment</td><td>message_2</td><td>0</td></tr>\n",
       "<tr><td>Purchase conversion rate</td><td>2020-09-14 11:21:41.605</td><td>user_14</td><td>covid_messaging_experiment</td><td>control</td><td>0</td></tr>\n",
       "<tr><td>Purchase conversion rate</td><td>2020-09-14 11:21:41.706</td><td>user_15</td><td>covid_messaging_experiment</td><td>control</td><td>0</td></tr>\n",
       "<tr><td>Purchase conversion rate</td><td>2020-09-14 11:21:41.808</td><td>user_16</td><td>covid_messaging_experiment</td><td>message_2</td><td>0</td></tr>\n",
       "<tr><td>Purchase conversion rate</td><td>2020-09-14 11:21:41.911</td><td>user_17</td><td>covid_messaging_experiment</td><td>message_1</td><td>0</td></tr>\n",
       "<tr><td>Purchase conversion rate</td><td>2020-09-14 11:21:42.012</td><td>user_18</td><td>covid_messaging_experiment</td><td>control</td><td>0</td></tr>\n",
       "<tr><td>Purchase conversion rate</td><td>2020-09-14 11:21:42.114</td><td>user_19</td><td>covid_messaging_experiment</td><td>message_2</td><td>0</td></tr>\n",
       "</table>\n",
       "only showing top 20 rows\n"
      ],
      "text/plain": [
       "+------------------------+-----------------------+----------+--------------------------+--------------+-----------+\n",
       "|             metric_name|              timestamp|visitor_id|           experiment_name|variation_name|observation|\n",
       "+------------------------+-----------------------+----------+--------------------------+--------------+-----------+\n",
       "|Purchase conversion rate|2020-09-14 11:21:40.177|    user_0|covid_messaging_experiment|       control|          0|\n",
       "|Purchase conversion rate|2020-09-14 11:21:40.279|    user_1|covid_messaging_experiment|       control|          0|\n",
       "|Purchase conversion rate|2020-09-14 11:21:40.381|    user_2|covid_messaging_experiment|       control|          0|\n",
       "|Purchase conversion rate|2020-09-14 11:21:40.482|    user_3|covid_messaging_experiment|     message_1|          0|\n",
       "|Purchase conversion rate|2020-09-14 11:21:40.586|    user_4|covid_messaging_experiment|     message_1|          0|\n",
       "|Purchase conversion rate| 2020-09-14 11:21:40.69|    user_5|covid_messaging_experiment|     message_2|          0|\n",
       "|Purchase conversion rate|2020-09-14 11:21:40.792|    user_6|covid_messaging_experiment|     message_2|          0|\n",
       "|Purchase conversion rate|2020-09-14 11:21:40.894|    user_7|covid_messaging_experiment|     message_2|          0|\n",
       "|Purchase conversion rate|2020-09-14 11:21:40.996|    user_8|covid_messaging_experiment|     message_1|          0|\n",
       "|Purchase conversion rate|2020-09-14 11:21:41.097|    user_9|covid_messaging_experiment|       control|          0|\n",
       "|Purchase conversion rate|2020-09-14 11:21:41.199|   user_10|covid_messaging_experiment|       control|          0|\n",
       "|Purchase conversion rate|  2020-09-14 11:21:41.3|   user_11|covid_messaging_experiment|     message_1|          0|\n",
       "|Purchase conversion rate|2020-09-14 11:21:41.401|   user_12|covid_messaging_experiment|       control|          0|\n",
       "|Purchase conversion rate|2020-09-14 11:21:41.503|   user_13|covid_messaging_experiment|     message_2|          0|\n",
       "|Purchase conversion rate|2020-09-14 11:21:41.605|   user_14|covid_messaging_experiment|       control|          0|\n",
       "|Purchase conversion rate|2020-09-14 11:21:41.706|   user_15|covid_messaging_experiment|       control|          0|\n",
       "|Purchase conversion rate|2020-09-14 11:21:41.808|   user_16|covid_messaging_experiment|     message_2|          0|\n",
       "|Purchase conversion rate|2020-09-14 11:21:41.911|   user_17|covid_messaging_experiment|     message_1|          0|\n",
       "|Purchase conversion rate|2020-09-14 11:21:42.012|   user_18|covid_messaging_experiment|       control|          0|\n",
       "|Purchase conversion rate|2020-09-14 11:21:42.114|   user_19|covid_messaging_experiment|     message_2|          0|\n",
       "+------------------------+-----------------------+----------+--------------------------+--------------+-----------+\n",
       "only showing top 20 rows"
      ]
     },
     "execution_count": 19,
     "metadata": {},
     "output_type": "execute_result"
    }
   ],
   "source": [
    "observations.createOrReplaceTempView(\"observations\")\n",
    "spark.sql(\"\"\"\n",
    "    SELECT \n",
    "        metric_name,\n",
    "        timestamp,\n",
    "        visitor_id, \n",
    "        experiment_name, \n",
    "        variation_name, \n",
    "        observation \n",
    "    FROM \n",
    "        observations\n",
    "    ORDER BY\n",
    "        timestamp ASC\n",
    "\"\"\")"
   ]
  },
  {
   "cell_type": "markdown",
   "metadata": {},
   "source": [
    "Metric observations can be used to compute a variety of useful statistics.  Let's compute the value of our `purchase` conversion rate metric for all of the visitors in our experiment:"
   ]
  },
  {
   "cell_type": "code",
   "execution_count": 20,
   "metadata": {},
   "outputs": [
    {
     "data": {
      "text/html": [
       "<table border='1'>\n",
       "<tr><th>metric_name</th><th>experiment_name</th><th>unit_count</th><th>sum(observation)</th><th>metric_value</th></tr>\n",
       "<tr><td>Purchase conversion rate</td><td>covid_messaging_experiment</td><td>10000</td><td>555</td><td>0.05550000000000000</td></tr>\n",
       "</table>\n"
      ],
      "text/plain": [
       "+------------------------+--------------------------+----------+----------------+-------------------+\n",
       "|             metric_name|           experiment_name|unit_count|sum(observation)|       metric_value|\n",
       "+------------------------+--------------------------+----------+----------------+-------------------+\n",
       "|Purchase conversion rate|covid_messaging_experiment|     10000|             555|0.05550000000000000|\n",
       "+------------------------+--------------------------+----------+----------------+-------------------+"
      ]
     },
     "execution_count": 20,
     "metadata": {},
     "output_type": "execute_result"
    }
   ],
   "source": [
    "spark.sql(\"\"\"\n",
    "    SELECT\n",
    "        metric_name,\n",
    "        experiment_name,\n",
    "        count(1) as unit_count,\n",
    "        sum(observation),\n",
    "        sum(observation) / (1.0 * count(1)) as metric_value\n",
    "    FROM\n",
    "        observations\n",
    "    WHERE\n",
    "        metric_name = \"Purchase conversion rate\"\n",
    "    GROUP BY\n",
    "        metric_name,\n",
    "        experiment_name\n",
    "\"\"\")"
   ]
  },
  {
   "cell_type": "markdown",
   "metadata": {},
   "source": [
    "Now let's compute the `purchase` conversion rate broken down by experiment variation:"
   ]
  },
  {
   "cell_type": "code",
   "execution_count": 21,
   "metadata": {},
   "outputs": [
    {
     "data": {
      "text/html": [
       "<table border='1'>\n",
       "<tr><th>metric_name</th><th>experiment_name</th><th>variation_name</th><th>unit_count</th><th>sum(observation)</th><th>metric_value</th></tr>\n",
       "<tr><td>Purchase conversion rate</td><td>covid_messaging_experiment</td><td>message_1</td><td>3367</td><td>169</td><td>0.05019305019305019</td></tr>\n",
       "<tr><td>Purchase conversion rate</td><td>covid_messaging_experiment</td><td>control</td><td>3304</td><td>163</td><td>0.04933414043583535</td></tr>\n",
       "<tr><td>Purchase conversion rate</td><td>covid_messaging_experiment</td><td>message_2</td><td>3329</td><td>223</td><td>0.06698708320817062</td></tr>\n",
       "</table>\n"
      ],
      "text/plain": [
       "+------------------------+--------------------------+--------------+----------+----------------+-------------------+\n",
       "|             metric_name|           experiment_name|variation_name|unit_count|sum(observation)|       metric_value|\n",
       "+------------------------+--------------------------+--------------+----------+----------------+-------------------+\n",
       "|Purchase conversion rate|covid_messaging_experiment|     message_1|      3367|             169|0.05019305019305019|\n",
       "|Purchase conversion rate|covid_messaging_experiment|       control|      3304|             163|0.04933414043583535|\n",
       "|Purchase conversion rate|covid_messaging_experiment|     message_2|      3329|             223|0.06698708320817062|\n",
       "+------------------------+--------------------------+--------------+----------+----------------+-------------------+"
      ]
     },
     "execution_count": 21,
     "metadata": {},
     "output_type": "execute_result"
    }
   ],
   "source": [
    "spark.sql(\"\"\"\n",
    "    SELECT\n",
    "        metric_name,\n",
    "        experiment_name,\n",
    "        variation_name,\n",
    "        count(1) as unit_count,\n",
    "        sum(observation),\n",
    "        sum(observation) / (1.0 * count(1)) as metric_value\n",
    "    FROM\n",
    "        observations\n",
    "    WHERE\n",
    "        metric_name = \"Purchase conversion rate\"\n",
    "    GROUP BY\n",
    "        metric_name,\n",
    "        experiment_name,\n",
    "        variation_name\n",
    "\"\"\")"
   ]
  },
  {
   "cell_type": "markdown",
   "metadata": {},
   "source": [
    "### Metric: Product detail page views per visitor\n",
    "\n",
    "In this query we the number of product detail page views per visitor"
   ]
  },
  {
   "cell_type": "code",
   "execution_count": 22,
   "metadata": {},
   "outputs": [],
   "source": [
    "## Unique conversions on the \"add_to_cart\" event.\n",
    "observations = compute_metric_observations(\n",
    "    \"Product detail page views per visitor\",\n",
    "    raw_observations_df = spark.sql(\"\"\"\n",
    "        SELECT\n",
    "            visitor_id,\n",
    "            count(1) as observation\n",
    "        FROM\n",
    "            experiment_events\n",
    "        WHERE\n",
    "            event_name = \"detail_page_view\"\n",
    "        GROUP BY\n",
    "            visitor_id\n",
    "    \"\"\"),\n",
    "    experiment_units_df = experiment_units,\n",
    "    append_to=observations\n",
    ")"
   ]
  },
  {
   "cell_type": "markdown",
   "metadata": {},
   "source": [
    "We can inspect our observations by counting the units and summing up the observations we've computed for each experiment in our dataset:"
   ]
  },
  {
   "cell_type": "code",
   "execution_count": 23,
   "metadata": {},
   "outputs": [
    {
     "data": {
      "text/html": [
       "<table border='1'>\n",
       "<tr><th>metric_name</th><th>timestamp</th><th>experiment_name</th><th>variation_id</th><th>visitor_id</th><th>observation</th></tr>\n",
       "<tr><td>Product detail page views per visitor</td><td>2020-09-14 11:23:26.823</td><td>covid_messaging_experiment</td><td>18817551468</td><td>user_1048</td><td>0</td></tr>\n",
       "<tr><td>Product detail page views per visitor</td><td>2020-09-14 11:23:59.303</td><td>covid_messaging_experiment</td><td>18817551468</td><td>user_1368</td><td>3</td></tr>\n",
       "<tr><td>Product detail page views per visitor</td><td>2020-09-14 11:24:05.094</td><td>covid_messaging_experiment</td><td>18818611832</td><td>user_1425</td><td>3</td></tr>\n",
       "<tr><td>Product detail page views per visitor</td><td>2020-09-14 11:24:41.774</td><td>covid_messaging_experiment</td><td>18817551468</td><td>user_1786</td><td>0</td></tr>\n",
       "<tr><td>Product detail page views per visitor</td><td>2020-09-14 11:25:30.073</td><td>covid_messaging_experiment</td><td>18802093142</td><td>user_2262</td><td>0</td></tr>\n",
       "<tr><td>Product detail page views per visitor</td><td>2020-09-14 11:25:38.915</td><td>covid_messaging_experiment</td><td>18802093142</td><td>user_2349</td><td>0</td></tr>\n",
       "<tr><td>Product detail page views per visitor</td><td>2020-09-14 11:22:04.86</td><td>covid_messaging_experiment</td><td>18818611832</td><td>user_242</td><td>0</td></tr>\n",
       "<tr><td>Product detail page views per visitor</td><td>2020-09-14 11:22:05.475</td><td>covid_messaging_experiment</td><td>18818611832</td><td>user_248</td><td>0</td></tr>\n",
       "<tr><td>Product detail page views per visitor</td><td>2020-09-14 11:26:01.673</td><td>covid_messaging_experiment</td><td>18818611832</td><td>user_2573</td><td>0</td></tr>\n",
       "<tr><td>Product detail page views per visitor</td><td>2020-09-14 11:26:38.674</td><td>covid_messaging_experiment</td><td>18818611832</td><td>user_2937</td><td>0</td></tr>\n",
       "</table>\n"
      ],
      "text/plain": [
       "+-------------------------------------+-----------------------+--------------------------+------------+----------+-----------+\n",
       "|                          metric_name|              timestamp|           experiment_name|variation_id|visitor_id|observation|\n",
       "+-------------------------------------+-----------------------+--------------------------+------------+----------+-----------+\n",
       "|Product detail page views per visitor|2020-09-14 11:23:26.823|covid_messaging_experiment| 18817551468| user_1048|          0|\n",
       "|Product detail page views per visitor|2020-09-14 11:23:59.303|covid_messaging_experiment| 18817551468| user_1368|          3|\n",
       "|Product detail page views per visitor|2020-09-14 11:24:05.094|covid_messaging_experiment| 18818611832| user_1425|          3|\n",
       "|Product detail page views per visitor|2020-09-14 11:24:41.774|covid_messaging_experiment| 18817551468| user_1786|          0|\n",
       "|Product detail page views per visitor|2020-09-14 11:25:30.073|covid_messaging_experiment| 18802093142| user_2262|          0|\n",
       "|Product detail page views per visitor|2020-09-14 11:25:38.915|covid_messaging_experiment| 18802093142| user_2349|          0|\n",
       "|Product detail page views per visitor| 2020-09-14 11:22:04.86|covid_messaging_experiment| 18818611832|  user_242|          0|\n",
       "|Product detail page views per visitor|2020-09-14 11:22:05.475|covid_messaging_experiment| 18818611832|  user_248|          0|\n",
       "|Product detail page views per visitor|2020-09-14 11:26:01.673|covid_messaging_experiment| 18818611832| user_2573|          0|\n",
       "|Product detail page views per visitor|2020-09-14 11:26:38.674|covid_messaging_experiment| 18818611832| user_2937|          0|\n",
       "+-------------------------------------+-----------------------+--------------------------+------------+----------+-----------+"
      ]
     },
     "execution_count": 23,
     "metadata": {},
     "output_type": "execute_result"
    }
   ],
   "source": [
    "spark.sql(\"\"\"\n",
    "    SELECT \n",
    "        metric_name, \n",
    "        timestamp,\n",
    "        experiment_name, \n",
    "        variation_id, \n",
    "        visitor_id, \n",
    "        observation \n",
    "    FROM \n",
    "        observations\n",
    "    WHERE\n",
    "        metric_name = \"Product detail page views per visitor\"\n",
    "    LIMIT 10\n",
    "\"\"\")"
   ]
  },
  {
   "cell_type": "markdown",
   "metadata": {},
   "source": [
    "### Metric: Revenue from electronics purchases\n",
    "\n",
    "In this query we compute the total revenue associated with electronics purchases made by our experiment subjects."
   ]
  },
  {
   "cell_type": "code",
   "execution_count": 24,
   "metadata": {},
   "outputs": [],
   "source": [
    "observations = compute_metric_observations(\n",
    "    \"Electronics revenue per visitor\",\n",
    "    raw_observations_df = spark.sql(\"\"\"\n",
    "        SELECT\n",
    "            visitor_id,\n",
    "            sum(revenue) as observation\n",
    "        FROM \n",
    "            experiment_events\n",
    "            LATERAL VIEW explode(tags) t\n",
    "        WHERE\n",
    "            t.key = \"category\" AND \n",
    "            t.value = \"electronics\" AND\n",
    "            event_name = \"purchase\"\n",
    "        GROUP BY\n",
    "            visitor_id\n",
    "    \"\"\"),\n",
    "    experiment_units_df = experiment_units,\n",
    "    append_to=observations\n",
    ")"
   ]
  },
  {
   "cell_type": "markdown",
   "metadata": {},
   "source": [
    "Again, let's examine our observations:"
   ]
  },
  {
   "cell_type": "code",
   "execution_count": 25,
   "metadata": {},
   "outputs": [
    {
     "data": {
      "text/html": [
       "<table border='1'>\n",
       "<tr><th>metric_name</th><th>timestamp</th><th>experiment_name</th><th>variation_id</th><th>visitor_id</th><th>observation</th></tr>\n",
       "<tr><td>Electronics revenue per visitor</td><td>2020-09-14 11:23:26.823</td><td>covid_messaging_experiment</td><td>18817551468</td><td>user_1048</td><td>0</td></tr>\n",
       "<tr><td>Electronics revenue per visitor</td><td>2020-09-14 11:23:59.303</td><td>covid_messaging_experiment</td><td>18817551468</td><td>user_1368</td><td>0</td></tr>\n",
       "<tr><td>Electronics revenue per visitor</td><td>2020-09-14 11:24:05.094</td><td>covid_messaging_experiment</td><td>18818611832</td><td>user_1425</td><td>0</td></tr>\n",
       "<tr><td>Electronics revenue per visitor</td><td>2020-09-14 11:24:41.774</td><td>covid_messaging_experiment</td><td>18817551468</td><td>user_1786</td><td>0</td></tr>\n",
       "<tr><td>Electronics revenue per visitor</td><td>2020-09-14 11:25:30.073</td><td>covid_messaging_experiment</td><td>18802093142</td><td>user_2262</td><td>0</td></tr>\n",
       "<tr><td>Electronics revenue per visitor</td><td>2020-09-14 11:25:38.915</td><td>covid_messaging_experiment</td><td>18802093142</td><td>user_2349</td><td>0</td></tr>\n",
       "<tr><td>Electronics revenue per visitor</td><td>2020-09-14 11:22:04.86</td><td>covid_messaging_experiment</td><td>18818611832</td><td>user_242</td><td>0</td></tr>\n",
       "<tr><td>Electronics revenue per visitor</td><td>2020-09-14 11:22:05.475</td><td>covid_messaging_experiment</td><td>18818611832</td><td>user_248</td><td>0</td></tr>\n",
       "<tr><td>Electronics revenue per visitor</td><td>2020-09-14 11:26:01.673</td><td>covid_messaging_experiment</td><td>18818611832</td><td>user_2573</td><td>0</td></tr>\n",
       "<tr><td>Electronics revenue per visitor</td><td>2020-09-14 11:26:38.674</td><td>covid_messaging_experiment</td><td>18818611832</td><td>user_2937</td><td>0</td></tr>\n",
       "<tr><td>Electronics revenue per visitor</td><td>2020-09-14 11:26:40.193</td><td>covid_messaging_experiment</td><td>18802093142</td><td>user_2952</td><td>0</td></tr>\n",
       "<tr><td>Electronics revenue per visitor</td><td>2020-09-14 11:27:40.562</td><td>covid_messaging_experiment</td><td>18818611832</td><td>user_3547</td><td>0</td></tr>\n",
       "<tr><td>Electronics revenue per visitor</td><td>2020-09-14 11:27:50.896</td><td>covid_messaging_experiment</td><td>18802093142</td><td>user_3649</td><td>0</td></tr>\n",
       "<tr><td>Electronics revenue per visitor</td><td>2020-09-14 11:28:30.652</td><td>covid_messaging_experiment</td><td>18817551468</td><td>user_4041</td><td>0</td></tr>\n",
       "<tr><td>Electronics revenue per visitor</td><td>2020-09-14 11:22:23.397</td><td>covid_messaging_experiment</td><td>18817551468</td><td>user_424</td><td>0</td></tr>\n",
       "<tr><td>Electronics revenue per visitor</td><td>2020-09-14 11:29:20.916</td><td>covid_messaging_experiment</td><td>18818611832</td><td>user_4537</td><td>0</td></tr>\n",
       "<tr><td>Electronics revenue per visitor</td><td>2020-09-14 11:29:23.449</td><td>covid_messaging_experiment</td><td>18817551468</td><td>user_4562</td><td>0</td></tr>\n",
       "<tr><td>Electronics revenue per visitor</td><td>2020-09-14 11:29:42.099</td><td>covid_messaging_experiment</td><td>18802093142</td><td>user_4746</td><td>0</td></tr>\n",
       "<tr><td>Electronics revenue per visitor</td><td>2020-09-14 11:29:43.619</td><td>covid_messaging_experiment</td><td>18818611832</td><td>user_4761</td><td>0</td></tr>\n",
       "<tr><td>Electronics revenue per visitor</td><td>2020-09-14 11:30:07.925</td><td>covid_messaging_experiment</td><td>18818611832</td><td>user_5001</td><td>0</td></tr>\n",
       "</table>\n"
      ],
      "text/plain": [
       "+-------------------------------+-----------------------+--------------------------+------------+----------+-----------+\n",
       "|                    metric_name|              timestamp|           experiment_name|variation_id|visitor_id|observation|\n",
       "+-------------------------------+-----------------------+--------------------------+------------+----------+-----------+\n",
       "|Electronics revenue per visitor|2020-09-14 11:23:26.823|covid_messaging_experiment| 18817551468| user_1048|          0|\n",
       "|Electronics revenue per visitor|2020-09-14 11:23:59.303|covid_messaging_experiment| 18817551468| user_1368|          0|\n",
       "|Electronics revenue per visitor|2020-09-14 11:24:05.094|covid_messaging_experiment| 18818611832| user_1425|          0|\n",
       "|Electronics revenue per visitor|2020-09-14 11:24:41.774|covid_messaging_experiment| 18817551468| user_1786|          0|\n",
       "|Electronics revenue per visitor|2020-09-14 11:25:30.073|covid_messaging_experiment| 18802093142| user_2262|          0|\n",
       "|Electronics revenue per visitor|2020-09-14 11:25:38.915|covid_messaging_experiment| 18802093142| user_2349|          0|\n",
       "|Electronics revenue per visitor| 2020-09-14 11:22:04.86|covid_messaging_experiment| 18818611832|  user_242|          0|\n",
       "|Electronics revenue per visitor|2020-09-14 11:22:05.475|covid_messaging_experiment| 18818611832|  user_248|          0|\n",
       "|Electronics revenue per visitor|2020-09-14 11:26:01.673|covid_messaging_experiment| 18818611832| user_2573|          0|\n",
       "|Electronics revenue per visitor|2020-09-14 11:26:38.674|covid_messaging_experiment| 18818611832| user_2937|          0|\n",
       "|Electronics revenue per visitor|2020-09-14 11:26:40.193|covid_messaging_experiment| 18802093142| user_2952|          0|\n",
       "|Electronics revenue per visitor|2020-09-14 11:27:40.562|covid_messaging_experiment| 18818611832| user_3547|          0|\n",
       "|Electronics revenue per visitor|2020-09-14 11:27:50.896|covid_messaging_experiment| 18802093142| user_3649|          0|\n",
       "|Electronics revenue per visitor|2020-09-14 11:28:30.652|covid_messaging_experiment| 18817551468| user_4041|          0|\n",
       "|Electronics revenue per visitor|2020-09-14 11:22:23.397|covid_messaging_experiment| 18817551468|  user_424|          0|\n",
       "|Electronics revenue per visitor|2020-09-14 11:29:20.916|covid_messaging_experiment| 18818611832| user_4537|          0|\n",
       "|Electronics revenue per visitor|2020-09-14 11:29:23.449|covid_messaging_experiment| 18817551468| user_4562|          0|\n",
       "|Electronics revenue per visitor|2020-09-14 11:29:42.099|covid_messaging_experiment| 18802093142| user_4746|          0|\n",
       "|Electronics revenue per visitor|2020-09-14 11:29:43.619|covid_messaging_experiment| 18818611832| user_4761|          0|\n",
       "|Electronics revenue per visitor|2020-09-14 11:30:07.925|covid_messaging_experiment| 18818611832| user_5001|          0|\n",
       "+-------------------------------+-----------------------+--------------------------+------------+----------+-----------+"
      ]
     },
     "execution_count": 25,
     "metadata": {},
     "output_type": "execute_result"
    }
   ],
   "source": [
    "spark.sql(\"\"\"\n",
    "    SELECT \n",
    "        metric_name, \n",
    "        timestamp,\n",
    "        experiment_name, \n",
    "        variation_id, \n",
    "        visitor_id, \n",
    "        observation \n",
    "    FROM \n",
    "        observations\n",
    "    WHERE\n",
    "        metric_name = \"Electronics revenue per visitor\"\n",
    "    LIMIT 20\n",
    "\"\"\")"
   ]
  },
  {
   "cell_type": "markdown",
   "metadata": {},
   "source": [
    "### Metric: Call center volume\n",
    "\n",
    "We can use the same techniques to compute experiment metric using \"external\" data not collected by Optimizely.  We'll demonstrate by loading a CSV customer support call records.\n",
    "\n",
    "We'll start by reading in our call center data:"
   ]
  },
  {
   "cell_type": "code",
   "execution_count": 26,
   "metadata": {},
   "outputs": [
    {
     "data": {
      "text/html": [
       "<div>\n",
       "<style scoped>\n",
       "    .dataframe tbody tr th:only-of-type {\n",
       "        vertical-align: middle;\n",
       "    }\n",
       "\n",
       "    .dataframe tbody tr th {\n",
       "        vertical-align: top;\n",
       "    }\n",
       "\n",
       "    .dataframe thead th {\n",
       "        text-align: right;\n",
       "    }\n",
       "</style>\n",
       "<table border=\"1\" class=\"dataframe\">\n",
       "  <thead>\n",
       "    <tr style=\"text-align: right;\">\n",
       "      <th></th>\n",
       "      <th>user_id</th>\n",
       "      <th>call_start</th>\n",
       "      <th>call_duration_min</th>\n",
       "    </tr>\n",
       "  </thead>\n",
       "  <tbody>\n",
       "    <tr>\n",
       "      <th>0</th>\n",
       "      <td>user_1007</td>\n",
       "      <td>9/15/2020 0:00:00</td>\n",
       "      <td>8.495311</td>\n",
       "    </tr>\n",
       "    <tr>\n",
       "      <th>1</th>\n",
       "      <td>user_1009</td>\n",
       "      <td>9/15/2020 3:00:00</td>\n",
       "      <td>2.162568</td>\n",
       "    </tr>\n",
       "    <tr>\n",
       "      <th>2</th>\n",
       "      <td>user_1014</td>\n",
       "      <td>9/15/2020 12:00:00</td>\n",
       "      <td>3.996617</td>\n",
       "    </tr>\n",
       "    <tr>\n",
       "      <th>3</th>\n",
       "      <td>user_1015</td>\n",
       "      <td>9/15/2020 16:00:00</td>\n",
       "      <td>6.886584</td>\n",
       "    </tr>\n",
       "    <tr>\n",
       "      <th>4</th>\n",
       "      <td>user_1017</td>\n",
       "      <td>9/15/2020 18:00:00</td>\n",
       "      <td>3.464795</td>\n",
       "    </tr>\n",
       "  </tbody>\n",
       "</table>\n",
       "</div>"
      ],
      "text/plain": [
       "     user_id          call_start  call_duration_min\n",
       "0  user_1007   9/15/2020 0:00:00           8.495311\n",
       "1  user_1009   9/15/2020 3:00:00           2.162568\n",
       "2  user_1014  9/15/2020 12:00:00           3.996617\n",
       "3  user_1015  9/15/2020 16:00:00           6.886584\n",
       "4  user_1017  9/15/2020 18:00:00           3.464795"
      ]
     },
     "execution_count": 26,
     "metadata": {},
     "output_type": "execute_result"
    }
   ],
   "source": [
    "# Read call center logs CSV into a pandas dataframe\n",
    "df = pd.read_csv(\"call_data.csv\")\n",
    "\n",
    "# Display a sample of our call record data\n",
    "df.head(5)"
   ]
  },
  {
   "cell_type": "markdown",
   "metadata": {},
   "source": [
    "Now let's make sure our call center data schema is compatible with the transformations we want to perform."
   ]
  },
  {
   "cell_type": "code",
   "execution_count": 27,
   "metadata": {},
   "outputs": [
    {
     "data": {
      "text/html": [
       "<table border='1'>\n",
       "<tr><th>visitor_id</th><th>call_start</th><th>call_duration_min</th><th>timestamp</th></tr>\n",
       "<tr><td>user_1007</td><td>9/15/2020 0:00:00</td><td>8.495310611</td><td>2020-09-15 00:00:00</td></tr>\n",
       "<tr><td>user_1009</td><td>9/15/2020 3:00:00</td><td>2.16256821</td><td>2020-09-15 03:00:00</td></tr>\n",
       "<tr><td>user_1014</td><td>9/15/2020 12:00:00</td><td>3.99661667</td><td>2020-09-15 12:00:00</td></tr>\n",
       "<tr><td>user_1015</td><td>9/15/2020 16:00:00</td><td>6.886583842</td><td>2020-09-15 16:00:00</td></tr>\n",
       "<tr><td>user_1017</td><td>9/15/2020 18:00:00</td><td>3.4647948310000003</td><td>2020-09-15 18:00:00</td></tr>\n",
       "</table>\n"
      ],
      "text/plain": [
       "+----------+------------------+------------------+-------------------+\n",
       "|visitor_id|        call_start| call_duration_min|          timestamp|\n",
       "+----------+------------------+------------------+-------------------+\n",
       "| user_1007| 9/15/2020 0:00:00|       8.495310611|2020-09-15 00:00:00|\n",
       "| user_1009| 9/15/2020 3:00:00|        2.16256821|2020-09-15 03:00:00|\n",
       "| user_1014|9/15/2020 12:00:00|        3.99661667|2020-09-15 12:00:00|\n",
       "| user_1015|9/15/2020 16:00:00|       6.886583842|2020-09-15 16:00:00|\n",
       "| user_1017|9/15/2020 18:00:00|3.4647948310000003|2020-09-15 18:00:00|\n",
       "+----------+------------------+------------------+-------------------+"
      ]
     },
     "execution_count": 27,
     "metadata": {},
     "output_type": "execute_result"
    }
   ],
   "source": [
    "# Convert \"call start\" timestamp strings to datetime objects\n",
    "df[\"timestamp\"] = pd.to_datetime(df.call_start)\n",
    "\n",
    "# Rename the \"user_id\" column to \"visitor_id\" to match our decision schema\n",
    "df = df.rename(columns={\"user_id\" : \"visitor_id\"})\n",
    "\n",
    "# Convert pandas to spark dataframe\n",
    "call_records = spark.createDataFrame(df)\n",
    "\n",
    "# Create a temporary view so that we can query using SQL\n",
    "call_records.createOrReplaceTempView(\"call_records\")\n",
    "\n",
    "# Display a sample of our call record data\n",
    "spark.sql(\"SELECT * FROM call_records LIMIT 5\")"
   ]
  },
  {
   "cell_type": "markdown",
   "metadata": {},
   "source": [
    "Now let's transform our call center logs into \"experiment calls\" using the attribution logic we used above to compute \"experiment events\":"
   ]
  },
  {
   "cell_type": "code",
   "execution_count": 28,
   "metadata": {},
   "outputs": [],
   "source": [
    "# Create the experiment_calls view\n",
    "experiment_calls = spark.sql(f\"\"\"\n",
    "    SELECT\n",
    "        u.experiment_id,\n",
    "        u.experiment_name,\n",
    "        u.variation_id,\n",
    "        u.variation_name,\n",
    "        e.*\n",
    "    FROM\n",
    "        experiment_units u INNER JOIN call_records e ON u.visitor_id = e.visitor_id\n",
    "    WHERE\n",
    "        e.timestamp BETWEEN u.timestamp AND (u.timestamp + INTERVAL 48 HOURS)\n",
    "\"\"\")\n",
    "experiment_calls.createOrReplaceTempView(\"experiment_calls\")"
   ]
  },
  {
   "cell_type": "markdown",
   "metadata": {},
   "source": [
    "Now we can compute metric observations for call center calls and duration!"
   ]
  },
  {
   "cell_type": "code",
   "execution_count": 29,
   "metadata": {},
   "outputs": [],
   "source": [
    "# Count the number of support phone calls per visitor\n",
    "observations = compute_metric_observations(\n",
    "    \"Customer support calls per visitor\",\n",
    "    raw_observations_df = spark.sql(\"\"\"\n",
    "        SELECT\n",
    "            visitor_id,\n",
    "            count(1) as observation\n",
    "        FROM \n",
    "            experiment_calls\n",
    "        GROUP BY\n",
    "            visitor_id\n",
    "    \"\"\"),\n",
    "    experiment_units_df = experiment_units,\n",
    "    append_to=observations\n",
    ")\n",
    "\n",
    "# Count the number of support phone calls per visitor\n",
    "observations = compute_metric_observations(\n",
    "    \"Total customer support minutes per visitor\",\n",
    "    raw_observations_df = spark.sql(\"\"\"\n",
    "        SELECT\n",
    "            visitor_id,\n",
    "            sum(call_duration_min) as observation\n",
    "        FROM \n",
    "            experiment_calls\n",
    "        GROUP BY\n",
    "            visitor_id\n",
    "    \"\"\"),\n",
    "    experiment_units_df = experiment_units,\n",
    "    append_to=observations\n",
    ")"
   ]
  },
  {
   "cell_type": "markdown",
   "metadata": {},
   "source": [
    "## Computing metric values for experiment cohorts\n",
    "\n",
    "We can slice and dice our metric observation data to compute metric values for different experiment cohorts.  Here are some examples:"
   ]
  },
  {
   "cell_type": "markdown",
   "metadata": {},
   "source": [
    "### Computing metric values per variation\n",
    "\n",
    "Let's start by computing metric values broken down by experiment variation."
   ]
  },
  {
   "cell_type": "code",
   "execution_count": 30,
   "metadata": {},
   "outputs": [
    {
     "data": {
      "text/html": [
       "<table border='1'>\n",
       "<tr><th>metric_name</th><th>experiment_name</th><th>variation_name</th><th>unit_count</th><th>sum(observation)</th><th>metric_value</th></tr>\n",
       "<tr><td>Customer support calls per visitor</td><td>covid_messaging_experiment</td><td>control</td><td>3304</td><td>1115.0</td><td>0.33746973365617433</td></tr>\n",
       "<tr><td>Customer support calls per visitor</td><td>covid_messaging_experiment</td><td>message_1</td><td>3367</td><td>1109.0</td><td>0.32937332937332936</td></tr>\n",
       "<tr><td>Customer support calls per visitor</td><td>covid_messaging_experiment</td><td>message_2</td><td>3329</td><td>1115.0</td><td>0.3349354160408531</td></tr>\n",
       "<tr><td>Electronics revenue per visitor</td><td>covid_messaging_experiment</td><td>control</td><td>3304</td><td>1.4499837E7</td><td>4388.570520581114</td></tr>\n",
       "<tr><td>Electronics revenue per visitor</td><td>covid_messaging_experiment</td><td>message_1</td><td>3367</td><td>1.4959831E7</td><td>4443.07425007425</td></tr>\n",
       "<tr><td>Electronics revenue per visitor</td><td>covid_messaging_experiment</td><td>message_2</td><td>3329</td><td>1.9899777E7</td><td>5977.704115349955</td></tr>\n",
       "<tr><td>Product detail page views per visitor</td><td>covid_messaging_experiment</td><td>control</td><td>3304</td><td>1799.0</td><td>0.5444915254237288</td></tr>\n",
       "<tr><td>Product detail page views per visitor</td><td>covid_messaging_experiment</td><td>message_1</td><td>3367</td><td>2414.0</td><td>0.7169587169587169</td></tr>\n",
       "<tr><td>Product detail page views per visitor</td><td>covid_messaging_experiment</td><td>message_2</td><td>3329</td><td>2900.0</td><td>0.871132472213878</td></tr>\n",
       "<tr><td>Purchase conversion rate</td><td>covid_messaging_experiment</td><td>control</td><td>3304</td><td>163.0</td><td>0.04933414043583535</td></tr>\n",
       "<tr><td>Purchase conversion rate</td><td>covid_messaging_experiment</td><td>message_1</td><td>3367</td><td>169.0</td><td>0.05019305019305019</td></tr>\n",
       "<tr><td>Purchase conversion rate</td><td>covid_messaging_experiment</td><td>message_2</td><td>3329</td><td>223.0</td><td>0.06698708320817062</td></tr>\n",
       "<tr><td>Total customer support minutes per visitor</td><td>covid_messaging_experiment</td><td>control</td><td>3304</td><td>5154.63733961806</td><td>1.5601202601749575</td></tr>\n",
       "<tr><td>Total customer support minutes per visitor</td><td>covid_messaging_experiment</td><td>message_1</td><td>3367</td><td>5011.598830877945</td><td>1.488446341217091</td></tr>\n",
       "<tr><td>Total customer support minutes per visitor</td><td>covid_messaging_experiment</td><td>message_2</td><td>3329</td><td>5101.002656990411</td><td>1.5322927777081439</td></tr>\n",
       "</table>\n"
      ],
      "text/plain": [
       "+------------------------------------------+--------------------------+--------------+----------+-----------------+-------------------+\n",
       "|                               metric_name|           experiment_name|variation_name|unit_count| sum(observation)|       metric_value|\n",
       "+------------------------------------------+--------------------------+--------------+----------+-----------------+-------------------+\n",
       "|        Customer support calls per visitor|covid_messaging_experiment|       control|      3304|           1115.0|0.33746973365617433|\n",
       "|        Customer support calls per visitor|covid_messaging_experiment|     message_1|      3367|           1109.0|0.32937332937332936|\n",
       "|        Customer support calls per visitor|covid_messaging_experiment|     message_2|      3329|           1115.0| 0.3349354160408531|\n",
       "|           Electronics revenue per visitor|covid_messaging_experiment|       control|      3304|      1.4499837E7|  4388.570520581114|\n",
       "|           Electronics revenue per visitor|covid_messaging_experiment|     message_1|      3367|      1.4959831E7|   4443.07425007425|\n",
       "|           Electronics revenue per visitor|covid_messaging_experiment|     message_2|      3329|      1.9899777E7|  5977.704115349955|\n",
       "|     Product detail page views per visitor|covid_messaging_experiment|       control|      3304|           1799.0| 0.5444915254237288|\n",
       "|     Product detail page views per visitor|covid_messaging_experiment|     message_1|      3367|           2414.0| 0.7169587169587169|\n",
       "|     Product detail page views per visitor|covid_messaging_experiment|     message_2|      3329|           2900.0|  0.871132472213878|\n",
       "|                  Purchase conversion rate|covid_messaging_experiment|       control|      3304|            163.0|0.04933414043583535|\n",
       "|                  Purchase conversion rate|covid_messaging_experiment|     message_1|      3367|            169.0|0.05019305019305019|\n",
       "|                  Purchase conversion rate|covid_messaging_experiment|     message_2|      3329|            223.0|0.06698708320817062|\n",
       "|Total customer support minutes per visitor|covid_messaging_experiment|       control|      3304| 5154.63733961806| 1.5601202601749575|\n",
       "|Total customer support minutes per visitor|covid_messaging_experiment|     message_1|      3367|5011.598830877945|  1.488446341217091|\n",
       "|Total customer support minutes per visitor|covid_messaging_experiment|     message_2|      3329|5101.002656990411| 1.5322927777081439|\n",
       "+------------------------------------------+--------------------------+--------------+----------+-----------------+-------------------+"
      ]
     },
     "execution_count": 30,
     "metadata": {},
     "output_type": "execute_result"
    }
   ],
   "source": [
    "# Compute metric values broken down by experiment variation\n",
    "spark.sql(\"\"\"\n",
    "    SELECT\n",
    "        metric_name,\n",
    "        experiment_name,\n",
    "        variation_name,\n",
    "        count(1) as unit_count,\n",
    "        sum(observation),\n",
    "        sum(observation) / (1.0 * count(1)) as metric_value\n",
    "    FROM\n",
    "        observations\n",
    "    GROUP BY\n",
    "        metric_name,\n",
    "        experiment_name,\n",
    "        variation_name\n",
    "    ORDER BY\n",
    "        metric_name,\n",
    "        experiment_name,\n",
    "        variation_name\n",
    "\"\"\")"
   ]
  },
  {
   "cell_type": "markdown",
   "metadata": {},
   "source": [
    "### Computing metric values for a visitor segment\n",
    "\n",
    "We can filter metric observations by visitor attributes in order to compute metric values for a particular segment."
   ]
  },
  {
   "cell_type": "code",
   "execution_count": 31,
   "metadata": {},
   "outputs": [
    {
     "data": {
      "text/html": [
       "<table border='1'>\n",
       "<tr><th>metric_name</th><th>experiment_name</th><th>variation_name</th><th>browser</th><th>unit_count</th><th>sum(observation)</th><th>metric_value</th></tr>\n",
       "<tr><td>Customer support calls per visitor</td><td>covid_messaging_experiment</td><td>control</td><td>chrome</td><td>1651</td><td>566.0</td><td>0.34282253179890976</td></tr>\n",
       "<tr><td>Customer support calls per visitor</td><td>covid_messaging_experiment</td><td>control</td><td>firefox</td><td>1094</td><td>353.0</td><td>0.3226691042047532</td></tr>\n",
       "<tr><td>Customer support calls per visitor</td><td>covid_messaging_experiment</td><td>control</td><td>safari</td><td>559</td><td>196.0</td><td>0.35062611806797855</td></tr>\n",
       "<tr><td>Customer support calls per visitor</td><td>covid_messaging_experiment</td><td>message_1</td><td>chrome</td><td>1723</td><td>590.0</td><td>0.3424260011607661</td></tr>\n",
       "<tr><td>Customer support calls per visitor</td><td>covid_messaging_experiment</td><td>message_1</td><td>firefox</td><td>1085</td><td>342.0</td><td>0.3152073732718894</td></tr>\n",
       "<tr><td>Customer support calls per visitor</td><td>covid_messaging_experiment</td><td>message_1</td><td>safari</td><td>559</td><td>177.0</td><td>0.31663685152057247</td></tr>\n",
       "<tr><td>Customer support calls per visitor</td><td>covid_messaging_experiment</td><td>message_2</td><td>chrome</td><td>1695</td><td>569.0</td><td>0.335693215339233</td></tr>\n",
       "<tr><td>Customer support calls per visitor</td><td>covid_messaging_experiment</td><td>message_2</td><td>firefox</td><td>1121</td><td>377.0</td><td>0.33630686886708294</td></tr>\n",
       "<tr><td>Customer support calls per visitor</td><td>covid_messaging_experiment</td><td>message_2</td><td>safari</td><td>513</td><td>169.0</td><td>0.32943469785575047</td></tr>\n",
       "<tr><td>Electronics revenue per visitor</td><td>covid_messaging_experiment</td><td>control</td><td>chrome</td><td>1651</td><td>7719913.0</td><td>4675.90127195639</td></tr>\n",
       "<tr><td>Electronics revenue per visitor</td><td>covid_messaging_experiment</td><td>control</td><td>firefox</td><td>1094</td><td>4259953.0</td><td>3893.924131627057</td></tr>\n",
       "<tr><td>Electronics revenue per visitor</td><td>covid_messaging_experiment</td><td>control</td><td>safari</td><td>559</td><td>2519971.0</td><td>4507.998211091234</td></tr>\n",
       "<tr><td>Electronics revenue per visitor</td><td>covid_messaging_experiment</td><td>message_1</td><td>chrome</td><td>1723</td><td>6739924.0</td><td>3911.737666860128</td></tr>\n",
       "<tr><td>Electronics revenue per visitor</td><td>covid_messaging_experiment</td><td>message_1</td><td>firefox</td><td>1085</td><td>5619936.0</td><td>5179.664516129033</td></tr>\n",
       "<tr><td>Electronics revenue per visitor</td><td>covid_messaging_experiment</td><td>message_1</td><td>safari</td><td>559</td><td>2599971.0</td><td>4651.110912343471</td></tr>\n",
       "<tr><td>Electronics revenue per visitor</td><td>covid_messaging_experiment</td><td>message_2</td><td>chrome</td><td>1695</td><td>1.0199885E7</td><td>6017.6312684365785</td></tr>\n",
       "<tr><td>Electronics revenue per visitor</td><td>covid_messaging_experiment</td><td>message_2</td><td>firefox</td><td>1121</td><td>7119921.0</td><td>6351.401427297056</td></tr>\n",
       "<tr><td>Electronics revenue per visitor</td><td>covid_messaging_experiment</td><td>message_2</td><td>safari</td><td>513</td><td>2579971.0</td><td>5029.1832358674465</td></tr>\n",
       "<tr><td>Product detail page views per visitor</td><td>covid_messaging_experiment</td><td>control</td><td>chrome</td><td>1651</td><td>912.0</td><td>0.5523924894003635</td></tr>\n",
       "<tr><td>Product detail page views per visitor</td><td>covid_messaging_experiment</td><td>control</td><td>firefox</td><td>1094</td><td>571.0</td><td>0.5219378427787934</td></tr>\n",
       "</table>\n",
       "only showing top 20 rows\n"
      ],
      "text/plain": [
       "+-------------------------------------+--------------------------+--------------+-------+----------+----------------+-------------------+\n",
       "|                          metric_name|           experiment_name|variation_name|browser|unit_count|sum(observation)|       metric_value|\n",
       "+-------------------------------------+--------------------------+--------------+-------+----------+----------------+-------------------+\n",
       "|   Customer support calls per visitor|covid_messaging_experiment|       control| chrome|      1651|           566.0|0.34282253179890976|\n",
       "|   Customer support calls per visitor|covid_messaging_experiment|       control|firefox|      1094|           353.0| 0.3226691042047532|\n",
       "|   Customer support calls per visitor|covid_messaging_experiment|       control| safari|       559|           196.0|0.35062611806797855|\n",
       "|   Customer support calls per visitor|covid_messaging_experiment|     message_1| chrome|      1723|           590.0| 0.3424260011607661|\n",
       "|   Customer support calls per visitor|covid_messaging_experiment|     message_1|firefox|      1085|           342.0| 0.3152073732718894|\n",
       "|   Customer support calls per visitor|covid_messaging_experiment|     message_1| safari|       559|           177.0|0.31663685152057247|\n",
       "|   Customer support calls per visitor|covid_messaging_experiment|     message_2| chrome|      1695|           569.0|  0.335693215339233|\n",
       "|   Customer support calls per visitor|covid_messaging_experiment|     message_2|firefox|      1121|           377.0|0.33630686886708294|\n",
       "|   Customer support calls per visitor|covid_messaging_experiment|     message_2| safari|       513|           169.0|0.32943469785575047|\n",
       "|      Electronics revenue per visitor|covid_messaging_experiment|       control| chrome|      1651|       7719913.0|   4675.90127195639|\n",
       "|      Electronics revenue per visitor|covid_messaging_experiment|       control|firefox|      1094|       4259953.0|  3893.924131627057|\n",
       "|      Electronics revenue per visitor|covid_messaging_experiment|       control| safari|       559|       2519971.0|  4507.998211091234|\n",
       "|      Electronics revenue per visitor|covid_messaging_experiment|     message_1| chrome|      1723|       6739924.0|  3911.737666860128|\n",
       "|      Electronics revenue per visitor|covid_messaging_experiment|     message_1|firefox|      1085|       5619936.0|  5179.664516129033|\n",
       "|      Electronics revenue per visitor|covid_messaging_experiment|     message_1| safari|       559|       2599971.0|  4651.110912343471|\n",
       "|      Electronics revenue per visitor|covid_messaging_experiment|     message_2| chrome|      1695|     1.0199885E7| 6017.6312684365785|\n",
       "|      Electronics revenue per visitor|covid_messaging_experiment|     message_2|firefox|      1121|       7119921.0|  6351.401427297056|\n",
       "|      Electronics revenue per visitor|covid_messaging_experiment|     message_2| safari|       513|       2579971.0| 5029.1832358674465|\n",
       "|Product detail page views per visitor|covid_messaging_experiment|       control| chrome|      1651|           912.0| 0.5523924894003635|\n",
       "|Product detail page views per visitor|covid_messaging_experiment|       control|firefox|      1094|           571.0| 0.5219378427787934|\n",
       "+-------------------------------------+--------------------------+--------------+-------+----------+----------------+-------------------+\n",
       "only showing top 20 rows"
      ]
     },
     "execution_count": 31,
     "metadata": {},
     "output_type": "execute_result"
    }
   ],
   "source": [
    "# Compute metric values broken down by customer segment\n",
    "spark.sql(\"\"\"\n",
    "    SELECT\n",
    "        metric_name,\n",
    "        experiment_name,\n",
    "        variation_name,\n",
    "        attrs.value as browser,\n",
    "        count(1) as unit_count,\n",
    "        sum(observation),\n",
    "        sum(observation) / (1.0 * count(1)) as metric_value\n",
    "    FROM\n",
    "        observations\n",
    "        LATERAL VIEW explode(attributes) AS attrs\n",
    "    WHERE\n",
    "        attrs.name = \"browser\"\n",
    "    GROUP BY\n",
    "        metric_name,\n",
    "        experiment_name,\n",
    "        variation_name,\n",
    "        attrs.value\n",
    "    ORDER BY\n",
    "        metric_name,\n",
    "        experiment_name,\n",
    "        variation_name,\n",
    "        attrs.value\n",
    "\"\"\")"
   ]
  },
  {
   "cell_type": "markdown",
   "metadata": {},
   "source": [
    "## Computing sequential statistics with Optimizely's Stats Services\n",
    "\n",
    "We're working on launching a set of Stats Services that can be used to perform sequential hypothesis testing on metric observation data.  You can learn more about these services and request early access [here](optimizely.com/solutions/data-teams)."
   ]
  },
  {
   "cell_type": "markdown",
   "metadata": {},
   "source": [
    "## Writing our datasets to disk\n",
    "\n",
    "We'll write our experiment units, experiment events, and metric observations datasets to disk so that they may be used for other analysis tasks."
   ]
  },
  {
   "cell_type": "code",
   "execution_count": 32,
   "metadata": {},
   "outputs": [],
   "source": [
    "from lib import util\n",
    "\n",
    "experiment_units_dir = os.path.join(OPTIMIZELY_DATA_DIR, \"type=experiment_units\")\n",
    "util.write_parquet_data_to_disk(experiment_units, experiment_units_dir, partition_by=\"experiment_id\")\n",
    "\n",
    "experiment_events_dir = os.path.join(OPTIMIZELY_DATA_DIR, \"type=experiment_events\")\n",
    "util.write_parquet_data_to_disk(experiment_events, experiment_events_dir, partition_by=[\"experiment_id\", \"event_name\"])\n",
    "\n",
    "metric_observations_dir = os.path.join(OPTIMIZELY_DATA_DIR, \"type=metric_observations\")\n",
    "util.write_parquet_data_to_disk(observations, metric_observations_dir, partition_by=[\"experiment_id\", \"metric_name\"])"
   ]
  },
  {
   "cell_type": "markdown",
   "metadata": {},
   "source": [
    "## How to run this notebook\n",
    "\n",
    "This notebook lives in the [Optimizely Labs](http://github.com/optimizely/labs) repository.  You can download it and everything you need to run it by doing one of the following\n",
    "- Downloading a zipped copy of this Lab directory on the [Optimizely Labs page](https://www.optimizely.com/labs/computing-experiment-subjects/)\n",
    "- Downloading a [zipped copy of the Optimizely Labs repository](https://github.com/optimizely/labs/archive/master.zip) from Github\n",
    "- Cloning the [Github respository](http://github.com/optimizely/labs)\n",
    "\n",
    "Once you've downloaded this Lab directory (on its own, or as part of the [Optimizely Labs](http://github.com/optimizely/labs) repository), follow the instructions in the `README.md` file for this Lab."
   ]
  },
  {
   "cell_type": "code",
   "execution_count": null,
   "metadata": {},
   "outputs": [],
   "source": []
  }
 ],
 "metadata": {
  "kernelspec": {
   "display_name": "Python 3 (Optimizely Labs Environment)",
   "language": "python",
   "name": "optimizelylabs"
  },
  "language_info": {
   "codemirror_mode": {
    "name": "ipython",
    "version": 3
   },
   "file_extension": ".py",
   "mimetype": "text/x-python",
   "name": "python",
   "nbconvert_exporter": "python",
   "pygments_lexer": "ipython3",
   "version": "3.7.6"
  }
 },
 "nbformat": 4,
 "nbformat_minor": 4
}
