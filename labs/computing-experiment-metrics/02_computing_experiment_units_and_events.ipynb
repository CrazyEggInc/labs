{
 "cells": [
  {
   "cell_type": "markdown",
   "metadata": {},
   "source": [
    "# Computing Experiment Datasets #2: Computing Experiment Units and Events\n",
    "\n",
    "This notebook is part of a multi-part series focused on computing useful experiment datasets. In this notegbook, we'll use [PySpark](https://spark.apache.org/docs/latest/api/python/index.html) to compute two useful experiment datasets: _experiment units_ and _experiment events_.\n",
    "\n",
    "**Experiment units** are the individual units that are exposed to a control or treatment in the course of an online experiment.  In most online experiments, subjects are website visitors or app users. However, depending on your experiment design, treatments may also be applied to individual user sessions, service requests, search queries, etc. \n",
    "\n",
    "An **Experiment event** is an event, such as a button click or a purchase, that was influenced by an experiment.  We compute this view by isolating the conversion events triggered during a finite window of time (called the _attribution window_) after a visitor has been exposed to an experiment treatment.\n",
    "\n",
    "The transformations executed in this notebook are part of a larger [DAG](https://en.wikipedia.org/wiki/Directed_acyclic_graph) that can be used to perform sequential hypothesis testing with event-level experiment data:\n",
    "\n",
    "![Experiment Analysis DAG](img/transformations.png)\n",
    "\n",
    "This notebook is _experiment agnostic_ and can be used to compute experiment units and events for arbitrary _decision_ and _conversion_ input data."
   ]
  },
  {
   "cell_type": "markdown",
   "metadata": {},
   "source": [
    "## Global parameters\n",
    "\n",
    "The following global parameters are used to control the execution in this notebook.  These parameters may be overridden by setting environment variables prior to launching the notebook, e.g.:\n",
    "\n",
    "```\n",
    "export OPTIMIZELY_DATA_DIR=~/my_analysis_dir\n",
    "```"
   ]
  },
  {
   "cell_type": "code",
   "execution_count": 41,
   "metadata": {},
   "outputs": [],
   "source": [
    "import os\n",
    "\n",
    "# Determines whether output data should be written back to disk\n",
    "# Defaults to False; setting this to True may be useful when running this notebook\n",
    "# as part of a larger workflow\n",
    "SKIP_WRITING_OUTPUT_DATA_TO_DISK = os.environ.get(\"SKIP_WRITING_OUTPUT_DATA_TO_DISK\", False)\n",
    "\n",
    "# Default path for reading and writing analysis data\n",
    "OPTIMIZELY_DATA_DIR = os.environ.get(\"OPTIMIZELY_DATA_DIR\", \"./covid_test_data\")"
   ]
  },
  {
   "cell_type": "markdown",
   "metadata": {},
   "source": [
    "## Load Decision and Conversion Data into Spark Dataframes\n",
    "\n",
    "We'll use [PySpark](https://spark.apache.org/docs/latest/api/python/index.html) to transform data in this notebook. We'll start by creating a new local Spark session."
   ]
  },
  {
   "cell_type": "code",
   "execution_count": 55,
   "metadata": {},
   "outputs": [],
   "source": [
    "from pyspark.sql import SparkSession\n",
    "\n",
    "num_cores = 1\n",
    "driver_ip = \"127.0.0.1\"\n",
    "driver_memory_gb = 1\n",
    "executor_memory_gb = 2\n",
    "\n",
    "# Create a local Spark session\n",
    "spark = SparkSession \\\n",
    "    .builder \\\n",
    "    .appName(\"Python Spark SQL\") \\\n",
    "    .config(f\"local[{num_cores}]\") \\\n",
    "    .config(\"spark.sql.repl.eagerEval.enabled\", True) \\\n",
    "    .config(\"spark.sql.repl.eagerEval.truncate\", 120) \\\n",
    "    .config(\"spark.driver.bindAddress\", driver_ip) \\\n",
    "    .config(\"spark.driver.host\", driver_ip) \\\n",
    "    .config(\"spark.driver.memory\", f\"{driver_memory_gb}g\") \\\n",
    "    .config(\"spark.executor.memory\", f\"{executor_memory_gb}g\") \\\n",
    "    .getOrCreate()"
   ]
  },
  {
   "cell_type": "markdown",
   "metadata": {},
   "source": [
    "Next we'll load our decision data into a Spark dataframe:"
   ]
  },
  {
   "cell_type": "code",
   "execution_count": 56,
   "metadata": {},
   "outputs": [],
   "source": [
    "import os\n",
    "from lib import util\n",
    "\n",
    "decisions_dir = os.path.join(optimizely_data_dir, \"type=enriched_decisions\")\n",
    "\n",
    "# load enriched decision data from disk into a new Spark dataframe\n",
    "decisions = util.read_parquet_data_from_disk(\n",
    "    spark_session=spark,\n",
    "    data_path=decisions_dir,\n",
    "    view_name=\"enriched_decisions\"\n",
    ")"
   ]
  },
  {
   "cell_type": "markdown",
   "metadata": {},
   "source": [
    "Now we can write SQL-style queries against our `enriched_decisions` view.  Let's use a simple query to examine our data:"
   ]
  },
  {
   "cell_type": "code",
   "execution_count": 57,
   "metadata": {},
   "outputs": [
    {
     "data": {
      "text/html": [
       "<table border='1'>\n",
       "<tr><th>experiment_name</th><th>variation_name</th><th>reference_variation_id</th><th>uuid</th><th>timestamp</th><th>process_timestamp</th><th>visitor_id</th><th>session_id</th><th>account_id</th><th>campaign_id</th><th>variation_id</th><th>attributes</th><th>user_ip</th><th>user_agent</th><th>referer</th><th>is_holdback</th><th>revision</th><th>client_engine</th><th>client_version</th><th>date</th><th>experiment</th><th>experiment_id</th></tr>\n",
       "<tr><td>covid_messaging_experiment</td><td>control</td><td>18802093142</td><td>3e1d31a3-41c2-4f22-9b77-6a67f44a269a</td><td>2020-09-14 11:21:40.177</td><td>2020-09-14 11:22:05.571</td><td>user_0</td><td>-535397001</td><td>596780373</td><td>18811053836</td><td>18802093142</td><td>[[$opt_bot_filtering, $opt_bot_filtering, custom, false], [$opt_enrich_decisions, $opt_enrich_decisions, custom, true...</td><td>162.227.140.251</td><td>python-requests/2.24.0</td><td>null</td><td>false</td><td>99</td><td>python-sdk</td><td>3.5.2</td><td>2020-09-14</td><td>18786493712</td><td>18786493712</td></tr>\n",
       "<tr><td>covid_messaging_experiment</td><td>control</td><td>18802093142</td><td>e37700df-856c-46c9-9c6d-b771ff244c2c</td><td>2020-09-14 11:21:40.279</td><td>2020-09-14 11:22:12.287</td><td>user_1</td><td>-1393366513</td><td>596780373</td><td>18811053836</td><td>18802093142</td><td>[[$opt_bot_filtering, $opt_bot_filtering, custom, false], [$opt_enrich_decisions, $opt_enrich_decisions, custom, true...</td><td>162.227.140.251</td><td>python-requests/2.24.0</td><td>null</td><td>false</td><td>99</td><td>python-sdk</td><td>3.5.2</td><td>2020-09-14</td><td>18786493712</td><td>18786493712</td></tr>\n",
       "<tr><td>covid_messaging_experiment</td><td>control</td><td>18802093142</td><td>aa14c408-19a3-410d-8536-7cf120777f00</td><td>2020-09-14 11:21:41.199</td><td>2020-09-14 11:22:13.222</td><td>user_10</td><td>582981235</td><td>596780373</td><td>18811053836</td><td>18802093142</td><td>[[$opt_bot_filtering, $opt_bot_filtering, custom, false], [$opt_enrich_decisions, $opt_enrich_decisions, custom, true...</td><td>162.227.140.251</td><td>python-requests/2.24.0</td><td>null</td><td>false</td><td>99</td><td>python-sdk</td><td>3.5.2</td><td>2020-09-14</td><td>18786493712</td><td>18786493712</td></tr>\n",
       "</table>\n"
      ],
      "text/plain": [
       "+--------------------------+--------------+----------------------+------------------------------------+-----------------------+-----------------------+----------+-----------+----------+-----------+------------+------------------------------------------------------------------------------------------------------------------------+---------------+----------------------+-------+-----------+--------+-------------+--------------+----------+-----------+-------------+\n",
       "|           experiment_name|variation_name|reference_variation_id|                                uuid|              timestamp|      process_timestamp|visitor_id| session_id|account_id|campaign_id|variation_id|                                                                                                              attributes|        user_ip|            user_agent|referer|is_holdback|revision|client_engine|client_version|      date| experiment|experiment_id|\n",
       "+--------------------------+--------------+----------------------+------------------------------------+-----------------------+-----------------------+----------+-----------+----------+-----------+------------+------------------------------------------------------------------------------------------------------------------------+---------------+----------------------+-------+-----------+--------+-------------+--------------+----------+-----------+-------------+\n",
       "|covid_messaging_experiment|       control|           18802093142|3e1d31a3-41c2-4f22-9b77-6a67f44a269a|2020-09-14 11:21:40.177|2020-09-14 11:22:05.571|    user_0| -535397001| 596780373|18811053836| 18802093142|[[$opt_bot_filtering, $opt_bot_filtering, custom, false], [$opt_enrich_decisions, $opt_enrich_decisions, custom, true...|162.227.140.251|python-requests/2.24.0|   null|      false|      99|   python-sdk|         3.5.2|2020-09-14|18786493712|  18786493712|\n",
       "|covid_messaging_experiment|       control|           18802093142|e37700df-856c-46c9-9c6d-b771ff244c2c|2020-09-14 11:21:40.279|2020-09-14 11:22:12.287|    user_1|-1393366513| 596780373|18811053836| 18802093142|[[$opt_bot_filtering, $opt_bot_filtering, custom, false], [$opt_enrich_decisions, $opt_enrich_decisions, custom, true...|162.227.140.251|python-requests/2.24.0|   null|      false|      99|   python-sdk|         3.5.2|2020-09-14|18786493712|  18786493712|\n",
       "|covid_messaging_experiment|       control|           18802093142|aa14c408-19a3-410d-8536-7cf120777f00|2020-09-14 11:21:41.199|2020-09-14 11:22:13.222|   user_10|  582981235| 596780373|18811053836| 18802093142|[[$opt_bot_filtering, $opt_bot_filtering, custom, false], [$opt_enrich_decisions, $opt_enrich_decisions, custom, true...|162.227.140.251|python-requests/2.24.0|   null|      false|      99|   python-sdk|         3.5.2|2020-09-14|18786493712|  18786493712|\n",
       "+--------------------------+--------------+----------------------+------------------------------------+-----------------------+-----------------------+----------+-----------+----------+-----------+------------+------------------------------------------------------------------------------------------------------------------------+---------------+----------------------+-------+-----------+--------+-------------+--------------+----------+-----------+-------------+"
      ]
     },
     "execution_count": 57,
     "metadata": {},
     "output_type": "execute_result"
    }
   ],
   "source": [
    "spark.sql(\"\"\"\n",
    "    SELECT\n",
    "        *\n",
    "    FROM\n",
    "        enriched_decisions\n",
    "    LIMIT 3\n",
    "\"\"\")"
   ]
  },
  {
   "cell_type": "markdown",
   "metadata": {},
   "source": [
    "Next we'll load conversion data:"
   ]
  },
  {
   "cell_type": "code",
   "execution_count": 58,
   "metadata": {},
   "outputs": [],
   "source": [
    "# oevents downloads conversion data into the type=events subdirectory\n",
    "conversions_dir = os.path.join(optimizely_data_dir, \"type=events\")\n",
    "\n",
    "# load conversion data from disk into a new Spark dataframe\n",
    "converions = util.read_parquet_data_from_disk(\n",
    "    spark_session=spark,\n",
    "    data_path=conversions_dir,\n",
    "    view_name=\"events\"\n",
    ")"
   ]
  },
  {
   "cell_type": "markdown",
   "metadata": {},
   "source": [
    "Let's take a look at our data:"
   ]
  },
  {
   "cell_type": "code",
   "execution_count": 59,
   "metadata": {},
   "outputs": [
    {
     "data": {
      "text/html": [
       "<table border='1'>\n",
       "<tr><th>uuid</th><th>timestamp</th><th>process_timestamp</th><th>visitor_id</th><th>session_id</th><th>account_id</th><th>experiments</th><th>entity_id</th><th>attributes</th><th>user_ip</th><th>user_agent</th><th>referer</th><th>event_type</th><th>event_name</th><th>revenue</th><th>value</th><th>quantity</th><th>tags</th><th>revision</th><th>client_engine</th><th>client_version</th><th>date</th><th>event</th></tr>\n",
       "<tr><td>9f91d071-535a-41a5-83f9-eaea10b097dc</td><td>2020-09-14 10:32:22.544</td><td>2020-09-14 10:33:05.618</td><td>user_0</td><td>2107132638</td><td>596780373</td><td>[[18803622799, 18805683213, 18821642160, false]]</td><td>18822540003</td><td>[[$opt_bot_filtering, $opt_bot_filtering, custom, false], [$opt_enrich_decisions, $opt_enrich_decisions, custom, true...</td><td>162.227.140.251</td><td>python-requests/2.24.0</td><td>null</td><td>null</td><td>homepage_view</td><td>0</td><td>null</td><td>0</td><td>[]</td><td>91</td><td>python-sdk</td><td>3.5.2</td><td>2020-09-14</td><td>homepage_view</td></tr>\n",
       "<tr><td>ceaf941d-8267-4942-a952-0e7885726fe4</td><td>2020-09-14 11:21:40.178</td><td>2020-09-14 11:22:05.571</td><td>user_0</td><td>-535397001</td><td>596780373</td><td>[[18803622799, 18805683213, 18821642160, false], [18811053836, 18786493712, 18802093142, false]]</td><td>18822540003</td><td>[[$opt_bot_filtering, $opt_bot_filtering, custom, false], [$opt_enrich_decisions, $opt_enrich_decisions, custom, true...</td><td>162.227.140.251</td><td>python-requests/2.24.0</td><td>null</td><td>null</td><td>homepage_view</td><td>0</td><td>null</td><td>0</td><td>[]</td><td>99</td><td>python-sdk</td><td>3.5.2</td><td>2020-09-14</td><td>homepage_view</td></tr>\n",
       "<tr><td>97e8b812-4608-4329-8d13-52bf18aa7058</td><td>2020-09-14 10:32:22.648</td><td>2020-09-14 10:33:12.359</td><td>user_1</td><td>-1316211988</td><td>596780373</td><td>[[18803622799, 18805683213, 18809464474, false]]</td><td>18822540003</td><td>[[$opt_bot_filtering, $opt_bot_filtering, custom, false], [$opt_enrich_decisions, $opt_enrich_decisions, custom, true...</td><td>162.227.140.251</td><td>python-requests/2.24.0</td><td>null</td><td>null</td><td>homepage_view</td><td>0</td><td>null</td><td>0</td><td>[]</td><td>91</td><td>python-sdk</td><td>3.5.2</td><td>2020-09-14</td><td>homepage_view</td></tr>\n",
       "</table>\n"
      ],
      "text/plain": [
       "+------------------------------------+-----------------------+-----------------------+----------+-----------+----------+------------------------------------------------------------------------------------------------+-----------+------------------------------------------------------------------------------------------------------------------------+---------------+----------------------+-------+----------+-------------+-------+-----+--------+----+--------+-------------+--------------+----------+-------------+\n",
       "|                                uuid|              timestamp|      process_timestamp|visitor_id| session_id|account_id|                                                                                     experiments|  entity_id|                                                                                                              attributes|        user_ip|            user_agent|referer|event_type|   event_name|revenue|value|quantity|tags|revision|client_engine|client_version|      date|        event|\n",
       "+------------------------------------+-----------------------+-----------------------+----------+-----------+----------+------------------------------------------------------------------------------------------------+-----------+------------------------------------------------------------------------------------------------------------------------+---------------+----------------------+-------+----------+-------------+-------+-----+--------+----+--------+-------------+--------------+----------+-------------+\n",
       "|9f91d071-535a-41a5-83f9-eaea10b097dc|2020-09-14 10:32:22.544|2020-09-14 10:33:05.618|    user_0| 2107132638| 596780373|                                                [[18803622799, 18805683213, 18821642160, false]]|18822540003|[[$opt_bot_filtering, $opt_bot_filtering, custom, false], [$opt_enrich_decisions, $opt_enrich_decisions, custom, true...|162.227.140.251|python-requests/2.24.0|   null|      null|homepage_view|      0| null|       0|  []|      91|   python-sdk|         3.5.2|2020-09-14|homepage_view|\n",
       "|ceaf941d-8267-4942-a952-0e7885726fe4|2020-09-14 11:21:40.178|2020-09-14 11:22:05.571|    user_0| -535397001| 596780373|[[18803622799, 18805683213, 18821642160, false], [18811053836, 18786493712, 18802093142, false]]|18822540003|[[$opt_bot_filtering, $opt_bot_filtering, custom, false], [$opt_enrich_decisions, $opt_enrich_decisions, custom, true...|162.227.140.251|python-requests/2.24.0|   null|      null|homepage_view|      0| null|       0|  []|      99|   python-sdk|         3.5.2|2020-09-14|homepage_view|\n",
       "|97e8b812-4608-4329-8d13-52bf18aa7058|2020-09-14 10:32:22.648|2020-09-14 10:33:12.359|    user_1|-1316211988| 596780373|                                                [[18803622799, 18805683213, 18809464474, false]]|18822540003|[[$opt_bot_filtering, $opt_bot_filtering, custom, false], [$opt_enrich_decisions, $opt_enrich_decisions, custom, true...|162.227.140.251|python-requests/2.24.0|   null|      null|homepage_view|      0| null|       0|  []|      91|   python-sdk|         3.5.2|2020-09-14|homepage_view|\n",
       "+------------------------------------+-----------------------+-----------------------+----------+-----------+----------+------------------------------------------------------------------------------------------------+-----------+------------------------------------------------------------------------------------------------------------------------+---------------+----------------------+-------+----------+-------------+-------+-----+--------+----+--------+-------------+--------------+----------+-------------+"
      ]
     },
     "execution_count": 59,
     "metadata": {},
     "output_type": "execute_result"
    }
   ],
   "source": [
    "spark.sql(\"\"\"\n",
    "    SELECT\n",
    "        *\n",
    "    FROM\n",
    "        events\n",
    "    LIMIT 3\n",
    "\"\"\")"
   ]
  },
  {
   "cell_type": "markdown",
   "metadata": {},
   "source": [
    "## Compute Experiment Units\n",
    "\n",
    "**Experiment units** are the individual units that are exposed to a control or treatment in the course of an online experiment.  In most online experiments, subjects are website visitors or app users. However, depending on your experiment design, treatments may also be applied to individual user sessions, service requests, search queries, etc. \n",
    "\n",
    "<table>\n",
    "    <tr>\n",
    "        <td>\n",
    "            <img src=\"img/transformations_1.png\" alt=\"Experiment Units\" style=\"width:100%; padding-left:0px\">\n",
    "        </td>\n",
    "        <td>\n",
    "            <img src=\"img/tables_1.png\" alt=\"Experiment Units\" style=\"width:100%; padding-left:0px\">\n",
    "        </td>\n",
    "    </tr>\n",
    "</table>\n",
    "\n",
    "**Note:** The attribution logic captured in the following query is identical to the logic used to count visitors on an [Optimizely Full Stack](https://www.optimizely.com/platform/full-stack/) Experiment Results Page.  It differs slightly from the logic used on an [Optimizely Web](https://www.optimizely.com/platform/experimentation/) Experiment Results Page.  In Optimizely Web, conversion events sent from the browser contain some historial information about which experiments and variations a visitor has seen.  That information is used to count visitors in an experiment even if an explicit decision event is not sent to Optimizely. This ensures that even in the rare case where a decision event is \"dropped\" (which may occur when a browser window is closed or there are connectivity issues) a visitor will still be counted."
   ]
  },
  {
   "cell_type": "code",
   "execution_count": 30,
   "metadata": {},
   "outputs": [],
   "source": [
    "experiment_units = spark.sql(f\"\"\"\n",
    "    SELECT\n",
    "        *\n",
    "    FROM (\n",
    "        SELECT\n",
    "            *,\n",
    "            RANK() OVER (PARTITION BY experiment_id, visitor_id ORDER BY timestamp ASC) AS rnk\n",
    "        FROM\n",
    "            enriched_decisions\n",
    "    )\n",
    "    WHERE\n",
    "        rnk = 1\n",
    "    ORDER BY timestamp ASC\n",
    "\"\"\").drop(\"rnk\")\n",
    "experiment_units.createOrReplaceTempView(\"experiment_units\")"
   ]
  },
  {
   "cell_type": "markdown",
   "metadata": {},
   "source": [
    "Let's examine our experiment unit dataset:"
   ]
  },
  {
   "cell_type": "code",
   "execution_count": 31,
   "metadata": {},
   "outputs": [
    {
     "data": {
      "text/html": [
       "<table border='1'>\n",
       "<tr><th>visitor_id</th><th>experiment_name</th><th>variation_name</th><th>timestamp</th></tr>\n",
       "<tr><td>user_0</td><td>covid_messaging_experiment</td><td>control</td><td>2020-09-14 11:21:40.177</td></tr>\n",
       "<tr><td>user_1</td><td>covid_messaging_experiment</td><td>control</td><td>2020-09-14 11:21:40.279</td></tr>\n",
       "<tr><td>user_2</td><td>covid_messaging_experiment</td><td>control</td><td>2020-09-14 11:21:40.381</td></tr>\n",
       "</table>\n"
      ],
      "text/plain": [
       "+----------+--------------------------+--------------+-----------------------+\n",
       "|visitor_id|           experiment_name|variation_name|              timestamp|\n",
       "+----------+--------------------------+--------------+-----------------------+\n",
       "|    user_0|covid_messaging_experiment|       control|2020-09-14 11:21:40.177|\n",
       "|    user_1|covid_messaging_experiment|       control|2020-09-14 11:21:40.279|\n",
       "|    user_2|covid_messaging_experiment|       control|2020-09-14 11:21:40.381|\n",
       "+----------+--------------------------+--------------+-----------------------+"
      ]
     },
     "execution_count": 31,
     "metadata": {},
     "output_type": "execute_result"
    }
   ],
   "source": [
    "spark.sql(\"\"\"\n",
    "    SELECT\n",
    "        visitor_id,\n",
    "        experiment_name,\n",
    "        variation_name,\n",
    "        timestamp\n",
    "    FROM\n",
    "        experiment_units\n",
    "    LIMIT 3\n",
    "\"\"\")"
   ]
  },
  {
   "cell_type": "markdown",
   "metadata": {},
   "source": [
    "Let's count the number of visitors in each experiment variation:"
   ]
  },
  {
   "cell_type": "code",
   "execution_count": 32,
   "metadata": {},
   "outputs": [
    {
     "data": {
      "text/html": [
       "<table border='1'>\n",
       "<tr><th>experiment_name</th><th>variation_name</th><th>unit_count</th></tr>\n",
       "<tr><td>covid_messaging_experiment</td><td>control</td><td>3304</td></tr>\n",
       "<tr><td>covid_messaging_experiment</td><td>message_1</td><td>3367</td></tr>\n",
       "<tr><td>covid_messaging_experiment</td><td>message_2</td><td>3329</td></tr>\n",
       "</table>\n"
      ],
      "text/plain": [
       "+--------------------------+--------------+----------+\n",
       "|           experiment_name|variation_name|unit_count|\n",
       "+--------------------------+--------------+----------+\n",
       "|covid_messaging_experiment|       control|      3304|\n",
       "|covid_messaging_experiment|     message_1|      3367|\n",
       "|covid_messaging_experiment|     message_2|      3329|\n",
       "+--------------------------+--------------+----------+"
      ]
     },
     "execution_count": 32,
     "metadata": {},
     "output_type": "execute_result"
    }
   ],
   "source": [
    "spark.sql(\"\"\"\n",
    "    SELECT \n",
    "        experiment_name,\n",
    "        variation_name,\n",
    "        count(*) as unit_count\n",
    "    FROM \n",
    "        experiment_units\n",
    "    GROUP BY \n",
    "        experiment_name,\n",
    "        variation_name\n",
    "    ORDER BY\n",
    "        experiment_name ASC,\n",
    "        variation_name ASC\n",
    "\"\"\")"
   ]
  },
  {
   "cell_type": "markdown",
   "metadata": {},
   "source": [
    "### Experiment Events\n",
    "\n",
    "An **experiment event** is an event, such as a button click or a purchase, that was influenced by an experiment.  We compute this view by isolating the conversion events triggered during a finite window of time (called the _attribution window_) after a visitor has been exposed to an experiment treatment.\n",
    "\n",
    "<table>\n",
    "    <tr>\n",
    "        <td>\n",
    "            <img src=\"img/transformations_2.png\" alt=\"Experiment Units\" style=\"width:100%; padding-left:0px\">\n",
    "        </td>\n",
    "        <td>\n",
    "            <img src=\"img/tables_2.png\" alt=\"Experiment Units\" style=\"width:100%; padding-left:0px\">\n",
    "        </td>\n",
    "    </tr>\n",
    "</table>\n",
    "\n",
    "**Note:** The attribution logic captured in the following query is similar to, but does not exactly match the logic used by Optimizely's experiment results page.  On Optimizely's results page, all events triggered between the moment that a visitor is added to an experiment and the end of the the specified results time range are attributed to the variation to which that visitor was exposed.  For more information, see the [\"How Optimizely Counts Conversions\" Knowledge Base article](https://help.optimizely.com/Analyze_Results/How_Optimizely_counts_conversions)."
   ]
  },
  {
   "cell_type": "code",
   "execution_count": 33,
   "metadata": {},
   "outputs": [],
   "source": [
    "# Experiment events are the conversion events that we believe were influenced by an experiment\n",
    "# The \"attribution window\" specifies the length of time that an experiment's \"influence\" lasts\n",
    "# after a user is exposed to a treatment for the first time.\n",
    "ATTRIBUTION_WINDOW_HOURS = 24 * 60 \n",
    "\n",
    "# Create the experiment_events view\n",
    "experiment_events = spark.sql(f\"\"\"\n",
    "    SELECT\n",
    "        u.experiment_id,\n",
    "        u.experiment_name,\n",
    "        u.variation_id,\n",
    "        u.variation_name,\n",
    "        e.*\n",
    "    FROM\n",
    "        experiment_units u INNER JOIN events e ON u.visitor_id = e.visitor_id\n",
    "    WHERE\n",
    "        e.timestamp BETWEEN u.timestamp AND (u.timestamp + INTERVAL {ATTRIBUTION_WINDOW_HOURS} HOURS)\n",
    "\"\"\")\n",
    "experiment_events.createOrReplaceTempView(\"experiment_events\")"
   ]
  },
  {
   "cell_type": "markdown",
   "metadata": {},
   "source": [
    "Let's examine our Experiment Events dataset:"
   ]
  },
  {
   "cell_type": "code",
   "execution_count": 34,
   "metadata": {},
   "outputs": [
    {
     "data": {
      "text/html": [
       "<table border='1'>\n",
       "<tr><th>timestamp</th><th>visitor_id</th><th>experiment_name</th><th>variation_name</th><th>event_name</th><th>tags</th><th>revenue</th></tr>\n",
       "<tr><td>2020-09-14 11:21:40.178</td><td>user_0</td><td>covid_messaging_experiment</td><td>control</td><td>homepage_view</td><td>[]</td><td>0</td></tr>\n",
       "<tr><td>2020-09-14 11:21:40.279</td><td>user_1</td><td>covid_messaging_experiment</td><td>control</td><td>homepage_view</td><td>[]</td><td>0</td></tr>\n",
       "<tr><td>2020-09-14 11:21:41.199</td><td>user_10</td><td>covid_messaging_experiment</td><td>control</td><td>homepage_view</td><td>[]</td><td>0</td></tr>\n",
       "<tr><td>2020-09-14 11:21:50.365</td><td>user_100</td><td>covid_messaging_experiment</td><td>message_2</td><td>homepage_view</td><td>[]</td><td>0</td></tr>\n",
       "<tr><td>2020-09-14 11:23:21.951</td><td>user_1000</td><td>covid_messaging_experiment</td><td>control</td><td>homepage_view</td><td>[]</td><td>0</td></tr>\n",
       "<tr><td>2020-09-14 11:23:22.053</td><td>user_1001</td><td>covid_messaging_experiment</td><td>message_1</td><td>homepage_view</td><td>[]</td><td>0</td></tr>\n",
       "<tr><td>2020-09-14 11:23:22.154</td><td>user_1002</td><td>covid_messaging_experiment</td><td>message_1</td><td>homepage_view</td><td>[]</td><td>0</td></tr>\n",
       "<tr><td>2020-09-14 11:23:22.255</td><td>user_1003</td><td>covid_messaging_experiment</td><td>control</td><td>homepage_view</td><td>[]</td><td>0</td></tr>\n",
       "<tr><td>2020-09-14 11:23:22.357</td><td>user_1004</td><td>covid_messaging_experiment</td><td>message_2</td><td>homepage_view</td><td>[]</td><td>0</td></tr>\n",
       "<tr><td>2020-09-14 11:23:22.458</td><td>user_1005</td><td>covid_messaging_experiment</td><td>control</td><td>homepage_view</td><td>[]</td><td>0</td></tr>\n",
       "</table>\n"
      ],
      "text/plain": [
       "+-----------------------+----------+--------------------------+--------------+-------------+----+-------+\n",
       "|              timestamp|visitor_id|           experiment_name|variation_name|   event_name|tags|revenue|\n",
       "+-----------------------+----------+--------------------------+--------------+-------------+----+-------+\n",
       "|2020-09-14 11:21:40.178|    user_0|covid_messaging_experiment|       control|homepage_view|  []|      0|\n",
       "|2020-09-14 11:21:40.279|    user_1|covid_messaging_experiment|       control|homepage_view|  []|      0|\n",
       "|2020-09-14 11:21:41.199|   user_10|covid_messaging_experiment|       control|homepage_view|  []|      0|\n",
       "|2020-09-14 11:21:50.365|  user_100|covid_messaging_experiment|     message_2|homepage_view|  []|      0|\n",
       "|2020-09-14 11:23:21.951| user_1000|covid_messaging_experiment|       control|homepage_view|  []|      0|\n",
       "|2020-09-14 11:23:22.053| user_1001|covid_messaging_experiment|     message_1|homepage_view|  []|      0|\n",
       "|2020-09-14 11:23:22.154| user_1002|covid_messaging_experiment|     message_1|homepage_view|  []|      0|\n",
       "|2020-09-14 11:23:22.255| user_1003|covid_messaging_experiment|       control|homepage_view|  []|      0|\n",
       "|2020-09-14 11:23:22.357| user_1004|covid_messaging_experiment|     message_2|homepage_view|  []|      0|\n",
       "|2020-09-14 11:23:22.458| user_1005|covid_messaging_experiment|       control|homepage_view|  []|      0|\n",
       "+-----------------------+----------+--------------------------+--------------+-------------+----+-------+"
      ]
     },
     "execution_count": 34,
     "metadata": {},
     "output_type": "execute_result"
    }
   ],
   "source": [
    "spark.sql(\"\"\"\n",
    "    SELECT\n",
    "        timestamp,\n",
    "        visitor_id,\n",
    "        experiment_name,\n",
    "        variation_name,\n",
    "        event_name,\n",
    "        tags,\n",
    "        revenue\n",
    "    FROM\n",
    "        experiment_events\n",
    "    LIMIT 10\n",
    "\"\"\")"
   ]
  },
  {
   "cell_type": "markdown",
   "metadata": {},
   "source": [
    "As above, let's count the number of events that were influenced by each variation:"
   ]
  },
  {
   "cell_type": "code",
   "execution_count": 35,
   "metadata": {},
   "outputs": [
    {
     "data": {
      "text/html": [
       "<table border='1'>\n",
       "<tr><th>experiment_name</th><th>variation_name</th><th>event_name</th><th>event_count</th></tr>\n",
       "<tr><td>covid_messaging_experiment</td><td>control</td><td>add_to_cart</td><td>326</td></tr>\n",
       "<tr><td>covid_messaging_experiment</td><td>control</td><td>detail_page_view</td><td>1799</td></tr>\n",
       "<tr><td>covid_messaging_experiment</td><td>control</td><td>homepage_view</td><td>3304</td></tr>\n",
       "<tr><td>covid_messaging_experiment</td><td>control</td><td>purchase</td><td>326</td></tr>\n",
       "<tr><td>covid_messaging_experiment</td><td>message_1</td><td>add_to_cart</td><td>338</td></tr>\n",
       "<tr><td>covid_messaging_experiment</td><td>message_1</td><td>detail_page_view</td><td>2414</td></tr>\n",
       "<tr><td>covid_messaging_experiment</td><td>message_1</td><td>homepage_view</td><td>3367</td></tr>\n",
       "<tr><td>covid_messaging_experiment</td><td>message_1</td><td>purchase</td><td>338</td></tr>\n",
       "<tr><td>covid_messaging_experiment</td><td>message_2</td><td>add_to_cart</td><td>446</td></tr>\n",
       "<tr><td>covid_messaging_experiment</td><td>message_2</td><td>detail_page_view</td><td>2900</td></tr>\n",
       "<tr><td>covid_messaging_experiment</td><td>message_2</td><td>homepage_view</td><td>3329</td></tr>\n",
       "<tr><td>covid_messaging_experiment</td><td>message_2</td><td>purchase</td><td>446</td></tr>\n",
       "</table>\n"
      ],
      "text/plain": [
       "+--------------------------+--------------+----------------+-----------+\n",
       "|           experiment_name|variation_name|      event_name|event_count|\n",
       "+--------------------------+--------------+----------------+-----------+\n",
       "|covid_messaging_experiment|       control|     add_to_cart|        326|\n",
       "|covid_messaging_experiment|       control|detail_page_view|       1799|\n",
       "|covid_messaging_experiment|       control|   homepage_view|       3304|\n",
       "|covid_messaging_experiment|       control|        purchase|        326|\n",
       "|covid_messaging_experiment|     message_1|     add_to_cart|        338|\n",
       "|covid_messaging_experiment|     message_1|detail_page_view|       2414|\n",
       "|covid_messaging_experiment|     message_1|   homepage_view|       3367|\n",
       "|covid_messaging_experiment|     message_1|        purchase|        338|\n",
       "|covid_messaging_experiment|     message_2|     add_to_cart|        446|\n",
       "|covid_messaging_experiment|     message_2|detail_page_view|       2900|\n",
       "|covid_messaging_experiment|     message_2|   homepage_view|       3329|\n",
       "|covid_messaging_experiment|     message_2|        purchase|        446|\n",
       "+--------------------------+--------------+----------------+-----------+"
      ]
     },
     "execution_count": 35,
     "metadata": {},
     "output_type": "execute_result"
    }
   ],
   "source": [
    "spark.sql(f\"\"\"\n",
    "    SELECT\n",
    "        experiment_name,\n",
    "        variation_name,\n",
    "        event_name,\n",
    "        count(*) as event_count\n",
    "    FROM\n",
    "        experiment_events\n",
    "    GROUP BY\n",
    "        experiment_name,\n",
    "        variation_name,\n",
    "        event_name\n",
    "    ORDER BY\n",
    "        experiment_name ASC,\n",
    "        variation_name ASC,\n",
    "        event_name ASC\n",
    "\"\"\")"
   ]
  },
  {
   "cell_type": "markdown",
   "metadata": {},
   "source": [
    "## Writing our datasets to disk\n",
    "\n",
    "We'll write our experiment units and events datasets to disk so that they may be used for other analysis tasks.  Experiment unit data is partitioned by `experiment_id` and experiment event data is partitioned by `event_name`."
   ]
  },
  {
   "cell_type": "code",
   "execution_count": 38,
   "metadata": {},
   "outputs": [],
   "source": [
    "if not SKIP_WRITING_OUTPUT_DATA_TO_DISK: \n",
    "    \n",
    "    experiment_units_output_dir = os.path.join(optimizely_data_dir, \"type=experiment_units\")\n",
    "    \n",
    "    experiment_units \\\n",
    "        .coalesce(1) \\\n",
    "        .write.mode('overwrite') \\\n",
    "        .partitionBy(\"experiment_id\") \\\n",
    "        .parquet(experiment_units_output_dir)\n",
    "    \n",
    "    experiment_events_output_dir = os.path.join(optimizely_data_dir, \"type=experiment_events\")\n",
    "    \n",
    "    experiment_events \\\n",
    "        .coalesce(1) \\\n",
    "        .write.mode('overwrite') \\\n",
    "        .partitionBy(\"event_name\") \\\n",
    "        .parquet(experiment_events_output_dir)\n",
    "    \n",
    "    "
   ]
  }
 ],
 "metadata": {
  "kernelspec": {
   "display_name": "Python 3 (Optimizely Labs Environment)",
   "language": "python",
   "name": "optimizelylabs"
  },
  "language_info": {
   "codemirror_mode": {
    "name": "ipython",
    "version": 3
   },
   "file_extension": ".py",
   "mimetype": "text/x-python",
   "name": "python",
   "nbconvert_exporter": "python",
   "pygments_lexer": "ipython3",
   "version": "3.7.6"
  }
 },
 "nbformat": 4,
 "nbformat_minor": 4
}
