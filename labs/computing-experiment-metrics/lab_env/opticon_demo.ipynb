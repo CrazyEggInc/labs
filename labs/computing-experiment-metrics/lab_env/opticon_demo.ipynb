{
 "cells": [
  {
   "cell_type": "markdown",
   "metadata": {},
   "source": [
    "# Data Workshop: Custom Experiment Analysis with Optimizely Data Services"
   ]
  },
  {
   "cell_type": "markdown",
   "metadata": {},
   "source": [
    "## The experiment\n",
    "\n",
    "Show experiment variations"
   ]
  },
  {
   "cell_type": "markdown",
   "metadata": {},
   "source": [
    "## The challenge\n",
    "\n",
    "What impact did this have on call center volumes?"
   ]
  },
  {
   "cell_type": "markdown",
   "metadata": {},
   "source": [
    "## What we're going to do\n",
    "\n",
    "1. Download Optimizely decision data for our experiment\n",
    "2. Join that data with our call center log data\n",
    "3. Compute several useful intermediate experiment datasets\n",
    "4. Compute a set of experiment metrics\n",
    "5. Compute sequential p-values and confidence intervals using Optimizely Stats Engine as a service\n",
    "6. Render a simple experiment results report"
   ]
  },
  {
   "cell_type": "markdown",
   "metadata": {},
   "source": [
    "## Downloading Optimizely Enriched Event data"
   ]
  },
  {
   "cell_type": "code",
   "execution_count": 15,
   "metadata": {},
   "outputs": [
    {
     "name": "stdout",
     "output_type": "stream",
     "text": [
      "env: OPTIMIZELY_DATA_DIR=./opticon_data\n",
      "env: OPTIMIZELY_API_TOKEN=2:bqZXaNE24MFUlhyGFrKKY9DMA-G02xoou7fR0nQlQ3bT89uvjtF8\n"
     ]
    }
   ],
   "source": [
    "%env OPTIMIZELY_DATA_DIR=./opticon_data\n",
    "%env OPTIMIZELY_API_TOKEN=2:bqZXaNE24MFUlhyGFrKKY9DMA-G02xoou7fR0nQlQ3bT89uvjtF8"
   ]
  },
  {
   "cell_type": "markdown",
   "metadata": {},
   "source": [
    "### Download experiment decision data"
   ]
  },
  {
   "cell_type": "code",
   "execution_count": 18,
   "metadata": {},
   "outputs": [
    {
     "name": "stdout",
     "output_type": "stream",
     "text": [
      "download: s3://optimizely-events-data/v1/account_id=596780373/type=decisions/date=2020-05-25/experiment=18156943409/part-00000-f1c6c551-2762-401d-bc5e-c4dfb9cfd078.c000.snappy.parquet to opticon_data/type=decisions/date=2020-05-25/experiment=18156943409/part-00000-f1c6c551-2762-401d-bc5e-c4dfb9cfd078.c000.snappy.parquet\n"
     ]
    }
   ],
   "source": [
    "!oevents load --type decisions --experiment 18156943409 --date 2020-05-25"
   ]
  },
  {
   "cell_type": "markdown",
   "metadata": {},
   "source": [
    "### Download conversion event data"
   ]
  },
  {
   "cell_type": "code",
   "execution_count": 19,
   "metadata": {},
   "outputs": [
    {
     "name": "stdout",
     "output_type": "stream",
     "text": [
      "download: s3://optimizely-events-data/v1/account_id=596780373/type=events/date=2020-05-25/event=add_to_cart/part-00000-a60ce976-cfb4-4459-b49d-ae45ef299a2b.c000.snappy.parquet to opticon_data/type=events/date=2020-05-25/event=add_to_cart/part-00000-a60ce976-cfb4-4459-b49d-ae45ef299a2b.c000.snappy.parquet\n"
     ]
    }
   ],
   "source": [
    "!oevents load --type events --event add_to_cart --date 2020-05-25"
   ]
  },
  {
   "cell_type": "markdown",
   "metadata": {},
   "source": [
    "# Enrich and compute intermediate experiment datasets\n",
    "\n",
    "We'll use logic encoded in three other notebooks in this directory to process our downloaded data."
   ]
  },
  {
   "cell_type": "code",
   "execution_count": 20,
   "metadata": {},
   "outputs": [],
   "source": [
    "from lib.util import get_or_create_spark_session\n",
    "\n",
    "spark = get_or_create_spark_session()"
   ]
  },
  {
   "cell_type": "code",
   "execution_count": 21,
   "metadata": {},
   "outputs": [
    {
     "name": "stdout",
     "output_type": "stream",
     "text": [
      "Successfully authenticated to Optimizely.\n",
      "Found these experiment IDs in the loaded decision data:\n",
      "    18156943409\n"
     ]
    },
    {
     "name": "stderr",
     "output_type": "stream",
     "text": [
      "/opt/anaconda3/envs/optimizelylabs/lib/python3.7/site-packages/bravado_core/spec.py:464: Warning: uuid format is not registered with bravado-core!\n",
      "  category=Warning,\n",
      "/opt/anaconda3/envs/optimizelylabs/lib/python3.7/site-packages/bravado_core/spec.py:464: Warning: url format is not registered with bravado-core!\n",
      "  category=Warning,\n"
     ]
    },
    {
     "name": "stdout",
     "output_type": "stream",
     "text": [
      "[  experiment_id variation_id    experiment_name variation_name  \\\n",
      "0   18156943409  18174970251  free_shipping_exp        control   \n",
      "1   18156943409  18112613000  free_shipping_exp  free_shipping   \n",
      "\n",
      "  reference_variation_id  \n",
      "0            18174970251  \n",
      "1            18174970251  ]\n"
     ]
    }
   ],
   "source": [
    "%run ./00_enriching_decision_data.ipynb"
   ]
  },
  {
   "cell_type": "markdown",
   "metadata": {},
   "source": [
    "### Experiment Units\n",
    "\n",
    "**Experiment units** are the individual units that are exposed to a control or treatment in the course of an online experiment.  In most online experiments, subjects are website visitors or app users. However, depending on your experiment design, treatments may also be applied to individual user sessions, service requests, search queries, etc. "
   ]
  },
  {
   "cell_type": "code",
   "execution_count": 7,
   "metadata": {},
   "outputs": [],
   "source": [
    "%run ./01_computing_experiment_units.ipynb"
   ]
  },
  {
   "cell_type": "markdown",
   "metadata": {},
   "source": [
    "Let's take a look at our intermediate experiment units dataset:"
   ]
  },
  {
   "cell_type": "code",
   "execution_count": 8,
   "metadata": {},
   "outputs": [
    {
     "data": {
      "text/html": [
       "<table border='1'>\n",
       "<tr><th>experiment_name</th><th>variation_name</th><th>unit_count</th></tr>\n",
       "<tr><td>free_shipping_exp</td><td>free_shipping</td><td>4487</td></tr>\n",
       "<tr><td>free_shipping_exp</td><td>control</td><td>4514</td></tr>\n",
       "</table>\n"
      ],
      "text/plain": [
       "+-----------------+--------------+----------+\n",
       "|  experiment_name|variation_name|unit_count|\n",
       "+-----------------+--------------+----------+\n",
       "|free_shipping_exp| free_shipping|      4487|\n",
       "|free_shipping_exp|       control|      4514|\n",
       "+-----------------+--------------+----------+"
      ]
     },
     "execution_count": 8,
     "metadata": {},
     "output_type": "execute_result"
    }
   ],
   "source": [
    "spark.sql(\"\"\"\n",
    "    SELECT \n",
    "        experiment_name, \n",
    "        variation_name, \n",
    "        count(*) as unit_count\n",
    "    FROM \n",
    "        experiment_units \n",
    "    GROUP BY\n",
    "        experiment_name,\n",
    "        variation_name\n",
    "\"\"\")"
   ]
  },
  {
   "cell_type": "markdown",
   "metadata": {},
   "source": [
    "### Experiment Events\n",
    "\n",
    "An **experiment event** is an event, such as a button click or a purchase, that was influenced by an experiment.  We compute this view by isolating the conversion events triggered during a finite window of time (called the _attribution window_) after a visitor has been exposed to an experiment treatment."
   ]
  },
  {
   "cell_type": "code",
   "execution_count": 9,
   "metadata": {},
   "outputs": [],
   "source": [
    "%run ./02_computing_experiment_events.ipynb"
   ]
  },
  {
   "cell_type": "code",
   "execution_count": 10,
   "metadata": {},
   "outputs": [
    {
     "data": {
      "text/html": [
       "<table border='1'>\n",
       "<tr><th>experiment_name</th><th>variation_name</th><th>event_name</th><th>count(1)</th></tr>\n",
       "<tr><td>free_shipping_exp</td><td>free_shipping</td><td>add_to_cart</td><td>2577</td></tr>\n",
       "<tr><td>free_shipping_exp</td><td>control</td><td>add_to_cart</td><td>2655</td></tr>\n",
       "</table>\n"
      ],
      "text/plain": [
       "+-----------------+--------------+-----------+--------+\n",
       "|  experiment_name|variation_name| event_name|count(1)|\n",
       "+-----------------+--------------+-----------+--------+\n",
       "|free_shipping_exp| free_shipping|add_to_cart|    2577|\n",
       "|free_shipping_exp|       control|add_to_cart|    2655|\n",
       "+-----------------+--------------+-----------+--------+"
      ]
     },
     "execution_count": 10,
     "metadata": {},
     "output_type": "execute_result"
    }
   ],
   "source": [
    "spark.sql(\"\"\"\n",
    "    SELECT \n",
    "        experiment_name,\n",
    "        variation_name,\n",
    "        event_name, \n",
    "        count(1) \n",
    "    FROM \n",
    "        experiment_events \n",
    "    GROUP BY \n",
    "        experiment_name, \n",
    "        variation_name,\n",
    "        event_name\n",
    "\"\"\")"
   ]
  },
  {
   "cell_type": "code",
   "execution_count": 27,
   "metadata": {},
   "outputs": [
    {
     "data": {
      "text/html": [
       "<table border='1'>\n",
       "<tr><th>experiment_id</th><th>experiment_name</th><th>variation_id</th><th>variation_name</th><th>uuid</th><th>timestamp</th><th>process_timestamp</th><th>visitor_id</th><th>session_id</th><th>account_id</th><th>experiments</th><th>entity_id</th><th>attributes</th><th>user_ip</th><th>user_agent</th><th>referer</th><th>event_type</th><th>event_name</th><th>revenue</th><th>value</th><th>quantity</th><th>tags</th><th>revision</th><th>client_engine</th><th>client_version</th><th>date</th><th>event</th></tr>\n",
       "<tr><td>18156943409</td><td>free_shipping_exp</td><td>18174970251</td><td>control</td><td>22A0270C-EF16-4369-A674-89650D02CA1E</td><td>2020-05-25 15:29:24.445</td><td>2020-05-25 15:29:16.741</td><td>visitor_1590445764445</td><td>1144071362</td><td>596780373</td><td>[[18149940006, 18156943409, 18174970251, false]]</td><td>15776040040</td><td>[[100,, browserId, ie], [300,, device, desktop], [600,, source_type, campaign], [200,, campaign, winter campaign], [,...</td><td>75.111.77.0</td><td>Mozilla/5.0 (Macintosh; Intel Mac OS X 10_15_4) AppleWebKit/537.36 (KHTML, like Gecko) Chrome/81.0.4044.138 Safari/53...</td><td>https://app.optimizely.com/</td><td>null</td><td>add_to_cart</td><td>0</td><td>0.0</td><td>null</td><td>[]</td><td>null</td><td>ricky/fakedata.pwned</td><td>1.0.0</td><td>2020-05-25</td><td>add_to_cart</td></tr>\n",
       "<tr><td>18156943409</td><td>free_shipping_exp</td><td>18112613000</td><td>free_shipping</td><td>FC0471CB-FD10-4251-AA4D-6725F9A5AE42</td><td>2020-05-25 15:32:47.245</td><td>2020-05-25 15:29:20.394</td><td>visitor_1590445967245</td><td>576740992</td><td>596780373</td><td>[[18149940006, 18156943409, 18112613000, false]]</td><td>15776040040</td><td>[[100,, browserId, ff], [300,, device, tablet], [600,, source_type, search], [200,, campaign, frequent visitors], [, ...</td><td>75.111.77.0</td><td>Mozilla/5.0 (Macintosh; Intel Mac OS X 10_15_4) AppleWebKit/537.36 (KHTML, like Gecko) Chrome/81.0.4044.138 Safari/53...</td><td>https://app.optimizely.com/</td><td>null</td><td>add_to_cart</td><td>0</td><td>0.0</td><td>null</td><td>[]</td><td>null</td><td>ricky/fakedata.pwned</td><td>1.0.0</td><td>2020-05-25</td><td>add_to_cart</td></tr>\n",
       "</table>\n"
      ],
      "text/plain": [
       "+-------------+-----------------+------------+--------------+------------------------------------+-----------------------+-----------------------+---------------------+----------+----------+------------------------------------------------+-----------+------------------------------------------------------------------------------------------------------------------------+-----------+------------------------------------------------------------------------------------------------------------------------+---------------------------+----------+-----------+-------+-----+--------+----+--------+--------------------+--------------+----------+-----------+\n",
       "|experiment_id|  experiment_name|variation_id|variation_name|                                uuid|              timestamp|      process_timestamp|           visitor_id|session_id|account_id|                                     experiments|  entity_id|                                                                                                              attributes|    user_ip|                                                                                                              user_agent|                    referer|event_type| event_name|revenue|value|quantity|tags|revision|       client_engine|client_version|      date|      event|\n",
       "+-------------+-----------------+------------+--------------+------------------------------------+-----------------------+-----------------------+---------------------+----------+----------+------------------------------------------------+-----------+------------------------------------------------------------------------------------------------------------------------+-----------+------------------------------------------------------------------------------------------------------------------------+---------------------------+----------+-----------+-------+-----+--------+----+--------+--------------------+--------------+----------+-----------+\n",
       "|  18156943409|free_shipping_exp| 18174970251|       control|22A0270C-EF16-4369-A674-89650D02CA1E|2020-05-25 15:29:24.445|2020-05-25 15:29:16.741|visitor_1590445764445|1144071362| 596780373|[[18149940006, 18156943409, 18174970251, false]]|15776040040|[[100,, browserId, ie], [300,, device, desktop], [600,, source_type, campaign], [200,, campaign, winter campaign], [,...|75.111.77.0|Mozilla/5.0 (Macintosh; Intel Mac OS X 10_15_4) AppleWebKit/537.36 (KHTML, like Gecko) Chrome/81.0.4044.138 Safari/53...|https://app.optimizely.com/|      null|add_to_cart|      0|  0.0|    null|  []|    null|ricky/fakedata.pwned|         1.0.0|2020-05-25|add_to_cart|\n",
       "|  18156943409|free_shipping_exp| 18112613000| free_shipping|FC0471CB-FD10-4251-AA4D-6725F9A5AE42|2020-05-25 15:32:47.245|2020-05-25 15:29:20.394|visitor_1590445967245| 576740992| 596780373|[[18149940006, 18156943409, 18112613000, false]]|15776040040|[[100,, browserId, ff], [300,, device, tablet], [600,, source_type, search], [200,, campaign, frequent visitors], [, ...|75.111.77.0|Mozilla/5.0 (Macintosh; Intel Mac OS X 10_15_4) AppleWebKit/537.36 (KHTML, like Gecko) Chrome/81.0.4044.138 Safari/53...|https://app.optimizely.com/|      null|add_to_cart|      0|  0.0|    null|  []|    null|ricky/fakedata.pwned|         1.0.0|2020-05-25|add_to_cart|\n",
       "+-------------+-----------------+------------+--------------+------------------------------------+-----------------------+-----------------------+---------------------+----------+----------+------------------------------------------------+-----------+------------------------------------------------------------------------------------------------------------------------+-----------+------------------------------------------------------------------------------------------------------------------------+---------------------------+----------+-----------+-------+-----+--------+----+--------+--------------------+--------------+----------+-----------+"
      ]
     },
     "execution_count": 27,
     "metadata": {},
     "output_type": "execute_result"
    }
   ],
   "source": [
    "spark.sql(\"SELECT * FROM experiment_events LIMIT 2\")"
   ]
  },
  {
   "cell_type": "markdown",
   "metadata": {},
   "source": [
    "## Compute experiment observations\n",
    "\n",
    "Next we'll compute a versatile dataset for experiment analysis: _experiment observations_.\n",
    "\n",
    "In this dataset we map each experiment subject (visitor) to a set of numerical observations made in the course of the experiment.  These observations may then be aggregated to compute _metrics_ we can analyze to measure the impact of our experiment.\n",
    "\n",
    "We'll start by creating an \"empty\" `observations` dataset from our subjects dataset."
   ]
  },
  {
   "cell_type": "markdown",
   "metadata": {},
   "source": [
    "Now we'll define a handy function for adding a new set of observations to our view. This function takes a `name` and a `query` as input and executes the following transformations:\n",
    "1. Execute the supplied `query` on the `experiment_events` view\n",
    "2. Joins the resulting observations with our `observations` view and updates it\n",
    "\n",
    "This function builds our `observations` dataset, one column at time."
   ]
  },
  {
   "cell_type": "code",
   "execution_count": 20,
   "metadata": {},
   "outputs": [],
   "source": [
    "spark.sql(f\"\"\"\n",
    "    CREATE OR REPLACE TEMPORARY VIEW observations AS\n",
    "    SELECT * FROM experiment_units\n",
    "\"\"\")\n",
    "\n",
    "def add_observations(metric_name, query):\n",
    "    query_frame = spark.sql(query)\n",
    "    query_frame.createOrReplaceTempView(\"new_observations\")\n",
    "    spark.sql(f\"\"\"\n",
    "        CREATE OR REPLACE TEMPORARY VIEW observations AS\n",
    "            SELECT\n",
    "                o.*,\n",
    "                COALESCE(n.observation, 0) as `{metric_name}`\n",
    "            FROM\n",
    "                observations o LEFT JOIN new_observations n on o.{UNIT_ID_FIELD} = n.{UNIT_ID_FIELD}\n",
    "    \"\"\")\n",
    "    # Return a sample of the new observations dataframe\n",
    "    return spark.sql(f\"SELECT {UNIT_ID_FIELD}, variation_name, timestamp, `{metric_name}` FROM observations LIMIT 5\")"
   ]
  },
  {
   "cell_type": "markdown",
   "metadata": {},
   "source": [
    "Now we'll define a set of observations by executing simple queries on our experiment events.  Each query computes a single _observation_ for each subject."
   ]
  },
  {
   "cell_type": "markdown",
   "metadata": {},
   "source": [
    "### Metric: Add to cart unique Conversions\n",
    "\n",
    "In this query we compute the number of unique conversions on a particular event. The resulting observation should be `1` if the visitor triggered the event in question during the _attribution window_ and `0` otherwise.  \n",
    "\n",
    "Since _any_ visitor who triggered an appropriate experiment event should be counted, we can simply select a `1`. "
   ]
  },
  {
   "cell_type": "code",
   "execution_count": 21,
   "metadata": {},
   "outputs": [
    {
     "data": {
      "text/html": [
       "<table border='1'>\n",
       "<tr><th>visitor_id</th><th>variation_name</th><th>timestamp</th><th>Add to cart conversion rate</th></tr>\n",
       "<tr><td>visitor_1590445669165</td><td>free_shipping</td><td>2020-05-25 15:27:49.165</td><td>0</td></tr>\n",
       "<tr><td>visitor_1590445676365</td><td>control</td><td>2020-05-25 15:27:56.365</td><td>0</td></tr>\n",
       "<tr><td>visitor_1590445778365</td><td>control</td><td>2020-05-25 15:29:38.365</td><td>1</td></tr>\n",
       "<tr><td>visitor_1590445862125</td><td>free_shipping</td><td>2020-05-25 15:31:02.125</td><td>1</td></tr>\n",
       "<tr><td>visitor_1590445923325</td><td>free_shipping</td><td>2020-05-25 15:32:03.325</td><td>0</td></tr>\n",
       "</table>\n"
      ],
      "text/plain": [
       "+---------------------+--------------+-----------------------+---------------------------+\n",
       "|           visitor_id|variation_name|              timestamp|Add to cart conversion rate|\n",
       "+---------------------+--------------+-----------------------+---------------------------+\n",
       "|visitor_1590445669165| free_shipping|2020-05-25 15:27:49.165|                          0|\n",
       "|visitor_1590445676365|       control|2020-05-25 15:27:56.365|                          0|\n",
       "|visitor_1590445778365|       control|2020-05-25 15:29:38.365|                          1|\n",
       "|visitor_1590445862125| free_shipping|2020-05-25 15:31:02.125|                          1|\n",
       "|visitor_1590445923325| free_shipping|2020-05-25 15:32:03.325|                          0|\n",
       "+---------------------+--------------+-----------------------+---------------------------+"
      ]
     },
     "execution_count": 21,
     "metadata": {},
     "output_type": "execute_result"
    }
   ],
   "source": [
    "## Unique conversions on the \"add to cart\" event.\n",
    "add_observations('Add to cart conversion rate',\n",
    "    f\"\"\"\n",
    "        SELECT\n",
    "            {UNIT_ID_FIELD},\n",
    "            1 as observation\n",
    "        FROM\n",
    "            experiment_events\n",
    "        WHERE\n",
    "            event_name = 'add_to_cart'\n",
    "        GROUP BY\n",
    "            {UNIT_ID_FIELD}\n",
    "    \"\"\"\n",
    ")"
   ]
  },
  {
   "cell_type": "markdown",
   "metadata": {},
   "source": [
    "### Metric: Add to cart Conversions per visitor\n",
    "\n",
    "In this query we compute the number of unique conversions on a particular event. The resulting observation should be `1` if the visitor triggered the event in question during the _attribution window_ and `0` otherwise.  \n",
    "\n",
    "Since _any_ visitor who triggered an appropriate experiment event should be counted, we can simply select a `1`. "
   ]
  },
  {
   "cell_type": "code",
   "execution_count": 22,
   "metadata": {},
   "outputs": [
    {
     "data": {
      "text/html": [
       "<table border='1'>\n",
       "<tr><th>visitor_id</th><th>variation_name</th><th>timestamp</th><th>Add to cart conversions per visitor</th></tr>\n",
       "<tr><td>visitor_1590445669165</td><td>free_shipping</td><td>2020-05-25 15:27:49.165</td><td>0</td></tr>\n",
       "<tr><td>visitor_1590445676365</td><td>control</td><td>2020-05-25 15:27:56.365</td><td>0</td></tr>\n",
       "<tr><td>visitor_1590445778365</td><td>control</td><td>2020-05-25 15:29:38.365</td><td>1</td></tr>\n",
       "<tr><td>visitor_1590445862125</td><td>free_shipping</td><td>2020-05-25 15:31:02.125</td><td>1</td></tr>\n",
       "<tr><td>visitor_1590445923325</td><td>free_shipping</td><td>2020-05-25 15:32:03.325</td><td>0</td></tr>\n",
       "</table>\n"
      ],
      "text/plain": [
       "+---------------------+--------------+-----------------------+-----------------------------------+\n",
       "|           visitor_id|variation_name|              timestamp|Add to cart conversions per visitor|\n",
       "+---------------------+--------------+-----------------------+-----------------------------------+\n",
       "|visitor_1590445669165| free_shipping|2020-05-25 15:27:49.165|                                  0|\n",
       "|visitor_1590445676365|       control|2020-05-25 15:27:56.365|                                  0|\n",
       "|visitor_1590445778365|       control|2020-05-25 15:29:38.365|                                  1|\n",
       "|visitor_1590445862125| free_shipping|2020-05-25 15:31:02.125|                                  1|\n",
       "|visitor_1590445923325| free_shipping|2020-05-25 15:32:03.325|                                  0|\n",
       "+---------------------+--------------+-----------------------+-----------------------------------+"
      ]
     },
     "execution_count": 22,
     "metadata": {},
     "output_type": "execute_result"
    }
   ],
   "source": [
    "## Unique conversions on the \"capture\" event.\n",
    "add_observations('Add to cart conversions per visitor',\n",
    "    f\"\"\"\n",
    "        SELECT\n",
    "            {UNIT_ID_FIELD},\n",
    "            count(1) as observation\n",
    "        FROM\n",
    "            experiment_events\n",
    "        WHERE\n",
    "            event_name = \"add_to_cart\"\n",
    "        GROUP BY\n",
    "            {UNIT_ID_FIELD}\n",
    "    \"\"\"\n",
    ")"
   ]
  },
  {
   "cell_type": "markdown",
   "metadata": {},
   "source": [
    "## Extract useful views from observation data\n",
    "\n",
    "Extract metric names, experiment IDs, reference variation ids, and metric-specific observation data from our loaded observation data."
   ]
  },
  {
   "cell_type": "code",
   "execution_count": 23,
   "metadata": {},
   "outputs": [],
   "source": [
    "from lib.util import map_from_columns\n",
    "\n",
    "observations = spark.sql(\"SELECT * FROM observations\")\n",
    "experiment_names = map_from_columns(observations, \"experiment_id\", \"experiment_name\")\n",
    "reference_variation_ids = map_from_columns(observations, \"experiment_id\", \"reference_variation_id\")\n",
    "metric_names = observations.drop(*experiment_units.columns).columns\n",
    "\n",
    "def get_variation_names_from_observations(exp_id):\n",
    "    exp_observations = spark.sql(f\"SELECT * FROM observations WHERE experiment_id='{exp_id}'\")\n",
    "    return map_from_columns(exp_observations, \"variation_id\", \"variation_name\")"
   ]
  },
  {
   "cell_type": "code",
   "execution_count": 24,
   "metadata": {},
   "outputs": [],
   "source": [
    "def get_aggregate_metric_observations_df(experiment_id, metric_name, interval_resolution=\"HOUR\"):\n",
    "    return spark.sql(f\"\"\"\n",
    "        SELECT\n",
    "            '{metric_name}' as metric_name,\n",
    "            experiment_id,\n",
    "            experiment_name,\n",
    "            variation_id,\n",
    "            variation_name,\n",
    "            reference_variation_id,\n",
    "            DATE_TRUNC('{interval_resolution}', timestamp) as interval_timestamp,\n",
    "            count(1) as unit_count,\n",
    "            SUM(`{metric_name}`) as unit_observation_sum,\n",
    "            SUM(`{metric_name}`*`{metric_name}`) as unit_observation_sum_of_squares\n",
    "        FROM\n",
    "            observations\n",
    "        WHERE\n",
    "            experiment_id = '{experiment_id}'\n",
    "        GROUP BY\n",
    "            metric_name,\n",
    "            experiment_id,\n",
    "            experiment_name,\n",
    "            variation_id,\n",
    "            variation_name,\n",
    "            reference_variation_id,\n",
    "            interval_timestamp\n",
    "        ORDER BY\n",
    "            interval_timestamp ASC\n",
    "    \"\"\").toPandas()"
   ]
  },
  {
   "cell_type": "markdown",
   "metadata": {},
   "source": [
    "## Rendering a results report\n",
    "\n",
    "In this section we'll define helper functions for rendering an experiment report."
   ]
  },
  {
   "cell_type": "code",
   "execution_count": 25,
   "metadata": {},
   "outputs": [],
   "source": [
    "from IPython.display import display, Markdown, HTML\n",
    "from lib.report import render\n",
    "import plotly.graph_objects as go\n",
    "import plotly.io as pio\n",
    "import pandas as pd\n",
    "from lib import ses_client\n",
    "\n",
    "pio.renderers.default = \"svg\"\n",
    "\n",
    "def plot_metric_stats(ses_results_df, metric_name, field, variation_names):\n",
    "    fig = go.Figure()\n",
    "\n",
    "    for v in ses_results_df.variation_id.unique():\n",
    "        fig.add_trace(\n",
    "            go.Scatter(\n",
    "                x=ses_results_df[ses_results_df.variation_id == v].interval_timestamp,\n",
    "                y=ses_results_df[field],\n",
    "                mode=\"lines\",\n",
    "                line=dict(shape=\"hv\"),\n",
    "                name=f\"variation: {variation_names.get(v, v)}\",\n",
    "                showlegend=True,\n",
    "            )\n",
    "        )\n",
    "    fig.update_layout(\n",
    "        yaxis_title=field,\n",
    "        title=f\"{metric_name}: {field}\",\n",
    "        #yaxis=dict(range=[min(ses_results_df[field]), max(ses_results_df[field])]),\n",
    "        xaxis_title=\"Timestamp\",\n",
    "    )\n",
    "    \n",
    "    return fig\n",
    "\n",
    "def render_experiment_report(experiment_id, reference_variation_id, stats_fields_to_plot=None, interval_resolution=\"HOUR\"):\n",
    "    clear_output()\n",
    "    \n",
    "    stats_fields_to_plot = stats_fields_to_plot or []\n",
    "    \n",
    "    metric_observations_dfs = [\n",
    "        get_aggregate_metric_observations_df(experiment_id, metric_name, interval_resolution)\n",
    "        for metric_name in metric_names\n",
    "    ]\n",
    "    \n",
    "    seq_stats_dfs = ses_client.make_ses_request(metric_observations_dfs, reference_variation_id)\n",
    "    \n",
    "    variation_names = get_variation_names_from_observations(experiment_id)\n",
    "    \n",
    "    display(Markdown(f\"# Experiment Report: `{experiment_names.get(experiment_id, experiment_id)}`\"))\n",
    "    for i, metric_name in enumerate(metric_names):\n",
    "        table_html = render.render_se_metric_overview_table(\n",
    "            observations_timeseries=metric_observations_dfs[i],\n",
    "            statistics=seq_stats_dfs[i],\n",
    "            reference_variation_id=reference_variation_id,\n",
    "            metric_name=metric_name,\n",
    "            variation_names=variation_names\n",
    "        )\n",
    "        display(HTML(table_html))\n",
    "        \n",
    "        for field in stats_fields_to_plot:\n",
    "            fig = plot_metric_stats(seq_stats_dfs[i], metric_name, field, variation_names)\n",
    "            fig.show(width=1200, height=500, scale=1)"
   ]
  },
  {
   "cell_type": "markdown",
   "metadata": {},
   "source": [
    "Next we'll use IPython's `interactive` module to render a dynamic experiment report"
   ]
  },
  {
   "cell_type": "code",
   "execution_count": 26,
   "metadata": {},
   "outputs": [
    {
     "data": {
      "application/vnd.jupyter.widget-view+json": {
       "model_id": "cbad062c2cd34852b1ee16356f5ff854",
       "version_major": 2,
       "version_minor": 0
      },
      "text/plain": [
       "interactive(children=(Dropdown(description='Experiment', options=(('free_shipping_exp', '18156943409'),), styl…"
      ]
     },
     "metadata": {},
     "output_type": "display_data"
    }
   ],
   "source": [
    "from ipywidgets import widgets, interact, interactive, Dropdown\n",
    "\n",
    "experiment_id_dropdown = Dropdown(\n",
    "    description='Experiment',\n",
    "    options=[(exp_name, exp_id) for exp_id, exp_name in experiment_names.items()],\n",
    "    style={'description_width': 'initial'},\n",
    ")\n",
    "\n",
    "hidden_experiment_id_select = Dropdown(\n",
    "    options=[(exp_name, exp_id) for exp_id, exp_name in experiment_names.items()]\n",
    ")\n",
    "hidden_experiment_id_select.layout.display = 'none'\n",
    "\n",
    "reference_variation_id_dropdown = Dropdown(\n",
    "    description=\"Baseline variation\",\n",
    "    style={'description_width': 'initial'},\n",
    ")\n",
    "\n",
    "stats_plots_select = widgets.SelectMultiple(\n",
    "    description='Plot vs time',\n",
    "    options=[\n",
    "        (\"Corrected p-value\", \"corrected_p_value\"), \n",
    "        (\"Estimated Lift\", \"lift_estimate\")\n",
    "    ],\n",
    "    value=[],\n",
    "    disabled=False\n",
    ")\n",
    "\n",
    "interval_resolution_dropdown = Dropdown(\n",
    "    description=\"Aggregation interval\",\n",
    "    options=[(\"Daily\", \"DAY\"), (\"Hourly\", \"HOUR\"), (\"Minutely\", \"MINUTE\")],\n",
    "    style={'description_width': 'initial'},\n",
    "    value=\"HOUR\"\n",
    ")\n",
    "\n",
    "def select_experiment(experiment_id):\n",
    "    \n",
    "    # clear_output()\n",
    "    \n",
    "    hidden_experiment_id_select.value = experiment_id\n",
    "    variation_names = get_variation_names_from_observations(experiment_id)\n",
    "    reference_variation_id_dropdown.options = [(var_name, var_id) for var_id, var_name in variation_names.items()]\n",
    "    reference_variation_id_dropdown.value = reference_variation_ids[experiment_id]\n",
    "    \n",
    "    u = interactive(\n",
    "        render_experiment_report, \n",
    "        experiment_id=hidden_experiment_id_select,\n",
    "        reference_variation_id=reference_variation_id_dropdown,\n",
    "        stats_fields_to_plot=stats_plots_select,\n",
    "        interval_resolution=interval_resolution_dropdown\n",
    "    )\n",
    "    \n",
    "    display(u)\n",
    "\n",
    "w = interactive(\n",
    "    select_experiment,\n",
    "    experiment_id=experiment_id_dropdown\n",
    ")\n",
    "\n",
    "display(w)"
   ]
  },
  {
   "cell_type": "markdown",
   "metadata": {},
   "source": [
    "## How to run this notebook\n",
    "\n",
    "This notebook lives in the [Optimizely Labs](http://github.com/optimizely/labs) repository.  You can download it and everything you need to run it by doing one of the following\n",
    "- Downloading a zipped copy of this Lab directory on the [Optimizely Labs page](https://www.optimizely.com/labs/computing-experiment-subjects/)\n",
    "- Downloading a [zipped copy of the Optimizely Labs repository](https://github.com/optimizely/labs/archive/master.zip) from Github\n",
    "- Cloning the [Github respository](http://github.com/optimizely/labs)\n",
    "\n",
    "Once you've downloaded this Lab directory (on its own, or as part of the [Optimizely Labs](http://github.com/optimizely/labs) repository), follow the instructions in the `README.md` file for this Lab."
   ]
  },
  {
   "cell_type": "code",
   "execution_count": null,
   "metadata": {},
   "outputs": [],
   "source": []
  }
 ],
 "metadata": {
  "kernelspec": {
   "display_name": "Python 3 (Optimizely Labs Environment)",
   "language": "python",
   "name": "optimizelylabs"
  },
  "language_info": {
   "codemirror_mode": {
    "name": "ipython",
    "version": 3
   },
   "file_extension": ".py",
   "mimetype": "text/x-python",
   "name": "python",
   "nbconvert_exporter": "python",
   "pygments_lexer": "ipython3",
   "version": "3.7.6"
  }
 },
 "nbformat": 4,
 "nbformat_minor": 4
}
